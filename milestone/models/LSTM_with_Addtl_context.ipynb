{
  "cells": [
    {
      "cell_type": "markdown",
      "metadata": {
        "id": "DCKM5mwenU30"
      },
      "source": [
        "# CSE251B Project Milestone Starter File"
      ]
    },
    {
      "cell_type": "markdown",
      "metadata": {
        "id": "MqGm_HJ3nU33"
      },
      "source": [
        "## Step 1: Import Dependencies:"
      ]
    },
    {
      "cell_type": "code",
      "source": [
        "%pip install torch_geometric"
      ],
      "metadata": {
        "colab": {
          "base_uri": "https://localhost:8080/"
        },
        "id": "l144d9VRE6Hb",
        "outputId": "e97bcb81-85b5-4d22-f391-4fd592e9bd15"
      },
      "execution_count": 1,
      "outputs": [
        {
          "output_type": "stream",
          "name": "stdout",
          "text": [
            "Collecting torch_geometric\n",
            "  Downloading torch_geometric-2.6.1-py3-none-any.whl.metadata (63 kB)\n",
            "\u001b[?25l     \u001b[90m━━━━━━━━━━━━━━━━━━━━━━━━━━━━━━━━━━━━━━━━\u001b[0m \u001b[32m0.0/63.1 kB\u001b[0m \u001b[31m?\u001b[0m eta \u001b[36m-:--:--\u001b[0m\r\u001b[2K     \u001b[90m━━━━━━━━━━━━━━━━━━━━━━━━━━━━━━━━━━━━━━━━\u001b[0m \u001b[32m63.1/63.1 kB\u001b[0m \u001b[31m3.5 MB/s\u001b[0m eta \u001b[36m0:00:00\u001b[0m\n",
            "\u001b[?25hRequirement already satisfied: aiohttp in /usr/local/lib/python3.11/dist-packages (from torch_geometric) (3.11.15)\n",
            "Requirement already satisfied: fsspec in /usr/local/lib/python3.11/dist-packages (from torch_geometric) (2025.3.2)\n",
            "Requirement already satisfied: jinja2 in /usr/local/lib/python3.11/dist-packages (from torch_geometric) (3.1.6)\n",
            "Requirement already satisfied: numpy in /usr/local/lib/python3.11/dist-packages (from torch_geometric) (2.0.2)\n",
            "Requirement already satisfied: psutil>=5.8.0 in /usr/local/lib/python3.11/dist-packages (from torch_geometric) (5.9.5)\n",
            "Requirement already satisfied: pyparsing in /usr/local/lib/python3.11/dist-packages (from torch_geometric) (3.2.3)\n",
            "Requirement already satisfied: requests in /usr/local/lib/python3.11/dist-packages (from torch_geometric) (2.32.3)\n",
            "Requirement already satisfied: tqdm in /usr/local/lib/python3.11/dist-packages (from torch_geometric) (4.67.1)\n",
            "Requirement already satisfied: aiohappyeyeballs>=2.3.0 in /usr/local/lib/python3.11/dist-packages (from aiohttp->torch_geometric) (2.6.1)\n",
            "Requirement already satisfied: aiosignal>=1.1.2 in /usr/local/lib/python3.11/dist-packages (from aiohttp->torch_geometric) (1.3.2)\n",
            "Requirement already satisfied: attrs>=17.3.0 in /usr/local/lib/python3.11/dist-packages (from aiohttp->torch_geometric) (25.3.0)\n",
            "Requirement already satisfied: frozenlist>=1.1.1 in /usr/local/lib/python3.11/dist-packages (from aiohttp->torch_geometric) (1.6.0)\n",
            "Requirement already satisfied: multidict<7.0,>=4.5 in /usr/local/lib/python3.11/dist-packages (from aiohttp->torch_geometric) (6.4.3)\n",
            "Requirement already satisfied: propcache>=0.2.0 in /usr/local/lib/python3.11/dist-packages (from aiohttp->torch_geometric) (0.3.1)\n",
            "Requirement already satisfied: yarl<2.0,>=1.17.0 in /usr/local/lib/python3.11/dist-packages (from aiohttp->torch_geometric) (1.20.0)\n",
            "Requirement already satisfied: MarkupSafe>=2.0 in /usr/local/lib/python3.11/dist-packages (from jinja2->torch_geometric) (3.0.2)\n",
            "Requirement already satisfied: charset-normalizer<4,>=2 in /usr/local/lib/python3.11/dist-packages (from requests->torch_geometric) (3.4.2)\n",
            "Requirement already satisfied: idna<4,>=2.5 in /usr/local/lib/python3.11/dist-packages (from requests->torch_geometric) (3.10)\n",
            "Requirement already satisfied: urllib3<3,>=1.21.1 in /usr/local/lib/python3.11/dist-packages (from requests->torch_geometric) (2.4.0)\n",
            "Requirement already satisfied: certifi>=2017.4.17 in /usr/local/lib/python3.11/dist-packages (from requests->torch_geometric) (2025.4.26)\n",
            "Downloading torch_geometric-2.6.1-py3-none-any.whl (1.1 MB)\n",
            "\u001b[2K   \u001b[90m━━━━━━━━━━━━━━━━━━━━━━━━━━━━━━━━━━━━━━━━\u001b[0m \u001b[32m1.1/1.1 MB\u001b[0m \u001b[31m19.8 MB/s\u001b[0m eta \u001b[36m0:00:00\u001b[0m\n",
            "\u001b[?25hInstalling collected packages: torch_geometric\n",
            "Successfully installed torch_geometric-2.6.1\n"
          ]
        }
      ]
    },
    {
      "cell_type": "code",
      "execution_count": 2,
      "metadata": {
        "id": "vaufjknLnU33"
      },
      "outputs": [],
      "source": [
        "import numpy as np\n",
        "import pandas as pd\n",
        "import matplotlib.pyplot as plt\n",
        "import random\n",
        "\n",
        "import torch\n",
        "import torch.nn as nn\n",
        "import torch.optim as optim\n",
        "from torch.utils.data import Dataset, DataLoader\n",
        "from torch_geometric.data import Data, Batch\n",
        "import tqdm"
      ]
    },
    {
      "cell_type": "markdown",
      "metadata": {
        "id": "QZZcjNIbnU34"
      },
      "source": [
        "## Step 2: Load the Dataset"
      ]
    },
    {
      "cell_type": "markdown",
      "metadata": {
        "id": "3sDsQ_SFnU34"
      },
      "source": [
        "#### You need to describe in your own words what the dataset is about, and use mathematical language and formulate your prediction task on the submitted PDF file for Question 1 Problem A."
      ]
    },
    {
      "cell_type": "markdown",
      "metadata": {
        "id": "387de1f1nU35"
      },
      "source": [
        "#### Here we are loading the dataset from the local directory. And answer Question 1 Problem B"
      ]
    },
    {
      "cell_type": "code",
      "source": [
        "!pip install kaggle"
      ],
      "metadata": {
        "colab": {
          "base_uri": "https://localhost:8080/"
        },
        "id": "8_Pcj0Igoa_i",
        "outputId": "7e2b5b98-c1b4-476a-8feb-38289fcd9e26"
      },
      "execution_count": 3,
      "outputs": [
        {
          "output_type": "stream",
          "name": "stdout",
          "text": [
            "Requirement already satisfied: kaggle in /usr/local/lib/python3.11/dist-packages (1.7.4.5)\n",
            "Requirement already satisfied: bleach in /usr/local/lib/python3.11/dist-packages (from kaggle) (6.2.0)\n",
            "Requirement already satisfied: certifi>=14.05.14 in /usr/local/lib/python3.11/dist-packages (from kaggle) (2025.4.26)\n",
            "Requirement already satisfied: charset-normalizer in /usr/local/lib/python3.11/dist-packages (from kaggle) (3.4.2)\n",
            "Requirement already satisfied: idna in /usr/local/lib/python3.11/dist-packages (from kaggle) (3.10)\n",
            "Requirement already satisfied: protobuf in /usr/local/lib/python3.11/dist-packages (from kaggle) (5.29.4)\n",
            "Requirement already satisfied: python-dateutil>=2.5.3 in /usr/local/lib/python3.11/dist-packages (from kaggle) (2.9.0.post0)\n",
            "Requirement already satisfied: python-slugify in /usr/local/lib/python3.11/dist-packages (from kaggle) (8.0.4)\n",
            "Requirement already satisfied: requests in /usr/local/lib/python3.11/dist-packages (from kaggle) (2.32.3)\n",
            "Requirement already satisfied: setuptools>=21.0.0 in /usr/local/lib/python3.11/dist-packages (from kaggle) (75.2.0)\n",
            "Requirement already satisfied: six>=1.10 in /usr/local/lib/python3.11/dist-packages (from kaggle) (1.17.0)\n",
            "Requirement already satisfied: text-unidecode in /usr/local/lib/python3.11/dist-packages (from kaggle) (1.3)\n",
            "Requirement already satisfied: tqdm in /usr/local/lib/python3.11/dist-packages (from kaggle) (4.67.1)\n",
            "Requirement already satisfied: urllib3>=1.15.1 in /usr/local/lib/python3.11/dist-packages (from kaggle) (2.4.0)\n",
            "Requirement already satisfied: webencodings in /usr/local/lib/python3.11/dist-packages (from kaggle) (0.5.1)\n"
          ]
        }
      ]
    },
    {
      "cell_type": "code",
      "source": [
        "import os\n",
        "\n",
        "using_colab = True  # False if using JupyterLab\n",
        "##### COLAB #####\n",
        "if using_colab:\n",
        "    from google.colab import files\n",
        "    files.upload()  # upload kaggle.json\n",
        "    !chmod 600 /content/kaggle.json\n",
        "\n",
        "    os.environ['KAGGLE_CONFIG_DIR'] = '/content'\n",
        "\n",
        "### JUPYTERLAB ###\n",
        "else:\n",
        "    from pathlib import Path\n",
        "    # upload kaggle.json!!!\n",
        "    kaggle_dir = Path.home() / \".kaggle\"\n",
        "    kaggle_dir.mkdir(exist_ok=True)\n",
        "    Path(\"kaggle.json\").replace(kaggle_dir / \"kaggle.json\")\n",
        "    os.chmod(kaggle_dir / \"kaggle.json\", 0o600)\n",
        "\n",
        "    os.environ['KAGGLE_CONFIG_DIR'] = str(kaggle_dir)"
      ],
      "metadata": {
        "colab": {
          "base_uri": "https://localhost:8080/",
          "height": 73
        },
        "id": "4Bkkl-J0oEzz",
        "outputId": "d133a12b-98a1-4cee-b8da-1efc78104380"
      },
      "execution_count": 4,
      "outputs": [
        {
          "output_type": "display_data",
          "data": {
            "text/plain": [
              "<IPython.core.display.HTML object>"
            ],
            "text/html": [
              "\n",
              "     <input type=\"file\" id=\"files-9faf8dd1-aab5-46ad-aa20-5e6e2a159d6c\" name=\"files[]\" multiple disabled\n",
              "        style=\"border:none\" />\n",
              "     <output id=\"result-9faf8dd1-aab5-46ad-aa20-5e6e2a159d6c\">\n",
              "      Upload widget is only available when the cell has been executed in the\n",
              "      current browser session. Please rerun this cell to enable.\n",
              "      </output>\n",
              "      <script>// Copyright 2017 Google LLC\n",
              "//\n",
              "// Licensed under the Apache License, Version 2.0 (the \"License\");\n",
              "// you may not use this file except in compliance with the License.\n",
              "// You may obtain a copy of the License at\n",
              "//\n",
              "//      http://www.apache.org/licenses/LICENSE-2.0\n",
              "//\n",
              "// Unless required by applicable law or agreed to in writing, software\n",
              "// distributed under the License is distributed on an \"AS IS\" BASIS,\n",
              "// WITHOUT WARRANTIES OR CONDITIONS OF ANY KIND, either express or implied.\n",
              "// See the License for the specific language governing permissions and\n",
              "// limitations under the License.\n",
              "\n",
              "/**\n",
              " * @fileoverview Helpers for google.colab Python module.\n",
              " */\n",
              "(function(scope) {\n",
              "function span(text, styleAttributes = {}) {\n",
              "  const element = document.createElement('span');\n",
              "  element.textContent = text;\n",
              "  for (const key of Object.keys(styleAttributes)) {\n",
              "    element.style[key] = styleAttributes[key];\n",
              "  }\n",
              "  return element;\n",
              "}\n",
              "\n",
              "// Max number of bytes which will be uploaded at a time.\n",
              "const MAX_PAYLOAD_SIZE = 100 * 1024;\n",
              "\n",
              "function _uploadFiles(inputId, outputId) {\n",
              "  const steps = uploadFilesStep(inputId, outputId);\n",
              "  const outputElement = document.getElementById(outputId);\n",
              "  // Cache steps on the outputElement to make it available for the next call\n",
              "  // to uploadFilesContinue from Python.\n",
              "  outputElement.steps = steps;\n",
              "\n",
              "  return _uploadFilesContinue(outputId);\n",
              "}\n",
              "\n",
              "// This is roughly an async generator (not supported in the browser yet),\n",
              "// where there are multiple asynchronous steps and the Python side is going\n",
              "// to poll for completion of each step.\n",
              "// This uses a Promise to block the python side on completion of each step,\n",
              "// then passes the result of the previous step as the input to the next step.\n",
              "function _uploadFilesContinue(outputId) {\n",
              "  const outputElement = document.getElementById(outputId);\n",
              "  const steps = outputElement.steps;\n",
              "\n",
              "  const next = steps.next(outputElement.lastPromiseValue);\n",
              "  return Promise.resolve(next.value.promise).then((value) => {\n",
              "    // Cache the last promise value to make it available to the next\n",
              "    // step of the generator.\n",
              "    outputElement.lastPromiseValue = value;\n",
              "    return next.value.response;\n",
              "  });\n",
              "}\n",
              "\n",
              "/**\n",
              " * Generator function which is called between each async step of the upload\n",
              " * process.\n",
              " * @param {string} inputId Element ID of the input file picker element.\n",
              " * @param {string} outputId Element ID of the output display.\n",
              " * @return {!Iterable<!Object>} Iterable of next steps.\n",
              " */\n",
              "function* uploadFilesStep(inputId, outputId) {\n",
              "  const inputElement = document.getElementById(inputId);\n",
              "  inputElement.disabled = false;\n",
              "\n",
              "  const outputElement = document.getElementById(outputId);\n",
              "  outputElement.innerHTML = '';\n",
              "\n",
              "  const pickedPromise = new Promise((resolve) => {\n",
              "    inputElement.addEventListener('change', (e) => {\n",
              "      resolve(e.target.files);\n",
              "    });\n",
              "  });\n",
              "\n",
              "  const cancel = document.createElement('button');\n",
              "  inputElement.parentElement.appendChild(cancel);\n",
              "  cancel.textContent = 'Cancel upload';\n",
              "  const cancelPromise = new Promise((resolve) => {\n",
              "    cancel.onclick = () => {\n",
              "      resolve(null);\n",
              "    };\n",
              "  });\n",
              "\n",
              "  // Wait for the user to pick the files.\n",
              "  const files = yield {\n",
              "    promise: Promise.race([pickedPromise, cancelPromise]),\n",
              "    response: {\n",
              "      action: 'starting',\n",
              "    }\n",
              "  };\n",
              "\n",
              "  cancel.remove();\n",
              "\n",
              "  // Disable the input element since further picks are not allowed.\n",
              "  inputElement.disabled = true;\n",
              "\n",
              "  if (!files) {\n",
              "    return {\n",
              "      response: {\n",
              "        action: 'complete',\n",
              "      }\n",
              "    };\n",
              "  }\n",
              "\n",
              "  for (const file of files) {\n",
              "    const li = document.createElement('li');\n",
              "    li.append(span(file.name, {fontWeight: 'bold'}));\n",
              "    li.append(span(\n",
              "        `(${file.type || 'n/a'}) - ${file.size} bytes, ` +\n",
              "        `last modified: ${\n",
              "            file.lastModifiedDate ? file.lastModifiedDate.toLocaleDateString() :\n",
              "                                    'n/a'} - `));\n",
              "    const percent = span('0% done');\n",
              "    li.appendChild(percent);\n",
              "\n",
              "    outputElement.appendChild(li);\n",
              "\n",
              "    const fileDataPromise = new Promise((resolve) => {\n",
              "      const reader = new FileReader();\n",
              "      reader.onload = (e) => {\n",
              "        resolve(e.target.result);\n",
              "      };\n",
              "      reader.readAsArrayBuffer(file);\n",
              "    });\n",
              "    // Wait for the data to be ready.\n",
              "    let fileData = yield {\n",
              "      promise: fileDataPromise,\n",
              "      response: {\n",
              "        action: 'continue',\n",
              "      }\n",
              "    };\n",
              "\n",
              "    // Use a chunked sending to avoid message size limits. See b/62115660.\n",
              "    let position = 0;\n",
              "    do {\n",
              "      const length = Math.min(fileData.byteLength - position, MAX_PAYLOAD_SIZE);\n",
              "      const chunk = new Uint8Array(fileData, position, length);\n",
              "      position += length;\n",
              "\n",
              "      const base64 = btoa(String.fromCharCode.apply(null, chunk));\n",
              "      yield {\n",
              "        response: {\n",
              "          action: 'append',\n",
              "          file: file.name,\n",
              "          data: base64,\n",
              "        },\n",
              "      };\n",
              "\n",
              "      let percentDone = fileData.byteLength === 0 ?\n",
              "          100 :\n",
              "          Math.round((position / fileData.byteLength) * 100);\n",
              "      percent.textContent = `${percentDone}% done`;\n",
              "\n",
              "    } while (position < fileData.byteLength);\n",
              "  }\n",
              "\n",
              "  // All done.\n",
              "  yield {\n",
              "    response: {\n",
              "      action: 'complete',\n",
              "    }\n",
              "  };\n",
              "}\n",
              "\n",
              "scope.google = scope.google || {};\n",
              "scope.google.colab = scope.google.colab || {};\n",
              "scope.google.colab._files = {\n",
              "  _uploadFiles,\n",
              "  _uploadFilesContinue,\n",
              "};\n",
              "})(self);\n",
              "</script> "
            ]
          },
          "metadata": {}
        },
        {
          "output_type": "stream",
          "name": "stdout",
          "text": [
            "Saving kaggle.json to kaggle.json\n"
          ]
        }
      ]
    },
    {
      "cell_type": "code",
      "source": [
        "from kaggle.api.kaggle_api_extended import KaggleApi\n",
        "api = KaggleApi()\n",
        "api.authenticate()\n",
        "\n",
        "!kaggle competitions download -c cse-251-b-2025"
      ],
      "metadata": {
        "colab": {
          "base_uri": "https://localhost:8080/"
        },
        "id": "xtHA1OSHoTbL",
        "outputId": "dc99f1e9-a803-47cc-ab60-0b37bd1b336b"
      },
      "execution_count": 5,
      "outputs": [
        {
          "output_type": "stream",
          "name": "stdout",
          "text": [
            "Downloading cse-251-b-2025.zip to /content\n",
            " 98% 986M/0.98G [00:04<00:00, 208MB/s]\n",
            "100% 0.98G/0.98G [00:04<00:00, 225MB/s]\n"
          ]
        }
      ]
    },
    {
      "cell_type": "code",
      "source": [
        "# Load in data files\n",
        "# Unzip data\n",
        "import zipfile\n",
        "\n",
        "if using_colab:\n",
        "    zip_path = '/content/cse-251-b-2025.zip'\n",
        "    extract_to = '/content/data'\n",
        "else:\n",
        "    zip_path = Path(\"cse-251-b-2025.zip\")\n",
        "    extract_to = Path(\"data\")\n",
        "\n",
        "with zipfile.ZipFile(zip_path, 'r') as zip_ref:\n",
        "    zip_ref.extractall(extract_to)\n",
        "\n",
        "train_file = np.load('/content/data/train.npz')\n",
        "test_file = np.load('/content/data/test_input.npz')\n",
        "\n",
        "train_data = train_file['data']\n",
        "test_data = test_file['data']\n",
        "\n",
        "print(\"(scenes, trajectories, time steps, dimensions)\")\n",
        "print(f\"train data shape: {train_data.shape}\")\n",
        "print(f\"test data shape:  {test_data.shape}\")"
      ],
      "metadata": {
        "colab": {
          "base_uri": "https://localhost:8080/"
        },
        "id": "pVXi1phpo4a2",
        "outputId": "615acb4f-a0c3-45ca-badb-5e5db59226f5"
      },
      "execution_count": 6,
      "outputs": [
        {
          "output_type": "stream",
          "name": "stdout",
          "text": [
            "(scenes, trajectories, time steps, dimensions)\n",
            "train data shape: (10000, 50, 110, 6)\n",
            "test data shape:  (2100, 50, 50, 6)\n"
          ]
        }
      ]
    },
    {
      "cell_type": "code",
      "execution_count": null,
      "metadata": {
        "id": "UwJfG72xnU35"
      },
      "outputs": [],
      "source": [
        "# train_npz = np.load('./train.npz')\n",
        "# train_data = train_npz['data']\n",
        "# test_npz  = np.load('./test_input.npz')\n",
        "# test_data  = test_npz['data']"
      ]
    },
    {
      "cell_type": "code",
      "execution_count": 7,
      "metadata": {
        "colab": {
          "base_uri": "https://localhost:8080/"
        },
        "id": "f1TiRX_xnU35",
        "outputId": "d50ee7c4-766b-4a67-d7c5-b682b5be200d"
      },
      "outputs": [
        {
          "output_type": "stream",
          "name": "stdout",
          "text": [
            "(10000, 50, 110, 6) (2100, 50, 50, 6)\n"
          ]
        }
      ],
      "source": [
        "print(train_data.shape, test_data.shape)\n",
        "\n",
        "# Split once for later use\n",
        "X_train = train_data[..., :50, :]\n",
        "Y_train = train_data[:, 0, 50:, :2]"
      ]
    },
    {
      "cell_type": "code",
      "execution_count": null,
      "metadata": {
        "id": "nQw8F0wZnU36"
      },
      "outputs": [],
      "source": [
        "def plot_heatmap(data, title=None, bins=5):\n",
        "    plt.figure(figsize=(6, 6))\n",
        "\n",
        "    x_max = data[..., 0].max()\n",
        "    x_min = data[..., 0].min()\n",
        "    y_max = data[..., 1].max()\n",
        "    y_min = data[..., 1].min()\n",
        "\n",
        "    plt.hist2d(data[:, 0], data[:, 1], bins=bins, cmap='hot')\n",
        "    plt.xlim(x_min, x_max)\n",
        "    plt.ylim(y_min, y_max)\n",
        "    plt.title(title)\n",
        "    plt.colorbar(label='Density')\n",
        "    plt.xlabel('X-axis')\n",
        "    plt.ylabel('Y-axis')\n",
        "    plt.show()"
      ]
    },
    {
      "cell_type": "code",
      "execution_count": null,
      "metadata": {
        "id": "Dz40LRugnU36"
      },
      "outputs": [],
      "source": [
        "xy_in = train_data[:, :, :50, :2].reshape(-1, 2)\n",
        "# only find the x, y != 0\n",
        "xy_in_not_0 = xy_in[(xy_in[:, 0] != 0) & (xy_in[:, 1] != 0)]"
      ]
    },
    {
      "cell_type": "code",
      "execution_count": null,
      "metadata": {
        "colab": {
          "base_uri": "https://localhost:8080/",
          "height": 1000
        },
        "id": "ZN8mvEYbnU36",
        "outputId": "8acb26c0-427e-4714-c90e-175118014100"
      },
      "outputs": [
        {
          "output_type": "display_data",
          "data": {
            "text/plain": [
              "<Figure size 600x600 with 2 Axes>"
            ],
            "image/png": "[encoded data removed]"
          },
          "metadata": {}
        },
        {
          "output_type": "display_data",
          "data": {
            "text/plain": [
              "<Figure size 600x600 with 2 Axes>"
            ],
            "image/png": "[encoded data removed]"
          },
          "metadata": {}
        }
      ],
      "source": [
        "plot_heatmap(xy_in, title='Heatmap of XY In', bins=5)\n",
        "plot_heatmap(xy_in_not_0, title='Heatmap of XY In (non-zero)', bins=5)"
      ]
    },
    {
      "cell_type": "code",
      "execution_count": null,
      "metadata": {
        "id": "cgUAZB64nU36",
        "outputId": "66bbd6f7-47a3-4be0-8938-55b367571485",
        "colab": {
          "base_uri": "https://localhost:8080/",
          "height": 1000
        }
      },
      "outputs": [
        {
          "output_type": "display_data",
          "data": {
            "text/plain": [
              "<Figure size 600x600 with 2 Axes>"
            ],
            "image/png": "[encoded data removed]"
          },
          "metadata": {}
        },
        {
          "output_type": "display_data",
          "data": {
            "text/plain": [
              "<Figure size 600x600 with 2 Axes>"
            ],
            "image/png": "[encoded data removed]"
          },
          "metadata": {}
        }
      ],
      "source": [
        "plot_heatmap(xy_in, title='Heatmap of XY In', bins=50)\n",
        "plot_heatmap(xy_in_not_0, title='Heatmap of XY In (non-zero)', bins=50)"
      ]
    },
    {
      "cell_type": "markdown",
      "metadata": {
        "id": "GiH9stiZnU37"
      },
      "source": [
        "#### Try to play around with dataset for training and testing, make exploratory analysis on the dataset for bonus points(up to 2)"
      ]
    },
    {
      "cell_type": "markdown",
      "metadata": {
        "id": "tgIgOFKWnU37"
      },
      "source": [
        "## Step 3: Setting up the Training and Testing"
      ]
    },
    {
      "cell_type": "markdown",
      "metadata": {
        "id": "v0PKpPWsnU37"
      },
      "source": [
        "### Example Code:"
      ]
    },
    {
      "cell_type": "code",
      "execution_count": 8,
      "metadata": {
        "id": "JfthPEM8nU37"
      },
      "outputs": [],
      "source": [
        "class TrajectoryDatasetTrain(Dataset):\n",
        "    def __init__(self, data, scale=10.0, augment=True):\n",
        "        \"\"\"\n",
        "        data: Shape (N, 50, 110, 6) Training data\n",
        "        scale: Scale for normalization (suggested to use 10.0 for Argoverse 2 data)\n",
        "        augment: Whether to apply data augmentation (only for training)\n",
        "        \"\"\"\n",
        "        self.data = data\n",
        "        self.scale = scale\n",
        "        self.augment = augment\n",
        "\n",
        "    def __len__(self):\n",
        "        return len(self.data)\n",
        "\n",
        "    def __getitem__(self, idx):\n",
        "      scene = self.data[idx]  # (50 agents, 110 timesteps, 6 features)\n",
        "      hist = scene[:, :50, :].copy()    # (50, 50, 6)\n",
        "      future = torch.tensor(scene[0, 50:, :2].copy(), dtype=torch.float32)  # (60, 2)\n",
        "\n",
        "      # Data augmentation\n",
        "      if self.augment:\n",
        "          if np.random.rand() < 0.5:\n",
        "              theta = np.random.uniform(-np.pi, np.pi)\n",
        "              R = np.array([[np.cos(theta), -np.sin(theta)],\n",
        "                            [np.sin(theta),  np.cos(theta)]], dtype=np.float32)\n",
        "              hist[..., :2] = hist[..., :2] @ R\n",
        "              hist[..., 2:4] = hist[..., 2:4] @ R\n",
        "              future = future @ R\n",
        "          if np.random.rand() < 0.5:\n",
        "              hist[..., 0] *= -1\n",
        "              hist[..., 2] *= -1\n",
        "              future[:, 0] *= -1\n",
        "\n",
        "      # Use the last timeframe of the ego as the origin\n",
        "      ego_final = hist[0, 49, :2].copy()  # (2,)\n",
        "      hist[..., :2] -= ego_final\n",
        "      future -= ego_final\n",
        "\n",
        "      # Find distances from all agents to the ego at t=49\n",
        "      all_final_positions = hist[:, 49, :2]  # (50, 2)\n",
        "      dists = np.linalg.norm(all_final_positions, axis=1)  # (50,)\n",
        "      dists[0] = -1e6  # Always include ego (set to negative so it's ranked first)\n",
        "\n",
        "      # Get indices of ego + 10 nearest neighbors (total 11 agents)\n",
        "      selected_indices = np.argsort(dists)[:7]  # Shape: (11,)\n",
        "\n",
        "      # Select only those 11 agents\n",
        "      hist = hist[selected_indices, :, :]  # (11, 50, 6)\n",
        "\n",
        "      # Normalize\n",
        "      hist[..., :4] /= self.scale\n",
        "      future /= self.scale\n",
        "\n",
        "      return Data(\n",
        "          x=torch.tensor(hist, dtype=torch.float32),\n",
        "          y=future.type(torch.float32),\n",
        "          origin=torch.tensor(ego_final, dtype=torch.float32).unsqueeze(0),\n",
        "          scale=torch.tensor(self.scale, dtype=torch.float32),\n",
        "      )\n",
        "\n",
        "\n",
        "\n",
        "class TrajectoryDatasetTest(Dataset):\n",
        "    def __init__(self, data, scale=10.0):\n",
        "        \"\"\"\n",
        "        data: Shape (N, 50, 110, 6) Testing data\n",
        "        scale: Scale for normalization (suggested to use 10.0 for Argoverse 2 data)\n",
        "        \"\"\"\n",
        "        self.data = data\n",
        "        self.scale = scale\n",
        "\n",
        "    def __len__(self):\n",
        "        return len(self.data)\n",
        "\n",
        "    def __getitem__(self, idx):\n",
        "      scene = self.data[idx]  # (50, 50, 6)\n",
        "      hist = scene.copy()\n",
        "\n",
        "      ego_final = hist[0, 49, :2].copy()\n",
        "      hist[..., :2] -= ego_final\n",
        "\n",
        "      # Select closest 10 + ego\n",
        "      all_final_positions = hist[:, 49, :2]\n",
        "      dists = np.linalg.norm(all_final_positions, axis=1)\n",
        "      dists[0] = -1e6  # Ensure ego is included\n",
        "      selected_indices = np.argsort(dists)[:7]\n",
        "      hist = hist[selected_indices, :, :]  # (11, 50, 6)\n",
        "      print(f\"hist shape in __getitem__: {hist.shape}\")\n",
        "\n",
        "\n",
        "      hist[..., :4] /= self.scale\n",
        "\n",
        "      return Data(\n",
        "          x=torch.tensor(hist, dtype=torch.float32),\n",
        "          origin=torch.tensor(ego_final, dtype=torch.float32).unsqueeze(0),\n",
        "          scale=torch.tensor(self.scale, dtype=torch.float32),\n",
        "      )\n"
      ]
    },
    {
      "cell_type": "markdown",
      "metadata": {
        "id": "WetjfehEnU37"
      },
      "source": [
        "#### Answer Question related to Your Computational Platform and GPU for Question 2 Problem A"
      ]
    },
    {
      "cell_type": "code",
      "execution_count": 9,
      "metadata": {
        "id": "mYxVKfITnU37",
        "outputId": "4a2df247-04e6-4825-b706-655206f54f25",
        "colab": {
          "base_uri": "https://localhost:8080/"
        }
      },
      "outputs": [
        {
          "output_type": "stream",
          "name": "stdout",
          "text": [
            "Using CUDA GPU\n"
          ]
        }
      ],
      "source": [
        "torch.manual_seed(251)\n",
        "np.random.seed(42)\n",
        "\n",
        "scale = 7.0\n",
        "\n",
        "N = len(train_data)\n",
        "val_size = int(0.1 * N)\n",
        "train_size = N - val_size\n",
        "\n",
        "train_dataset = TrajectoryDatasetTrain(train_data[:train_size], scale=scale, augment=True)\n",
        "val_dataset = TrajectoryDatasetTrain(train_data[train_size:], scale=scale, augment=False)\n",
        "\n",
        "train_dataloader = DataLoader(train_dataset, batch_size=32, shuffle=True, collate_fn=lambda x: Batch.from_data_list(x))\n",
        "val_dataloader = DataLoader(val_dataset, batch_size=32, shuffle=False, collate_fn=lambda x: Batch.from_data_list(x))\n",
        "\n",
        "# Set device for training speedup\n",
        "if torch.backends.mps.is_available():\n",
        "    device = torch.device('mps')\n",
        "    print(\"Using Apple Silicon GPU\")\n",
        "elif torch.cuda.is_available():\n",
        "    device = torch.device('cuda')\n",
        "    print(\"Using CUDA GPU\")\n",
        "else:\n",
        "    device = torch.device('cpu')"
      ]
    },
    {
      "cell_type": "markdown",
      "metadata": {
        "id": "Wb2AY4a8nU37"
      },
      "source": [
        "#### Your Model for Question 2 Problem B (Include your model architecture pictures and also can use some mathmatical equations to explain your model in your report)"
      ]
    },
    {
      "cell_type": "code",
      "execution_count": null,
      "metadata": {
        "id": "9nxgQ5FNnU37"
      },
      "outputs": [],
      "source": [
        "class LinearRegressionModel(nn.Module):\n",
        "    def __init__(self, input_dim=50 * 50 * 2, output_dim=60 * 2):\n",
        "        super(LinearRegressionModel, self).__init__()\n",
        "        self.linear = nn.Linear(input_dim, output_dim)\n",
        "\n",
        "    def forward(self, data):\n",
        "        x = data.x[..., :2] # (batch*50, 50, 2)\n",
        "        x = x.reshape(-1, 50 * 50 * 2) # (batch, 5000)\n",
        "        x = self.linear(x)\n",
        "        return x.view(-1, 60, 2)"
      ]
    },
    {
      "cell_type": "code",
      "execution_count": null,
      "metadata": {
        "id": "5lnu4LssnU37"
      },
      "outputs": [],
      "source": [
        "class MLP(nn.Module):\n",
        "    def __init__(self, input_features, output_features):\n",
        "        super(MLP, self).__init__()\n",
        "\n",
        "        # Define the layers\n",
        "        self.flatten = nn.Flatten()\n",
        "        self.mlp = nn.Sequential(\n",
        "            nn.Linear(input_features, 1024),\n",
        "            nn.ReLU(),\n",
        "            nn.Dropout(0.1),\n",
        "\n",
        "            nn.Linear(1024, 512),\n",
        "            nn.ReLU(),\n",
        "            nn.Dropout(0.1),\n",
        "\n",
        "            nn.Linear(512, 256),\n",
        "            nn.ReLU(),\n",
        "            nn.Dropout(0.1),\n",
        "\n",
        "            nn.Linear(256, output_features)\n",
        "        )\n",
        "\n",
        "    def forward(self, data):\n",
        "        x = data.x\n",
        "        x = x[:, :, :, :2] # (batch, 50, 50, 2)\n",
        "        x = x.reshape(-1, 50 * 50 * 6)\n",
        "        x = self.mlp(x)\n",
        "        return x.view(-1, 60, 2)"
      ]
    },
    {
      "cell_type": "markdown",
      "metadata": {
        "id": "LqvUtaqdnU37"
      },
      "source": [
        "#### This Model will be covered during Week 6 Lecture (If you don't understand it for now, don't worry, we will cover it in the lecture, or you can ask in the office hours)"
      ]
    },
    {
      "cell_type": "code",
      "execution_count": 11,
      "metadata": {
        "id": "v2CbPJK3nU37"
      },
      "outputs": [],
      "source": [
        "# class LSTM(nn.Module):\n",
        "#     def __init__(self, input_dim=6, hidden_dim=128, output_dim=60 * 2):\n",
        "#         super(LSTM, self).__init__()\n",
        "#         self.lstm = nn.LSTM(input_dim, hidden_dim, batch_first=True)\n",
        "#         self.fc = nn.Linear(hidden_dim, output_dim)\n",
        "\n",
        "#     def forward(self, data):\n",
        "#         x = data.x\n",
        "#         # x= x.reshape(-1, 50, 50, 6)  # (batch_size, num_agents, seq_len, input_dim)\n",
        "#         # x = x[:, 0, :, :] # Only Consider ego agent index 0\n",
        "#         x = data.x.reshape(-1, 11, 50, 6)  # (batch, 11 agents, 50 timesteps, 6)\n",
        "\n",
        "#         # If only using ego:\n",
        "#         x = x[:, 0, :, :]  # (batch, 50, 6)\n",
        "\n",
        "\n",
        "#         lstm_out, _ = self.lstm(x)\n",
        "#         # lstm_out is of shape (batch_size, seq_len, hidden_dim) and we want the last time step output\n",
        "#         out = self.fc(lstm_out[:, -1, :])\n",
        "#         return out.view(-1, 60, 2)\n",
        "\n",
        "class LSTM(nn.Module):\n",
        "    def __init__(self, input_dim=6, hidden_dim=128, output_dim=60 * 2):\n",
        "        super(LSTM, self).__init__()\n",
        "        self.lstm = nn.LSTM(input_dim, hidden_dim, batch_first=True)\n",
        "        self.agent_pool = nn.Sequential(\n",
        "            nn.Linear(hidden_dim, hidden_dim),\n",
        "            nn.ReLU(),\n",
        "        )\n",
        "        self.fc = nn.Linear(hidden_dim, output_dim)\n",
        "\n",
        "    def forward(self, data):\n",
        "        x = data.x  # (batch_size, 7, 50, 6)\n",
        "        x = x.reshape(-1, 50, 6)  # (batch_size * 7, 50, 6)\n",
        "\n",
        "        lstm_out, _ = self.lstm(x)  # (B*7, 50, hidden)\n",
        "        last_hidden = lstm_out[:, -1, :]  # (B*7, hidden)\n",
        "        last_hidden = last_hidden.view(-1, 7, last_hidden.size(-1))  # (B, 7, hidden)\n",
        "\n",
        "        # Aggregate agent features via mean/max pooling or MLP\n",
        "        pooled = last_hidden.mean(dim=1)  # (B, hidden) – or use attention later\n",
        "        pooled = self.agent_pool(pooled)\n",
        "\n",
        "        out = self.fc(pooled)  # (B, 60*2)\n",
        "        return out.view(-1, 60, 2)\n"
      ]
    },
    {
      "cell_type": "markdown",
      "metadata": {
        "id": "GBEG77uMnU38"
      },
      "source": [
        "#### Your Optimizer and Hyperparameters for Question 2 Problem A (Try to use different optimizers and hyperparameters for your model and see how it affects the performance of your model)"
      ]
    },
    {
      "cell_type": "code",
      "execution_count": 12,
      "metadata": {
        "id": "NxApNpN6nU38"
      },
      "outputs": [],
      "source": [
        "# model = LinearRegressionModel().to(device)\n",
        "# model = MLP(50 * 50 * 6, 60 * 2).to(device)\n",
        "model = LSTM().to(device)\n",
        "\n",
        "optimizer = optim.Adam(model.parameters(), lr=1e-3, weight_decay=1e-4)\n",
        "scheduler = optim.lr_scheduler.StepLR(optimizer, step_size=20, gamma=0.25) # You can try different schedulers\n",
        "early_stopping_patience = 10\n",
        "best_val_loss = float('inf')\n",
        "no_improvement = 0\n",
        "criterion = nn.MSELoss()"
      ]
    },
    {
      "cell_type": "markdown",
      "metadata": {
        "id": "MEoYeSaxnU38"
      },
      "source": [
        "#### Using the Simple Linear Regression Model for Question 2B and Visualize the validation loss(MAE) (Hint: You should adapt the code for training loss and try to draw graphs as specified in the project description)"
      ]
    },
    {
      "cell_type": "code",
      "execution_count": 13,
      "metadata": {
        "id": "HIss3SRKnU38",
        "outputId": "092f3852-48ba-4bc6-d1b8-67be9985d6ee",
        "colab": {
          "base_uri": "https://localhost:8080/"
        }
      },
      "outputs": [
        {
          "metadata": {
            "tags": null
          },
          "name": "stderr",
          "output_type": "stream",
          "text": [
            "Epoch:   0%|          | 0/100 [00:00<?, ?epoch/s]<ipython-input-8-4219dd54706e>:28: DeprecationWarning: __array_wrap__ must accept context and return_scalar arguments (positionally) in the future. (Deprecated NumPy 2.0)\n",
            "  future = future @ R\n",
            "<ipython-input-8-4219dd54706e>:37: DeprecationWarning: __array_wrap__ must accept context and return_scalar arguments (positionally) in the future. (Deprecated NumPy 2.0)\n",
            "  future -= ego_final\n",
            "Epoch:   1%|          | 1/100 [00:10<17:39, 10.70s/epoch]"
          ]
        },
        {
          "metadata": {
            "tags": null
          },
          "name": "stdout",
          "output_type": "stream",
          "text": [
            "Epoch 000 | Learning rate 0.001000 | train normalized MSE   4.1234 | val normalized MSE   1.4484, | val MAE   5.0510 | val MSE  70.9737\n"
          ]
        },
        {
          "metadata": {
            "tags": null
          },
          "name": "stderr",
          "output_type": "stream",
          "text": [
            "Epoch:   2%|▏         | 2/100 [00:18<15:08,  9.27s/epoch]"
          ]
        },
        {
          "metadata": {
            "tags": null
          },
          "name": "stdout",
          "output_type": "stream",
          "text": [
            "Epoch 001 | Learning rate 0.001000 | train normalized MSE   1.0067 | val normalized MSE   0.7336, | val MAE   3.4120 | val MSE  35.9446\n"
          ]
        },
        {
          "metadata": {
            "tags": null
          },
          "name": "stderr",
          "output_type": "stream",
          "text": [
            "Epoch:   3%|▎         | 3/100 [00:26<13:55,  8.61s/epoch]"
          ]
        },
        {
          "metadata": {
            "tags": null
          },
          "name": "stdout",
          "output_type": "stream",
          "text": [
            "Epoch 002 | Learning rate 0.001000 | train normalized MSE   0.6239 | val normalized MSE   0.5606, | val MAE   3.0003 | val MSE  27.4697\n"
          ]
        },
        {
          "metadata": {
            "tags": null
          },
          "name": "stderr",
          "output_type": "stream",
          "text": [
            "Epoch:   4%|▍         | 4/100 [00:35<13:38,  8.52s/epoch]"
          ]
        },
        {
          "metadata": {
            "tags": null
          },
          "name": "stdout",
          "output_type": "stream",
          "text": [
            "Epoch 003 | Learning rate 0.001000 | train normalized MSE   0.4581 | val normalized MSE   0.4707, | val MAE   2.8054 | val MSE  23.0625\n"
          ]
        },
        {
          "metadata": {
            "tags": null
          },
          "name": "stderr",
          "output_type": "stream",
          "text": [
            "Epoch:   5%|▌         | 5/100 [00:43<13:24,  8.47s/epoch]"
          ]
        },
        {
          "metadata": {
            "tags": null
          },
          "name": "stdout",
          "output_type": "stream",
          "text": [
            "Epoch 004 | Learning rate 0.001000 | train normalized MSE   0.3989 | val normalized MSE   0.3593, | val MAE   2.3431 | val MSE  17.6039\n"
          ]
        },
        {
          "metadata": {
            "tags": null
          },
          "name": "stderr",
          "output_type": "stream",
          "text": [
            "Epoch:   6%|▌         | 6/100 [00:51<12:56,  8.26s/epoch]"
          ]
        },
        {
          "metadata": {
            "tags": null
          },
          "name": "stdout",
          "output_type": "stream",
          "text": [
            "Epoch 005 | Learning rate 0.001000 | train normalized MSE   0.3666 | val normalized MSE   0.3328, | val MAE   2.2368 | val MSE  16.3066\n"
          ]
        },
        {
          "metadata": {
            "tags": null
          },
          "name": "stderr",
          "output_type": "stream",
          "text": [
            "Epoch:   7%|▋         | 7/100 [00:59<12:51,  8.30s/epoch]"
          ]
        },
        {
          "metadata": {
            "tags": null
          },
          "name": "stdout",
          "output_type": "stream",
          "text": [
            "Epoch 006 | Learning rate 0.001000 | train normalized MSE   0.3604 | val normalized MSE   0.3499, | val MAE   2.2950 | val MSE  17.1446\n"
          ]
        },
        {
          "metadata": {
            "tags": null
          },
          "name": "stderr",
          "output_type": "stream",
          "text": [
            "Epoch:   8%|▊         | 8/100 [01:08<12:55,  8.43s/epoch]"
          ]
        },
        {
          "metadata": {
            "tags": null
          },
          "name": "stdout",
          "output_type": "stream",
          "text": [
            "Epoch 007 | Learning rate 0.001000 | train normalized MSE   0.3553 | val normalized MSE   0.3845, | val MAE   2.6322 | val MSE  18.8391\n"
          ]
        },
        {
          "metadata": {
            "tags": null
          },
          "name": "stderr",
          "output_type": "stream",
          "text": [
            "Epoch:   9%|▉         | 9/100 [01:16<12:46,  8.43s/epoch]"
          ]
        },
        {
          "metadata": {
            "tags": null
          },
          "name": "stdout",
          "output_type": "stream",
          "text": [
            "Epoch 008 | Learning rate 0.001000 | train normalized MSE   0.3393 | val normalized MSE   0.3128, | val MAE   2.1193 | val MSE  15.3274\n"
          ]
        },
        {
          "metadata": {
            "tags": null
          },
          "name": "stderr",
          "output_type": "stream",
          "text": [
            "Epoch:  10%|█         | 10/100 [01:25<12:33,  8.37s/epoch]"
          ]
        },
        {
          "metadata": {
            "tags": null
          },
          "name": "stdout",
          "output_type": "stream",
          "text": [
            "Epoch 009 | Learning rate 0.001000 | train normalized MSE   0.3254 | val normalized MSE   0.2985, | val MAE   2.1578 | val MSE  14.6243\n"
          ]
        },
        {
          "metadata": {
            "tags": null
          },
          "name": "stderr",
          "output_type": "stream",
          "text": [
            "Epoch:  11%|█         | 11/100 [01:33<12:24,  8.36s/epoch]"
          ]
        },
        {
          "metadata": {
            "tags": null
          },
          "name": "stdout",
          "output_type": "stream",
          "text": [
            "Epoch 010 | Learning rate 0.001000 | train normalized MSE   0.3230 | val normalized MSE   0.2620, | val MAE   1.9111 | val MSE  12.8402\n"
          ]
        },
        {
          "metadata": {
            "tags": null
          },
          "name": "stderr",
          "output_type": "stream",
          "text": [
            "Epoch:  12%|█▏        | 12/100 [01:41<12:05,  8.25s/epoch]"
          ]
        },
        {
          "metadata": {
            "tags": null
          },
          "name": "stdout",
          "output_type": "stream",
          "text": [
            "Epoch 011 | Learning rate 0.001000 | train normalized MSE   0.3152 | val normalized MSE   0.2894, | val MAE   2.0752 | val MSE  14.1801\n"
          ]
        },
        {
          "metadata": {
            "tags": null
          },
          "name": "stderr",
          "output_type": "stream",
          "text": [
            "Epoch:  13%|█▎        | 13/100 [01:49<11:57,  8.24s/epoch]"
          ]
        },
        {
          "metadata": {
            "tags": null
          },
          "name": "stdout",
          "output_type": "stream",
          "text": [
            "Epoch 012 | Learning rate 0.001000 | train normalized MSE   0.3083 | val normalized MSE   0.2910, | val MAE   2.1110 | val MSE  14.2577\n"
          ]
        },
        {
          "metadata": {
            "tags": null
          },
          "name": "stderr",
          "output_type": "stream",
          "text": [
            "Epoch:  14%|█▍        | 14/100 [01:58<11:52,  8.29s/epoch]"
          ]
        },
        {
          "metadata": {
            "tags": null
          },
          "name": "stdout",
          "output_type": "stream",
          "text": [
            "Epoch 013 | Learning rate 0.001000 | train normalized MSE   0.3116 | val normalized MSE   0.2777, | val MAE   2.0308 | val MSE  13.6074\n"
          ]
        },
        {
          "metadata": {
            "tags": null
          },
          "name": "stderr",
          "output_type": "stream",
          "text": [
            "Epoch:  15%|█▌        | 15/100 [02:06<11:38,  8.22s/epoch]"
          ]
        },
        {
          "metadata": {
            "tags": null
          },
          "name": "stdout",
          "output_type": "stream",
          "text": [
            "Epoch 014 | Learning rate 0.001000 | train normalized MSE   0.3069 | val normalized MSE   0.3181, | val MAE   2.1913 | val MSE  15.5870\n"
          ]
        },
        {
          "metadata": {
            "tags": null
          },
          "name": "stderr",
          "output_type": "stream",
          "text": [
            "Epoch:  16%|█▌        | 16/100 [02:14<11:29,  8.21s/epoch]"
          ]
        },
        {
          "metadata": {
            "tags": null
          },
          "name": "stdout",
          "output_type": "stream",
          "text": [
            "Epoch 015 | Learning rate 0.001000 | train normalized MSE   0.3048 | val normalized MSE   0.3202, | val MAE   2.1994 | val MSE  15.6877\n"
          ]
        },
        {
          "metadata": {
            "tags": null
          },
          "name": "stderr",
          "output_type": "stream",
          "text": [
            "Epoch:  17%|█▋        | 17/100 [02:22<11:26,  8.27s/epoch]"
          ]
        },
        {
          "metadata": {
            "tags": null
          },
          "name": "stdout",
          "output_type": "stream",
          "text": [
            "Epoch 016 | Learning rate 0.001000 | train normalized MSE   0.2941 | val normalized MSE   0.2685, | val MAE   2.0330 | val MSE  13.1576\n"
          ]
        },
        {
          "metadata": {
            "tags": null
          },
          "name": "stderr",
          "output_type": "stream",
          "text": [
            "Epoch:  18%|█▊        | 18/100 [02:30<11:14,  8.23s/epoch]"
          ]
        },
        {
          "metadata": {
            "tags": null
          },
          "name": "stdout",
          "output_type": "stream",
          "text": [
            "Epoch 017 | Learning rate 0.001000 | train normalized MSE   0.2981 | val normalized MSE   0.2914, | val MAE   2.2407 | val MSE  14.2761\n"
          ]
        },
        {
          "metadata": {
            "tags": null
          },
          "name": "stderr",
          "output_type": "stream",
          "text": [
            "Epoch:  19%|█▉        | 19/100 [02:39<11:03,  8.20s/epoch]"
          ]
        },
        {
          "metadata": {
            "tags": null
          },
          "name": "stdout",
          "output_type": "stream",
          "text": [
            "Epoch 018 | Learning rate 0.001000 | train normalized MSE   0.2911 | val normalized MSE   0.3591, | val MAE   2.3760 | val MSE  17.5970\n"
          ]
        },
        {
          "metadata": {
            "tags": null
          },
          "name": "stderr",
          "output_type": "stream",
          "text": [
            "Epoch:  20%|██        | 20/100 [02:47<10:59,  8.24s/epoch]"
          ]
        },
        {
          "metadata": {
            "tags": null
          },
          "name": "stdout",
          "output_type": "stream",
          "text": [
            "Epoch 019 | Learning rate 0.000250 | train normalized MSE   0.3041 | val normalized MSE   0.2916, | val MAE   2.0339 | val MSE  14.2901\n"
          ]
        },
        {
          "metadata": {
            "tags": null
          },
          "name": "stderr",
          "output_type": "stream",
          "text": [
            "Epoch:  21%|██        | 21/100 [02:55<10:49,  8.22s/epoch]"
          ]
        },
        {
          "metadata": {
            "tags": null
          },
          "name": "stdout",
          "output_type": "stream",
          "text": [
            "Epoch 020 | Learning rate 0.000250 | train normalized MSE   0.2462 | val normalized MSE   0.2227, | val MAE   1.6788 | val MSE  10.9137\n"
          ]
        },
        {
          "metadata": {
            "tags": null
          },
          "name": "stderr",
          "output_type": "stream",
          "text": [
            "Epoch:  22%|██▏       | 22/100 [03:03<10:40,  8.21s/epoch]"
          ]
        },
        {
          "metadata": {
            "tags": null
          },
          "name": "stdout",
          "output_type": "stream",
          "text": [
            "Epoch 021 | Learning rate 0.000250 | train normalized MSE   0.2365 | val normalized MSE   0.2365, | val MAE   1.7866 | val MSE  11.5897\n"
          ]
        },
        {
          "metadata": {
            "tags": null
          },
          "name": "stderr",
          "output_type": "stream",
          "text": [
            "Epoch:  23%|██▎       | 23/100 [03:12<10:37,  8.27s/epoch]"
          ]
        },
        {
          "metadata": {
            "tags": null
          },
          "name": "stdout",
          "output_type": "stream",
          "text": [
            "Epoch 022 | Learning rate 0.000250 | train normalized MSE   0.2343 | val normalized MSE   0.2219, | val MAE   1.6941 | val MSE  10.8744\n"
          ]
        },
        {
          "metadata": {
            "tags": null
          },
          "name": "stderr",
          "output_type": "stream",
          "text": [
            "Epoch:  24%|██▍       | 24/100 [03:20<10:30,  8.29s/epoch]"
          ]
        },
        {
          "metadata": {
            "tags": null
          },
          "name": "stdout",
          "output_type": "stream",
          "text": [
            "Epoch 023 | Learning rate 0.000250 | train normalized MSE   0.2351 | val normalized MSE   0.2197, | val MAE   1.6790 | val MSE  10.7663\n"
          ]
        },
        {
          "metadata": {
            "tags": null
          },
          "name": "stderr",
          "output_type": "stream",
          "text": [
            "Epoch:  25%|██▌       | 25/100 [03:28<10:19,  8.26s/epoch]"
          ]
        },
        {
          "metadata": {
            "tags": null
          },
          "name": "stdout",
          "output_type": "stream",
          "text": [
            "Epoch 024 | Learning rate 0.000250 | train normalized MSE   0.2320 | val normalized MSE   0.2247, | val MAE   1.7300 | val MSE  11.0101\n"
          ]
        },
        {
          "metadata": {
            "tags": null
          },
          "name": "stderr",
          "output_type": "stream",
          "text": [
            "Epoch:  26%|██▌       | 26/100 [03:37<10:13,  8.29s/epoch]"
          ]
        },
        {
          "metadata": {
            "tags": null
          },
          "name": "stdout",
          "output_type": "stream",
          "text": [
            "Epoch 025 | Learning rate 0.000250 | train normalized MSE   0.2322 | val normalized MSE   0.2219, | val MAE   1.6575 | val MSE  10.8746\n"
          ]
        },
        {
          "output_type": "stream",
          "name": "stderr",
          "text": [
            "Epoch:  27%|██▋       | 27/100 [03:45<10:05,  8.29s/epoch]"
          ]
        },
        {
          "output_type": "stream",
          "name": "stdout",
          "text": [
            "Epoch 026 | Learning rate 0.000250 | train normalized MSE   0.2279 | val normalized MSE   0.2182, | val MAE   1.6974 | val MSE  10.6938\n"
          ]
        },
        {
          "output_type": "stream",
          "name": "stderr",
          "text": [
            "Epoch:  28%|██▊       | 28/100 [03:53<09:47,  8.16s/epoch]"
          ]
        },
        {
          "output_type": "stream",
          "name": "stdout",
          "text": [
            "Epoch 027 | Learning rate 0.000250 | train normalized MSE   0.2298 | val normalized MSE   0.2281, | val MAE   1.7147 | val MSE  11.1781\n"
          ]
        },
        {
          "output_type": "stream",
          "name": "stderr",
          "text": [
            "Epoch:  29%|██▉       | 29/100 [04:01<09:42,  8.21s/epoch]"
          ]
        },
        {
          "output_type": "stream",
          "name": "stdout",
          "text": [
            "Epoch 028 | Learning rate 0.000250 | train normalized MSE   0.2324 | val normalized MSE   0.2225, | val MAE   1.6978 | val MSE  10.9045\n"
          ]
        },
        {
          "output_type": "stream",
          "name": "stderr",
          "text": [
            "Epoch:  30%|███       | 30/100 [04:09<09:36,  8.24s/epoch]"
          ]
        },
        {
          "output_type": "stream",
          "name": "stdout",
          "text": [
            "Epoch 029 | Learning rate 0.000250 | train normalized MSE   0.2290 | val normalized MSE   0.2268, | val MAE   1.7284 | val MSE  11.1118\n"
          ]
        },
        {
          "output_type": "stream",
          "name": "stderr",
          "text": [
            "Epoch:  31%|███       | 31/100 [04:17<09:19,  8.10s/epoch]"
          ]
        },
        {
          "output_type": "stream",
          "name": "stdout",
          "text": [
            "Epoch 030 | Learning rate 0.000250 | train normalized MSE   0.2319 | val normalized MSE   0.2203, | val MAE   1.7323 | val MSE  10.7944\n"
          ]
        },
        {
          "output_type": "stream",
          "name": "stderr",
          "text": [
            "Epoch:  32%|███▏      | 32/100 [04:25<09:14,  8.15s/epoch]"
          ]
        },
        {
          "output_type": "stream",
          "name": "stdout",
          "text": [
            "Epoch 031 | Learning rate 0.000250 | train normalized MSE   0.2295 | val normalized MSE   0.2276, | val MAE   1.6981 | val MSE  11.1544\n"
          ]
        },
        {
          "output_type": "stream",
          "name": "stderr",
          "text": [
            "Epoch:  33%|███▎      | 33/100 [04:34<09:08,  8.18s/epoch]"
          ]
        },
        {
          "output_type": "stream",
          "name": "stdout",
          "text": [
            "Epoch 032 | Learning rate 0.000250 | train normalized MSE   0.2270 | val normalized MSE   0.2163, | val MAE   1.6550 | val MSE  10.5996\n"
          ]
        },
        {
          "output_type": "stream",
          "name": "stderr",
          "text": [
            "Epoch:  34%|███▍      | 34/100 [04:41<08:51,  8.05s/epoch]"
          ]
        },
        {
          "output_type": "stream",
          "name": "stdout",
          "text": [
            "Epoch 033 | Learning rate 0.000250 | train normalized MSE   0.2264 | val normalized MSE   0.2479, | val MAE   1.8622 | val MSE  12.1449\n"
          ]
        },
        {
          "output_type": "stream",
          "name": "stderr",
          "text": [
            "Epoch:  35%|███▌      | 35/100 [04:50<08:45,  8.09s/epoch]"
          ]
        },
        {
          "output_type": "stream",
          "name": "stdout",
          "text": [
            "Epoch 034 | Learning rate 0.000250 | train normalized MSE   0.2249 | val normalized MSE   0.2142, | val MAE   1.6992 | val MSE  10.4961\n"
          ]
        },
        {
          "output_type": "stream",
          "name": "stderr",
          "text": [
            "Epoch:  36%|███▌      | 36/100 [04:58<08:40,  8.13s/epoch]"
          ]
        },
        {
          "output_type": "stream",
          "name": "stdout",
          "text": [
            "Epoch 035 | Learning rate 0.000250 | train normalized MSE   0.2259 | val normalized MSE   0.2229, | val MAE   1.7548 | val MSE  10.9211\n"
          ]
        },
        {
          "output_type": "stream",
          "name": "stderr",
          "text": [
            "Epoch:  37%|███▋      | 37/100 [05:05<08:24,  8.01s/epoch]"
          ]
        },
        {
          "output_type": "stream",
          "name": "stdout",
          "text": [
            "Epoch 036 | Learning rate 0.000250 | train normalized MSE   0.2255 | val normalized MSE   0.2177, | val MAE   1.7194 | val MSE  10.6676\n"
          ]
        },
        {
          "output_type": "stream",
          "name": "stderr",
          "text": [
            "Epoch:  38%|███▊      | 38/100 [05:14<08:18,  8.04s/epoch]"
          ]
        },
        {
          "output_type": "stream",
          "name": "stdout",
          "text": [
            "Epoch 037 | Learning rate 0.000250 | train normalized MSE   0.2268 | val normalized MSE   0.2125, | val MAE   1.6499 | val MSE  10.4105\n"
          ]
        },
        {
          "output_type": "stream",
          "name": "stderr",
          "text": [
            "Epoch:  39%|███▉      | 39/100 [05:22<08:14,  8.10s/epoch]"
          ]
        },
        {
          "output_type": "stream",
          "name": "stdout",
          "text": [
            "Epoch 038 | Learning rate 0.000250 | train normalized MSE   0.2247 | val normalized MSE   0.2121, | val MAE   1.6882 | val MSE  10.3930\n"
          ]
        },
        {
          "output_type": "stream",
          "name": "stderr",
          "text": [
            "Epoch:  40%|████      | 40/100 [05:30<07:59,  8.00s/epoch]"
          ]
        },
        {
          "output_type": "stream",
          "name": "stdout",
          "text": [
            "Epoch 039 | Learning rate 0.000063 | train normalized MSE   0.2265 | val normalized MSE   0.2179, | val MAE   1.6932 | val MSE  10.6795\n"
          ]
        },
        {
          "output_type": "stream",
          "name": "stderr",
          "text": [
            "Epoch:  41%|████      | 41/100 [05:38<07:55,  8.06s/epoch]"
          ]
        },
        {
          "output_type": "stream",
          "name": "stdout",
          "text": [
            "Epoch 040 | Learning rate 0.000063 | train normalized MSE   0.2122 | val normalized MSE   0.2065, | val MAE   1.5975 | val MSE  10.1190\n"
          ]
        },
        {
          "output_type": "stream",
          "name": "stderr",
          "text": [
            "Epoch:  42%|████▏     | 42/100 [05:46<07:52,  8.14s/epoch]"
          ]
        },
        {
          "output_type": "stream",
          "name": "stdout",
          "text": [
            "Epoch 041 | Learning rate 0.000063 | train normalized MSE   0.2086 | val normalized MSE   0.2051, | val MAE   1.5756 | val MSE  10.0514\n"
          ]
        },
        {
          "output_type": "stream",
          "name": "stderr",
          "text": [
            "Epoch:  43%|████▎     | 43/100 [05:54<07:37,  8.02s/epoch]"
          ]
        },
        {
          "output_type": "stream",
          "name": "stdout",
          "text": [
            "Epoch 042 | Learning rate 0.000063 | train normalized MSE   0.2080 | val normalized MSE   0.2036, | val MAE   1.5657 | val MSE   9.9762\n"
          ]
        },
        {
          "output_type": "stream",
          "name": "stderr",
          "text": [
            "Epoch:  44%|████▍     | 44/100 [06:02<07:32,  8.07s/epoch]"
          ]
        },
        {
          "output_type": "stream",
          "name": "stdout",
          "text": [
            "Epoch 043 | Learning rate 0.000063 | train normalized MSE   0.2077 | val normalized MSE   0.2038, | val MAE   1.5688 | val MSE   9.9849\n"
          ]
        },
        {
          "output_type": "stream",
          "name": "stderr",
          "text": [
            "Epoch:  45%|████▌     | 45/100 [06:10<07:26,  8.12s/epoch]"
          ]
        },
        {
          "output_type": "stream",
          "name": "stdout",
          "text": [
            "Epoch 044 | Learning rate 0.000063 | train normalized MSE   0.2081 | val normalized MSE   0.2086, | val MAE   1.6091 | val MSE  10.2198\n"
          ]
        },
        {
          "output_type": "stream",
          "name": "stderr",
          "text": [
            "Epoch:  46%|████▌     | 46/100 [06:18<07:13,  8.02s/epoch]"
          ]
        },
        {
          "output_type": "stream",
          "name": "stdout",
          "text": [
            "Epoch 045 | Learning rate 0.000063 | train normalized MSE   0.2073 | val normalized MSE   0.2024, | val MAE   1.5717 | val MSE   9.9198\n"
          ]
        },
        {
          "output_type": "stream",
          "name": "stderr",
          "text": [
            "Epoch:  47%|████▋     | 47/100 [06:26<07:09,  8.10s/epoch]"
          ]
        },
        {
          "output_type": "stream",
          "name": "stdout",
          "text": [
            "Epoch 046 | Learning rate 0.000063 | train normalized MSE   0.2071 | val normalized MSE   0.1975, | val MAE   1.5534 | val MSE   9.6751\n"
          ]
        },
        {
          "output_type": "stream",
          "name": "stderr",
          "text": [
            "Epoch:  48%|████▊     | 48/100 [06:35<07:03,  8.15s/epoch]"
          ]
        },
        {
          "output_type": "stream",
          "name": "stdout",
          "text": [
            "Epoch 047 | Learning rate 0.000063 | train normalized MSE   0.2070 | val normalized MSE   0.2057, | val MAE   1.6196 | val MSE  10.0814\n"
          ]
        },
        {
          "output_type": "stream",
          "name": "stderr",
          "text": [
            "Epoch:  49%|████▉     | 49/100 [06:43<06:51,  8.06s/epoch]"
          ]
        },
        {
          "output_type": "stream",
          "name": "stdout",
          "text": [
            "Epoch 048 | Learning rate 0.000063 | train normalized MSE   0.2068 | val normalized MSE   0.1991, | val MAE   1.5625 | val MSE   9.7554\n"
          ]
        },
        {
          "output_type": "stream",
          "name": "stderr",
          "text": [
            "Epoch:  50%|█████     | 50/100 [06:51<06:46,  8.13s/epoch]"
          ]
        },
        {
          "output_type": "stream",
          "name": "stdout",
          "text": [
            "Epoch 049 | Learning rate 0.000063 | train normalized MSE   0.2065 | val normalized MSE   0.2041, | val MAE   1.5557 | val MSE  10.0008\n"
          ]
        },
        {
          "output_type": "stream",
          "name": "stderr",
          "text": [
            "Epoch:  51%|█████     | 51/100 [06:59<06:39,  8.16s/epoch]"
          ]
        },
        {
          "output_type": "stream",
          "name": "stdout",
          "text": [
            "Epoch 050 | Learning rate 0.000063 | train normalized MSE   0.2060 | val normalized MSE   0.2006, | val MAE   1.5768 | val MSE   9.8293\n"
          ]
        },
        {
          "output_type": "stream",
          "name": "stderr",
          "text": [
            "Epoch:  52%|█████▏    | 52/100 [07:07<06:26,  8.06s/epoch]"
          ]
        },
        {
          "output_type": "stream",
          "name": "stdout",
          "text": [
            "Epoch 051 | Learning rate 0.000063 | train normalized MSE   0.2058 | val normalized MSE   0.2013, | val MAE   1.6084 | val MSE   9.8639\n"
          ]
        },
        {
          "output_type": "stream",
          "name": "stderr",
          "text": [
            "Epoch:  53%|█████▎    | 53/100 [07:15<06:21,  8.12s/epoch]"
          ]
        },
        {
          "output_type": "stream",
          "name": "stdout",
          "text": [
            "Epoch 052 | Learning rate 0.000063 | train normalized MSE   0.2053 | val normalized MSE   0.1978, | val MAE   1.5407 | val MSE   9.6905\n"
          ]
        },
        {
          "output_type": "stream",
          "name": "stderr",
          "text": [
            "Epoch:  54%|█████▍    | 54/100 [07:23<06:15,  8.16s/epoch]"
          ]
        },
        {
          "output_type": "stream",
          "name": "stdout",
          "text": [
            "Epoch 053 | Learning rate 0.000063 | train normalized MSE   0.2059 | val normalized MSE   0.2045, | val MAE   1.5780 | val MSE  10.0227\n"
          ]
        },
        {
          "output_type": "stream",
          "name": "stderr",
          "text": [
            "Epoch:  55%|█████▌    | 55/100 [07:31<06:03,  8.07s/epoch]"
          ]
        },
        {
          "output_type": "stream",
          "name": "stdout",
          "text": [
            "Epoch 054 | Learning rate 0.000063 | train normalized MSE   0.2061 | val normalized MSE   0.1997, | val MAE   1.5705 | val MSE   9.7838\n"
          ]
        },
        {
          "output_type": "stream",
          "name": "stderr",
          "text": [
            "Epoch:  56%|█████▌    | 56/100 [07:39<05:56,  8.11s/epoch]"
          ]
        },
        {
          "output_type": "stream",
          "name": "stdout",
          "text": [
            "Epoch 055 | Learning rate 0.000063 | train normalized MSE   0.2066 | val normalized MSE   0.1997, | val MAE   1.5810 | val MSE   9.7846\n"
          ]
        },
        {
          "output_type": "stream",
          "name": "stderr",
          "text": [
            "Epoch:  56%|█████▌    | 56/100 [07:48<06:07,  8.36s/epoch]"
          ]
        },
        {
          "output_type": "stream",
          "name": "stdout",
          "text": [
            "Epoch 056 | Learning rate 0.000063 | train normalized MSE   0.2047 | val normalized MSE   0.1994, | val MAE   1.5448 | val MSE   9.7721\n",
            "Early stop!\n"
          ]
        },
        {
          "output_type": "stream",
          "name": "stderr",
          "text": [
            "\n"
          ]
        }
      ],
      "source": [
        "for epoch in tqdm.tqdm(range(100), desc=\"Epoch\", unit=\"epoch\"):\n",
        "    # ---- Training ----\n",
        "    model.train()\n",
        "    train_loss = 0\n",
        "    for batch in train_dataloader:\n",
        "        batch = batch.to(device)\n",
        "        pred = model(batch)\n",
        "        y = batch.y.view(batch.num_graphs, 60, 2)\n",
        "        loss = criterion(pred, y)\n",
        "        optimizer.zero_grad()\n",
        "        loss.backward()\n",
        "        torch.nn.utils.clip_grad_norm_(model.parameters(), 5.0)\n",
        "        optimizer.step()\n",
        "        train_loss += loss.item()\n",
        "\n",
        "    # ---- Validation ----\n",
        "    model.eval()\n",
        "    val_loss = 0\n",
        "    val_mae = 0\n",
        "    val_mse = 0\n",
        "    with torch.no_grad():\n",
        "        for batch in val_dataloader:\n",
        "            batch = batch.to(device)\n",
        "            pred = model(batch)\n",
        "            y = batch.y.view(batch.num_graphs, 60, 2)\n",
        "            val_loss += criterion(pred, y).item()\n",
        "\n",
        "            # show MAE and MSE with unnormalized data\n",
        "            pred = pred * batch.scale.view(-1, 1, 1) + batch.origin.unsqueeze(1)\n",
        "            y = y * batch.scale.view(-1, 1, 1) + batch.origin.unsqueeze(1)\n",
        "            val_mae += nn.L1Loss()(pred, y).item()\n",
        "            val_mse += nn.MSELoss()(pred, y).item()\n",
        "\n",
        "    train_loss /= len(train_dataloader)\n",
        "    val_loss /= len(val_dataloader)\n",
        "    val_mae /= len(val_dataloader)\n",
        "    val_mse /= len(val_dataloader)\n",
        "    scheduler.step()\n",
        "    # scheduler.step(val_loss)\n",
        "\n",
        "    tqdm.tqdm.write(f\"Epoch {epoch:03d} | Learning rate {optimizer.param_groups[0]['lr']:.6f} | train normalized MSE {train_loss:8.4f} | val normalized MSE {val_loss:8.4f}, | val MAE {val_mae:8.4f} | val MSE {val_mse:8.4f}\")\n",
        "    if val_loss < best_val_loss - 1e-3:\n",
        "        best_val_loss = val_loss\n",
        "        no_improvement = 0\n",
        "        torch.save(model.state_dict(), \"best_model.pt\")\n",
        "    else:\n",
        "        no_improvement += 1\n",
        "        if no_improvement >= early_stopping_patience:\n",
        "            print(\"Early stop!\")\n",
        "            break"
      ]
    },
    {
      "cell_type": "markdown",
      "metadata": {
        "id": "9bd51QranU38"
      },
      "source": [
        "#### Randomly sample validation dataset and Visualize the ground truth and your predictions on a 2D plane for Question 3 Problem A"
      ]
    },
    {
      "cell_type": "code",
      "execution_count": 14,
      "metadata": {
        "id": "xVIYWSoinU38"
      },
      "outputs": [],
      "source": [
        "import matplotlib.pyplot as plt\n",
        "import random\n",
        "\n",
        "def plot_trajectory(ax, pred, gt, title=None):\n",
        "    ax.cla()\n",
        "    # Plot the predicted future trajectory\n",
        "    ax.plot(pred[0,:60,0], pred[0,:60,1], color='red', label='Predicted Future Trajectory')\n",
        "\n",
        "    # Plot the ground truth future trajectory\n",
        "    ax.plot(gt[0,:60,0], gt[0,:60,1], color='blue', label='Ground Truth Future Trajectory')\n",
        "\n",
        "    # Optionally set axis limits, labels, and title.\n",
        "    x_max = max(pred[..., 0].max(), gt[..., 0].max())\n",
        "    x_min = min(pred[..., 0].min(), gt[..., 0].min())\n",
        "    y_max = max(pred[..., 1].max(), gt[..., 1].max())\n",
        "    y_min = min(pred[..., 1].min(), gt[..., 1].min())\n",
        "\n",
        "    ax.set_xlim(x_min, x_max)\n",
        "    ax.set_ylim(y_min, y_max)\n",
        "    ax.set_xlabel('X-axis')\n",
        "    ax.set_ylabel('Y-axis')\n",
        "\n",
        "    if title:\n",
        "        ax.set_title(title)\n",
        "\n",
        "    ax.legend()\n",
        "    ax.grid(True, linestyle='--', alpha=0.7)"
      ]
    },
    {
      "cell_type": "code",
      "execution_count": 15,
      "metadata": {
        "id": "8GRuK-vfnU38",
        "outputId": "37525f3f-825a-4605-82ee-565bf9e807aa",
        "colab": {
          "base_uri": "https://localhost:8080/",
          "height": 828
        }
      },
      "outputs": [
        {
          "output_type": "stream",
          "name": "stderr",
          "text": [
            "<ipython-input-8-4219dd54706e>:37: DeprecationWarning: __array_wrap__ must accept context and return_scalar arguments (positionally) in the future. (Deprecated NumPy 2.0)\n",
            "  future -= ego_final\n"
          ]
        },
        {
          "output_type": "display_data",
          "data": {
            "text/plain": [
              "<Figure size 2000x1000 with 4 Axes>"
            ],
            "image/png": "[encoded data removed]"
          },
          "metadata": {}
        }
      ],
      "source": [
        "model.load_state_dict(torch.load(\"best_model.pt\"))\n",
        "model.eval()\n",
        "\n",
        "# randomly select 4 samples from the validation set\n",
        "random_indices = random.sample(range(len(val_dataset)), 4)\n",
        "fig, axes = plt.subplots(2, 2, figsize=(20, 10))\n",
        "axes = axes.flatten()  # Flatten the array to iterate single axes objects\n",
        "\n",
        "for i, idx in enumerate(random_indices):\n",
        "    batch = val_dataset[idx]\n",
        "    batch = batch.to(device)\n",
        "    pred = model(batch)\n",
        "    gt = torch.stack(torch.split(batch.y, 60, dim=0), dim=0)\n",
        "\n",
        "    pred = pred * batch.scale.view(-1, 1, 1) + batch.origin.unsqueeze(1)\n",
        "    gt = torch.stack(torch.split(batch.y, 60, dim=0), dim=0) * batch.scale.view(-1, 1, 1) + batch.origin.unsqueeze(1)\n",
        "\n",
        "    pred = pred.detach().cpu().numpy()\n",
        "    gt = gt.detach().cpu().numpy()\n",
        "\n",
        "    # Plot the trajectory using the i-th axis\n",
        "    plot_trajectory(axes[i], pred, gt, title=f\"Sample {idx}\")\n",
        "\n",
        "plt.show()"
      ]
    },
    {
      "cell_type": "markdown",
      "metadata": {
        "id": "V3XMYRsynU38"
      },
      "source": [
        "#### Output your predictions of the best model on the test set"
      ]
    },
    {
      "cell_type": "code",
      "execution_count": 16,
      "metadata": {
        "id": "xP_BuuumnU38",
        "colab": {
          "base_uri": "https://localhost:8080/"
        },
        "outputId": "4ca1e589-6d6e-4e08-d897-32565d816717"
      },
      "outputs": [
        {
          "output_type": "stream",
          "name": "stdout",
          "text": [
            "hist shape in __getitem__: (7, 50, 6)\n",
            "hist shape in __getitem__: (7, 50, 6)\n",
            "hist shape in __getitem__: (7, 50, 6)\n",
            "hist shape in __getitem__: (7, 50, 6)\n",
            "hist shape in __getitem__: (7, 50, 6)\n",
            "hist shape in __getitem__: (7, 50, 6)\n",
            "hist shape in __getitem__: (7, 50, 6)\n",
            "hist shape in __getitem__: (7, 50, 6)\n",
            "hist shape in __getitem__: (7, 50, 6)\n",
            "hist shape in __getitem__: (7, 50, 6)\n",
            "hist shape in __getitem__: (7, 50, 6)\n",
            "hist shape in __getitem__: (7, 50, 6)\n",
            "hist shape in __getitem__: (7, 50, 6)\n",
            "hist shape in __getitem__: (7, 50, 6)\n",
            "hist shape in __getitem__: (7, 50, 6)\n",
            "hist shape in __getitem__: (7, 50, 6)\n",
            "hist shape in __getitem__: (7, 50, 6)\n",
            "hist shape in __getitem__: (7, 50, 6)\n",
            "hist shape in __getitem__: (7, 50, 6)\n",
            "hist shape in __getitem__: (7, 50, 6)\n",
            "hist shape in __getitem__: (7, 50, 6)\n",
            "hist shape in __getitem__: (7, 50, 6)\n",
            "hist shape in __getitem__: (7, 50, 6)\n",
            "hist shape in __getitem__: (7, 50, 6)\n",
            "hist shape in __getitem__: (7, 50, 6)\n",
            "hist shape in __getitem__: (7, 50, 6)\n",
            "hist shape in __getitem__: (7, 50, 6)\n",
            "hist shape in __getitem__: (7, 50, 6)\n",
            "hist shape in __getitem__: (7, 50, 6)\n",
            "hist shape in __getitem__: (7, 50, 6)\n",
            "hist shape in __getitem__: (7, 50, 6)\n",
            "hist shape in __getitem__: (7, 50, 6)\n",
            "hist shape in __getitem__: (7, 50, 6)\n",
            "hist shape in __getitem__: (7, 50, 6)\n",
            "hist shape in __getitem__: (7, 50, 6)\n",
            "hist shape in __getitem__: (7, 50, 6)\n",
            "hist shape in __getitem__: (7, 50, 6)\n",
            "hist shape in __getitem__: (7, 50, 6)\n",
            "hist shape in __getitem__: (7, 50, 6)\n",
            "hist shape in __getitem__: (7, 50, 6)\n",
            "hist shape in __getitem__: (7, 50, 6)\n",
            "hist shape in __getitem__: (7, 50, 6)\n",
            "hist shape in __getitem__: (7, 50, 6)\n",
            "hist shape in __getitem__: (7, 50, 6)\n",
            "hist shape in __getitem__: (7, 50, 6)\n",
            "hist shape in __getitem__: (7, 50, 6)\n",
            "hist shape in __getitem__: (7, 50, 6)\n",
            "hist shape in __getitem__: (7, 50, 6)\n",
            "hist shape in __getitem__: (7, 50, 6)\n",
            "hist shape in __getitem__: (7, 50, 6)\n",
            "hist shape in __getitem__: (7, 50, 6)\n",
            "hist shape in __getitem__: (7, 50, 6)\n",
            "hist shape in __getitem__: (7, 50, 6)\n",
            "hist shape in __getitem__: (7, 50, 6)\n",
            "hist shape in __getitem__: (7, 50, 6)\n",
            "hist shape in __getitem__: (7, 50, 6)\n",
            "hist shape in __getitem__: (7, 50, 6)\n",
            "hist shape in __getitem__: (7, 50, 6)\n",
            "hist shape in __getitem__: (7, 50, 6)\n",
            "hist shape in __getitem__: (7, 50, 6)\n",
            "hist shape in __getitem__: (7, 50, 6)\n",
            "hist shape in __getitem__: (7, 50, 6)\n",
            "hist shape in __getitem__: (7, 50, 6)\n",
            "hist shape in __getitem__: (7, 50, 6)\n",
            "hist shape in __getitem__: (7, 50, 6)\n",
            "hist shape in __getitem__: (7, 50, 6)\n",
            "hist shape in __getitem__: (7, 50, 6)\n",
            "hist shape in __getitem__: (7, 50, 6)\n",
            "hist shape in __getitem__: (7, 50, 6)\n",
            "hist shape in __getitem__: (7, 50, 6)\n",
            "hist shape in __getitem__: (7, 50, 6)\n",
            "hist shape in __getitem__: (7, 50, 6)\n",
            "hist shape in __getitem__: (7, 50, 6)\n",
            "hist shape in __getitem__: (7, 50, 6)\n",
            "hist shape in __getitem__: (7, 50, 6)\n",
            "hist shape in __getitem__: (7, 50, 6)\n",
            "hist shape in __getitem__: (7, 50, 6)\n",
            "hist shape in __getitem__: (7, 50, 6)\n",
            "hist shape in __getitem__: (7, 50, 6)\n",
            "hist shape in __getitem__: (7, 50, 6)\n",
            "hist shape in __getitem__: (7, 50, 6)\n",
            "hist shape in __getitem__: (7, 50, 6)\n",
            "hist shape in __getitem__: (7, 50, 6)\n",
            "hist shape in __getitem__: (7, 50, 6)\n",
            "hist shape in __getitem__: (7, 50, 6)\n",
            "hist shape in __getitem__: (7, 50, 6)\n",
            "hist shape in __getitem__: (7, 50, 6)\n",
            "hist shape in __getitem__: (7, 50, 6)\n",
            "hist shape in __getitem__: (7, 50, 6)\n",
            "hist shape in __getitem__: (7, 50, 6)\n",
            "hist shape in __getitem__: (7, 50, 6)\n",
            "hist shape in __getitem__: (7, 50, 6)\n",
            "hist shape in __getitem__: (7, 50, 6)\n",
            "hist shape in __getitem__: (7, 50, 6)\n",
            "hist shape in __getitem__: (7, 50, 6)\n",
            "hist shape in __getitem__: (7, 50, 6)\n",
            "hist shape in __getitem__: (7, 50, 6)\n",
            "hist shape in __getitem__: (7, 50, 6)\n",
            "hist shape in __getitem__: (7, 50, 6)\n",
            "hist shape in __getitem__: (7, 50, 6)\n",
            "hist shape in __getitem__: (7, 50, 6)\n",
            "hist shape in __getitem__: (7, 50, 6)\n",
            "hist shape in __getitem__: (7, 50, 6)\n",
            "hist shape in __getitem__: (7, 50, 6)\n",
            "hist shape in __getitem__: (7, 50, 6)\n",
            "hist shape in __getitem__: (7, 50, 6)\n",
            "hist shape in __getitem__: (7, 50, 6)\n",
            "hist shape in __getitem__: (7, 50, 6)\n",
            "hist shape in __getitem__: (7, 50, 6)\n",
            "hist shape in __getitem__: (7, 50, 6)\n",
            "hist shape in __getitem__: (7, 50, 6)\n",
            "hist shape in __getitem__: (7, 50, 6)\n",
            "hist shape in __getitem__: (7, 50, 6)\n",
            "hist shape in __getitem__: (7, 50, 6)\n",
            "hist shape in __getitem__: (7, 50, 6)\n",
            "hist shape in __getitem__: (7, 50, 6)\n",
            "hist shape in __getitem__: (7, 50, 6)\n",
            "hist shape in __getitem__: (7, 50, 6)\n",
            "hist shape in __getitem__: (7, 50, 6)\n",
            "hist shape in __getitem__: (7, 50, 6)\n",
            "hist shape in __getitem__: (7, 50, 6)\n",
            "hist shape in __getitem__: (7, 50, 6)\n",
            "hist shape in __getitem__: (7, 50, 6)\n",
            "hist shape in __getitem__: (7, 50, 6)\n",
            "hist shape in __getitem__: (7, 50, 6)\n",
            "hist shape in __getitem__: (7, 50, 6)\n",
            "hist shape in __getitem__: (7, 50, 6)\n",
            "hist shape in __getitem__: (7, 50, 6)\n",
            "hist shape in __getitem__: (7, 50, 6)\n",
            "hist shape in __getitem__: (7, 50, 6)\n",
            "hist shape in __getitem__: (7, 50, 6)\n",
            "hist shape in __getitem__: (7, 50, 6)\n",
            "hist shape in __getitem__: (7, 50, 6)\n",
            "hist shape in __getitem__: (7, 50, 6)\n",
            "hist shape in __getitem__: (7, 50, 6)\n",
            "hist shape in __getitem__: (7, 50, 6)\n",
            "hist shape in __getitem__: (7, 50, 6)\n",
            "hist shape in __getitem__: (7, 50, 6)\n",
            "hist shape in __getitem__: (7, 50, 6)\n",
            "hist shape in __getitem__: (7, 50, 6)\n",
            "hist shape in __getitem__: (7, 50, 6)\n",
            "hist shape in __getitem__: (7, 50, 6)\n",
            "hist shape in __getitem__: (7, 50, 6)\n",
            "hist shape in __getitem__: (7, 50, 6)\n",
            "hist shape in __getitem__: (7, 50, 6)\n",
            "hist shape in __getitem__: (7, 50, 6)\n",
            "hist shape in __getitem__: (7, 50, 6)\n",
            "hist shape in __getitem__: (7, 50, 6)\n",
            "hist shape in __getitem__: (7, 50, 6)\n",
            "hist shape in __getitem__: (7, 50, 6)\n",
            "hist shape in __getitem__: (7, 50, 6)\n",
            "hist shape in __getitem__: (7, 50, 6)\n",
            "hist shape in __getitem__: (7, 50, 6)\n",
            "hist shape in __getitem__: (7, 50, 6)\n",
            "hist shape in __getitem__: (7, 50, 6)\n",
            "hist shape in __getitem__: (7, 50, 6)\n",
            "hist shape in __getitem__: (7, 50, 6)\n",
            "hist shape in __getitem__: (7, 50, 6)\n",
            "hist shape in __getitem__: (7, 50, 6)\n",
            "hist shape in __getitem__: (7, 50, 6)\n",
            "hist shape in __getitem__: (7, 50, 6)\n",
            "hist shape in __getitem__: (7, 50, 6)\n",
            "hist shape in __getitem__: (7, 50, 6)\n",
            "hist shape in __getitem__: (7, 50, 6)\n",
            "hist shape in __getitem__: (7, 50, 6)\n",
            "hist shape in __getitem__: (7, 50, 6)\n",
            "hist shape in __getitem__: (7, 50, 6)\n",
            "hist shape in __getitem__: (7, 50, 6)\n",
            "hist shape in __getitem__: (7, 50, 6)\n",
            "hist shape in __getitem__: (7, 50, 6)\n",
            "hist shape in __getitem__: (7, 50, 6)\n",
            "hist shape in __getitem__: (7, 50, 6)\n",
            "hist shape in __getitem__: (7, 50, 6)\n",
            "hist shape in __getitem__: (7, 50, 6)\n",
            "hist shape in __getitem__: (7, 50, 6)\n",
            "hist shape in __getitem__: (7, 50, 6)\n",
            "hist shape in __getitem__: (7, 50, 6)\n",
            "hist shape in __getitem__: (7, 50, 6)\n",
            "hist shape in __getitem__: (7, 50, 6)\n",
            "hist shape in __getitem__: (7, 50, 6)\n",
            "hist shape in __getitem__: (7, 50, 6)\n",
            "hist shape in __getitem__: (7, 50, 6)\n",
            "hist shape in __getitem__: (7, 50, 6)\n",
            "hist shape in __getitem__: (7, 50, 6)\n",
            "hist shape in __getitem__: (7, 50, 6)\n",
            "hist shape in __getitem__: (7, 50, 6)\n",
            "hist shape in __getitem__: (7, 50, 6)\n",
            "hist shape in __getitem__: (7, 50, 6)\n",
            "hist shape in __getitem__: (7, 50, 6)\n",
            "hist shape in __getitem__: (7, 50, 6)\n",
            "hist shape in __getitem__: (7, 50, 6)\n",
            "hist shape in __getitem__: (7, 50, 6)\n",
            "hist shape in __getitem__: (7, 50, 6)\n",
            "hist shape in __getitem__: (7, 50, 6)\n",
            "hist shape in __getitem__: (7, 50, 6)\n",
            "hist shape in __getitem__: (7, 50, 6)\n",
            "hist shape in __getitem__: (7, 50, 6)\n",
            "hist shape in __getitem__: (7, 50, 6)\n",
            "hist shape in __getitem__: (7, 50, 6)\n",
            "hist shape in __getitem__: (7, 50, 6)\n",
            "hist shape in __getitem__: (7, 50, 6)\n",
            "hist shape in __getitem__: (7, 50, 6)\n",
            "hist shape in __getitem__: (7, 50, 6)\n",
            "hist shape in __getitem__: (7, 50, 6)\n",
            "hist shape in __getitem__: (7, 50, 6)\n",
            "hist shape in __getitem__: (7, 50, 6)\n",
            "hist shape in __getitem__: (7, 50, 6)\n",
            "hist shape in __getitem__: (7, 50, 6)\n",
            "hist shape in __getitem__: (7, 50, 6)\n",
            "hist shape in __getitem__: (7, 50, 6)\n",
            "hist shape in __getitem__: (7, 50, 6)\n",
            "hist shape in __getitem__: (7, 50, 6)\n",
            "hist shape in __getitem__: (7, 50, 6)\n",
            "hist shape in __getitem__: (7, 50, 6)\n",
            "hist shape in __getitem__: (7, 50, 6)\n",
            "hist shape in __getitem__: (7, 50, 6)\n",
            "hist shape in __getitem__: (7, 50, 6)\n",
            "hist shape in __getitem__: (7, 50, 6)\n",
            "hist shape in __getitem__: (7, 50, 6)\n",
            "hist shape in __getitem__: (7, 50, 6)\n",
            "hist shape in __getitem__: (7, 50, 6)\n",
            "hist shape in __getitem__: (7, 50, 6)\n",
            "hist shape in __getitem__: (7, 50, 6)\n",
            "hist shape in __getitem__: (7, 50, 6)\n",
            "hist shape in __getitem__: (7, 50, 6)\n",
            "hist shape in __getitem__: (7, 50, 6)\n",
            "hist shape in __getitem__: (7, 50, 6)\n",
            "hist shape in __getitem__: (7, 50, 6)\n",
            "hist shape in __getitem__: (7, 50, 6)\n",
            "hist shape in __getitem__: (7, 50, 6)\n",
            "hist shape in __getitem__: (7, 50, 6)\n",
            "hist shape in __getitem__: (7, 50, 6)\n",
            "hist shape in __getitem__: (7, 50, 6)\n",
            "hist shape in __getitem__: (7, 50, 6)\n",
            "hist shape in __getitem__: (7, 50, 6)\n",
            "hist shape in __getitem__: (7, 50, 6)\n",
            "hist shape in __getitem__: (7, 50, 6)\n",
            "hist shape in __getitem__: (7, 50, 6)\n",
            "hist shape in __getitem__: (7, 50, 6)\n",
            "hist shape in __getitem__: (7, 50, 6)\n",
            "hist shape in __getitem__: (7, 50, 6)\n",
            "hist shape in __getitem__: (7, 50, 6)\n",
            "hist shape in __getitem__: (7, 50, 6)\n",
            "hist shape in __getitem__: (7, 50, 6)\n",
            "hist shape in __getitem__: (7, 50, 6)\n",
            "hist shape in __getitem__: (7, 50, 6)\n",
            "hist shape in __getitem__: (7, 50, 6)\n",
            "hist shape in __getitem__: (7, 50, 6)\n",
            "hist shape in __getitem__: (7, 50, 6)\n",
            "hist shape in __getitem__: (7, 50, 6)\n",
            "hist shape in __getitem__: (7, 50, 6)\n",
            "hist shape in __getitem__: (7, 50, 6)\n",
            "hist shape in __getitem__: (7, 50, 6)\n",
            "hist shape in __getitem__: (7, 50, 6)\n",
            "hist shape in __getitem__: (7, 50, 6)\n",
            "hist shape in __getitem__: (7, 50, 6)\n",
            "hist shape in __getitem__: (7, 50, 6)\n",
            "hist shape in __getitem__: (7, 50, 6)\n",
            "hist shape in __getitem__: (7, 50, 6)\n",
            "hist shape in __getitem__: (7, 50, 6)\n",
            "hist shape in __getitem__: (7, 50, 6)\n",
            "hist shape in __getitem__: (7, 50, 6)\n",
            "hist shape in __getitem__: (7, 50, 6)\n",
            "hist shape in __getitem__: (7, 50, 6)\n",
            "hist shape in __getitem__: (7, 50, 6)\n",
            "hist shape in __getitem__: (7, 50, 6)\n",
            "hist shape in __getitem__: (7, 50, 6)\n",
            "hist shape in __getitem__: (7, 50, 6)\n",
            "hist shape in __getitem__: (7, 50, 6)\n",
            "hist shape in __getitem__: (7, 50, 6)\n",
            "hist shape in __getitem__: (7, 50, 6)\n",
            "hist shape in __getitem__: (7, 50, 6)\n",
            "hist shape in __getitem__: (7, 50, 6)\n",
            "hist shape in __getitem__: (7, 50, 6)\n",
            "hist shape in __getitem__: (7, 50, 6)\n",
            "hist shape in __getitem__: (7, 50, 6)\n",
            "hist shape in __getitem__: (7, 50, 6)\n",
            "hist shape in __getitem__: (7, 50, 6)\n",
            "hist shape in __getitem__: (7, 50, 6)\n",
            "hist shape in __getitem__: (7, 50, 6)\n",
            "hist shape in __getitem__: (7, 50, 6)\n",
            "hist shape in __getitem__: (7, 50, 6)\n",
            "hist shape in __getitem__: (7, 50, 6)\n",
            "hist shape in __getitem__: (7, 50, 6)\n",
            "hist shape in __getitem__: (7, 50, 6)\n",
            "hist shape in __getitem__: (7, 50, 6)\n",
            "hist shape in __getitem__: (7, 50, 6)\n",
            "hist shape in __getitem__: (7, 50, 6)\n",
            "hist shape in __getitem__: (7, 50, 6)\n",
            "hist shape in __getitem__: (7, 50, 6)\n",
            "hist shape in __getitem__: (7, 50, 6)\n",
            "hist shape in __getitem__: (7, 50, 6)\n",
            "hist shape in __getitem__: (7, 50, 6)\n",
            "hist shape in __getitem__: (7, 50, 6)\n",
            "hist shape in __getitem__: (7, 50, 6)\n",
            "hist shape in __getitem__: (7, 50, 6)\n",
            "hist shape in __getitem__: (7, 50, 6)\n",
            "hist shape in __getitem__: (7, 50, 6)\n",
            "hist shape in __getitem__: (7, 50, 6)\n",
            "hist shape in __getitem__: (7, 50, 6)\n",
            "hist shape in __getitem__: (7, 50, 6)\n",
            "hist shape in __getitem__: (7, 50, 6)\n",
            "hist shape in __getitem__: (7, 50, 6)\n",
            "hist shape in __getitem__: (7, 50, 6)\n",
            "hist shape in __getitem__: (7, 50, 6)\n",
            "hist shape in __getitem__: (7, 50, 6)\n",
            "hist shape in __getitem__: (7, 50, 6)\n",
            "hist shape in __getitem__: (7, 50, 6)\n",
            "hist shape in __getitem__: (7, 50, 6)\n",
            "hist shape in __getitem__: (7, 50, 6)\n",
            "hist shape in __getitem__: (7, 50, 6)\n",
            "hist shape in __getitem__: (7, 50, 6)\n",
            "hist shape in __getitem__: (7, 50, 6)\n",
            "hist shape in __getitem__: (7, 50, 6)\n",
            "hist shape in __getitem__: (7, 50, 6)\n",
            "hist shape in __getitem__: (7, 50, 6)\n",
            "hist shape in __getitem__: (7, 50, 6)\n",
            "hist shape in __getitem__: (7, 50, 6)\n",
            "hist shape in __getitem__: (7, 50, 6)\n",
            "hist shape in __getitem__: (7, 50, 6)\n",
            "hist shape in __getitem__: (7, 50, 6)\n",
            "hist shape in __getitem__: (7, 50, 6)\n",
            "hist shape in __getitem__: (7, 50, 6)\n",
            "hist shape in __getitem__: (7, 50, 6)\n",
            "hist shape in __getitem__: (7, 50, 6)\n",
            "hist shape in __getitem__: (7, 50, 6)\n",
            "hist shape in __getitem__: (7, 50, 6)\n",
            "hist shape in __getitem__: (7, 50, 6)\n",
            "hist shape in __getitem__: (7, 50, 6)\n",
            "hist shape in __getitem__: (7, 50, 6)\n",
            "hist shape in __getitem__: (7, 50, 6)\n",
            "hist shape in __getitem__: (7, 50, 6)\n",
            "hist shape in __getitem__: (7, 50, 6)\n",
            "hist shape in __getitem__: (7, 50, 6)\n",
            "hist shape in __getitem__: (7, 50, 6)\n",
            "hist shape in __getitem__: (7, 50, 6)\n",
            "hist shape in __getitem__: (7, 50, 6)\n",
            "hist shape in __getitem__: (7, 50, 6)\n",
            "hist shape in __getitem__: (7, 50, 6)\n",
            "hist shape in __getitem__: (7, 50, 6)\n",
            "hist shape in __getitem__: (7, 50, 6)\n",
            "hist shape in __getitem__: (7, 50, 6)\n",
            "hist shape in __getitem__: (7, 50, 6)\n",
            "hist shape in __getitem__: (7, 50, 6)\n",
            "hist shape in __getitem__: (7, 50, 6)\n",
            "hist shape in __getitem__: (7, 50, 6)\n",
            "hist shape in __getitem__: (7, 50, 6)\n",
            "hist shape in __getitem__: (7, 50, 6)\n",
            "hist shape in __getitem__: (7, 50, 6)\n",
            "hist shape in __getitem__: (7, 50, 6)\n",
            "hist shape in __getitem__: (7, 50, 6)\n",
            "hist shape in __getitem__: (7, 50, 6)\n",
            "hist shape in __getitem__: (7, 50, 6)\n",
            "hist shape in __getitem__: (7, 50, 6)\n",
            "hist shape in __getitem__: (7, 50, 6)\n",
            "hist shape in __getitem__: (7, 50, 6)\n",
            "hist shape in __getitem__: (7, 50, 6)\n",
            "hist shape in __getitem__: (7, 50, 6)\n",
            "hist shape in __getitem__: (7, 50, 6)\n",
            "hist shape in __getitem__: (7, 50, 6)\n",
            "hist shape in __getitem__: (7, 50, 6)\n",
            "hist shape in __getitem__: (7, 50, 6)\n",
            "hist shape in __getitem__: (7, 50, 6)\n",
            "hist shape in __getitem__: (7, 50, 6)\n",
            "hist shape in __getitem__: (7, 50, 6)\n",
            "hist shape in __getitem__: (7, 50, 6)\n",
            "hist shape in __getitem__: (7, 50, 6)\n",
            "hist shape in __getitem__: (7, 50, 6)\n",
            "hist shape in __getitem__: (7, 50, 6)\n",
            "hist shape in __getitem__: (7, 50, 6)\n",
            "hist shape in __getitem__: (7, 50, 6)\n",
            "hist shape in __getitem__: (7, 50, 6)\n",
            "hist shape in __getitem__: (7, 50, 6)\n",
            "hist shape in __getitem__: (7, 50, 6)\n",
            "hist shape in __getitem__: (7, 50, 6)\n",
            "hist shape in __getitem__: (7, 50, 6)\n",
            "hist shape in __getitem__: (7, 50, 6)\n",
            "hist shape in __getitem__: (7, 50, 6)\n",
            "hist shape in __getitem__: (7, 50, 6)\n",
            "hist shape in __getitem__: (7, 50, 6)\n",
            "hist shape in __getitem__: (7, 50, 6)\n",
            "hist shape in __getitem__: (7, 50, 6)\n",
            "hist shape in __getitem__: (7, 50, 6)\n",
            "hist shape in __getitem__: (7, 50, 6)\n",
            "hist shape in __getitem__: (7, 50, 6)\n",
            "hist shape in __getitem__: (7, 50, 6)\n",
            "hist shape in __getitem__: (7, 50, 6)\n",
            "hist shape in __getitem__: (7, 50, 6)\n",
            "hist shape in __getitem__: (7, 50, 6)\n",
            "hist shape in __getitem__: (7, 50, 6)\n",
            "hist shape in __getitem__: (7, 50, 6)\n",
            "hist shape in __getitem__: (7, 50, 6)\n",
            "hist shape in __getitem__: (7, 50, 6)\n",
            "hist shape in __getitem__: (7, 50, 6)\n",
            "hist shape in __getitem__: (7, 50, 6)\n",
            "hist shape in __getitem__: (7, 50, 6)\n",
            "hist shape in __getitem__: (7, 50, 6)\n",
            "hist shape in __getitem__: (7, 50, 6)\n",
            "hist shape in __getitem__: (7, 50, 6)\n",
            "hist shape in __getitem__: (7, 50, 6)\n",
            "hist shape in __getitem__: (7, 50, 6)\n",
            "hist shape in __getitem__: (7, 50, 6)\n",
            "hist shape in __getitem__: (7, 50, 6)\n",
            "hist shape in __getitem__: (7, 50, 6)\n",
            "hist shape in __getitem__: (7, 50, 6)\n",
            "hist shape in __getitem__: (7, 50, 6)\n",
            "hist shape in __getitem__: (7, 50, 6)\n",
            "hist shape in __getitem__: (7, 50, 6)\n",
            "hist shape in __getitem__: (7, 50, 6)\n",
            "hist shape in __getitem__: (7, 50, 6)\n",
            "hist shape in __getitem__: (7, 50, 6)\n",
            "hist shape in __getitem__: (7, 50, 6)\n",
            "hist shape in __getitem__: (7, 50, 6)\n",
            "hist shape in __getitem__: (7, 50, 6)\n",
            "hist shape in __getitem__: (7, 50, 6)\n",
            "hist shape in __getitem__: (7, 50, 6)\n",
            "hist shape in __getitem__: (7, 50, 6)\n",
            "hist shape in __getitem__: (7, 50, 6)\n",
            "hist shape in __getitem__: (7, 50, 6)\n",
            "hist shape in __getitem__: (7, 50, 6)\n",
            "hist shape in __getitem__: (7, 50, 6)\n",
            "hist shape in __getitem__: (7, 50, 6)\n",
            "hist shape in __getitem__: (7, 50, 6)\n",
            "hist shape in __getitem__: (7, 50, 6)\n",
            "hist shape in __getitem__: (7, 50, 6)\n",
            "hist shape in __getitem__: (7, 50, 6)\n",
            "hist shape in __getitem__: (7, 50, 6)\n",
            "hist shape in __getitem__: (7, 50, 6)\n",
            "hist shape in __getitem__: (7, 50, 6)\n",
            "hist shape in __getitem__: (7, 50, 6)\n",
            "hist shape in __getitem__: (7, 50, 6)\n",
            "hist shape in __getitem__: (7, 50, 6)\n",
            "hist shape in __getitem__: (7, 50, 6)\n",
            "hist shape in __getitem__: (7, 50, 6)\n",
            "hist shape in __getitem__: (7, 50, 6)\n",
            "hist shape in __getitem__: (7, 50, 6)\n",
            "hist shape in __getitem__: (7, 50, 6)\n",
            "hist shape in __getitem__: (7, 50, 6)\n",
            "hist shape in __getitem__: (7, 50, 6)\n",
            "hist shape in __getitem__: (7, 50, 6)\n",
            "hist shape in __getitem__: (7, 50, 6)\n",
            "hist shape in __getitem__: (7, 50, 6)\n",
            "hist shape in __getitem__: (7, 50, 6)\n",
            "hist shape in __getitem__: (7, 50, 6)\n",
            "hist shape in __getitem__: (7, 50, 6)\n",
            "hist shape in __getitem__: (7, 50, 6)\n",
            "hist shape in __getitem__: (7, 50, 6)\n",
            "hist shape in __getitem__: (7, 50, 6)\n",
            "hist shape in __getitem__: (7, 50, 6)\n",
            "hist shape in __getitem__: (7, 50, 6)\n",
            "hist shape in __getitem__: (7, 50, 6)\n",
            "hist shape in __getitem__: (7, 50, 6)\n",
            "hist shape in __getitem__: (7, 50, 6)\n",
            "hist shape in __getitem__: (7, 50, 6)\n",
            "hist shape in __getitem__: (7, 50, 6)\n",
            "hist shape in __getitem__: (7, 50, 6)\n",
            "hist shape in __getitem__: (7, 50, 6)\n",
            "hist shape in __getitem__: (7, 50, 6)\n",
            "hist shape in __getitem__: (7, 50, 6)\n",
            "hist shape in __getitem__: (7, 50, 6)\n",
            "hist shape in __getitem__: (7, 50, 6)\n",
            "hist shape in __getitem__: (7, 50, 6)\n",
            "hist shape in __getitem__: (7, 50, 6)\n",
            "hist shape in __getitem__: (7, 50, 6)\n",
            "hist shape in __getitem__: (7, 50, 6)\n",
            "hist shape in __getitem__: (7, 50, 6)\n",
            "hist shape in __getitem__: (7, 50, 6)\n",
            "hist shape in __getitem__: (7, 50, 6)\n",
            "hist shape in __getitem__: (7, 50, 6)\n",
            "hist shape in __getitem__: (7, 50, 6)\n",
            "hist shape in __getitem__: (7, 50, 6)\n",
            "hist shape in __getitem__: (7, 50, 6)\n",
            "hist shape in __getitem__: (7, 50, 6)\n",
            "hist shape in __getitem__: (7, 50, 6)\n",
            "hist shape in __getitem__: (7, 50, 6)\n",
            "hist shape in __getitem__: (7, 50, 6)\n",
            "hist shape in __getitem__: (7, 50, 6)\n",
            "hist shape in __getitem__: (7, 50, 6)\n",
            "hist shape in __getitem__: (7, 50, 6)\n",
            "hist shape in __getitem__: (7, 50, 6)\n",
            "hist shape in __getitem__: (7, 50, 6)\n",
            "hist shape in __getitem__: (7, 50, 6)\n",
            "hist shape in __getitem__: (7, 50, 6)\n",
            "hist shape in __getitem__: (7, 50, 6)\n",
            "hist shape in __getitem__: (7, 50, 6)\n",
            "hist shape in __getitem__: (7, 50, 6)\n",
            "hist shape in __getitem__: (7, 50, 6)\n",
            "hist shape in __getitem__: (7, 50, 6)\n",
            "hist shape in __getitem__: (7, 50, 6)\n",
            "hist shape in __getitem__: (7, 50, 6)\n",
            "hist shape in __getitem__: (7, 50, 6)\n",
            "hist shape in __getitem__: (7, 50, 6)\n",
            "hist shape in __getitem__: (7, 50, 6)\n",
            "hist shape in __getitem__: (7, 50, 6)\n",
            "hist shape in __getitem__: (7, 50, 6)\n",
            "hist shape in __getitem__: (7, 50, 6)\n",
            "hist shape in __getitem__: (7, 50, 6)\n",
            "hist shape in __getitem__: (7, 50, 6)\n",
            "hist shape in __getitem__: (7, 50, 6)\n",
            "hist shape in __getitem__: (7, 50, 6)\n",
            "hist shape in __getitem__: (7, 50, 6)\n",
            "hist shape in __getitem__: (7, 50, 6)\n",
            "hist shape in __getitem__: (7, 50, 6)\n",
            "hist shape in __getitem__: (7, 50, 6)\n",
            "hist shape in __getitem__: (7, 50, 6)\n",
            "hist shape in __getitem__: (7, 50, 6)\n",
            "hist shape in __getitem__: (7, 50, 6)\n",
            "hist shape in __getitem__: (7, 50, 6)\n",
            "hist shape in __getitem__: (7, 50, 6)\n",
            "hist shape in __getitem__: (7, 50, 6)\n",
            "hist shape in __getitem__: (7, 50, 6)\n",
            "hist shape in __getitem__: (7, 50, 6)\n",
            "hist shape in __getitem__: (7, 50, 6)\n",
            "hist shape in __getitem__: (7, 50, 6)\n",
            "hist shape in __getitem__: (7, 50, 6)\n",
            "hist shape in __getitem__: (7, 50, 6)\n",
            "hist shape in __getitem__: (7, 50, 6)\n",
            "hist shape in __getitem__: (7, 50, 6)\n",
            "hist shape in __getitem__: (7, 50, 6)\n",
            "hist shape in __getitem__: (7, 50, 6)\n",
            "hist shape in __getitem__: (7, 50, 6)\n",
            "hist shape in __getitem__: (7, 50, 6)\n",
            "hist shape in __getitem__: (7, 50, 6)\n",
            "hist shape in __getitem__: (7, 50, 6)\n",
            "hist shape in __getitem__: (7, 50, 6)\n",
            "hist shape in __getitem__: (7, 50, 6)\n",
            "hist shape in __getitem__: (7, 50, 6)\n",
            "hist shape in __getitem__: (7, 50, 6)\n",
            "hist shape in __getitem__: (7, 50, 6)\n",
            "hist shape in __getitem__: (7, 50, 6)\n",
            "hist shape in __getitem__: (7, 50, 6)\n",
            "hist shape in __getitem__: (7, 50, 6)\n",
            "hist shape in __getitem__: (7, 50, 6)\n",
            "hist shape in __getitem__: (7, 50, 6)\n",
            "hist shape in __getitem__: (7, 50, 6)\n",
            "hist shape in __getitem__: (7, 50, 6)\n",
            "hist shape in __getitem__: (7, 50, 6)\n",
            "hist shape in __getitem__: (7, 50, 6)\n",
            "hist shape in __getitem__: (7, 50, 6)\n",
            "hist shape in __getitem__: (7, 50, 6)\n",
            "hist shape in __getitem__: (7, 50, 6)\n",
            "hist shape in __getitem__: (7, 50, 6)\n",
            "hist shape in __getitem__: (7, 50, 6)\n",
            "hist shape in __getitem__: (7, 50, 6)\n",
            "hist shape in __getitem__: (7, 50, 6)\n",
            "hist shape in __getitem__: (7, 50, 6)\n",
            "hist shape in __getitem__: (7, 50, 6)\n",
            "hist shape in __getitem__: (7, 50, 6)\n",
            "hist shape in __getitem__: (7, 50, 6)\n",
            "hist shape in __getitem__: (7, 50, 6)\n",
            "hist shape in __getitem__: (7, 50, 6)\n",
            "hist shape in __getitem__: (7, 50, 6)\n",
            "hist shape in __getitem__: (7, 50, 6)\n",
            "hist shape in __getitem__: (7, 50, 6)\n",
            "hist shape in __getitem__: (7, 50, 6)\n",
            "hist shape in __getitem__: (7, 50, 6)\n",
            "hist shape in __getitem__: (7, 50, 6)\n",
            "hist shape in __getitem__: (7, 50, 6)\n",
            "hist shape in __getitem__: (7, 50, 6)\n",
            "hist shape in __getitem__: (7, 50, 6)\n",
            "hist shape in __getitem__: (7, 50, 6)\n",
            "hist shape in __getitem__: (7, 50, 6)\n",
            "hist shape in __getitem__: (7, 50, 6)\n",
            "hist shape in __getitem__: (7, 50, 6)\n",
            "hist shape in __getitem__: (7, 50, 6)\n",
            "hist shape in __getitem__: (7, 50, 6)\n",
            "hist shape in __getitem__: (7, 50, 6)\n",
            "hist shape in __getitem__: (7, 50, 6)\n",
            "hist shape in __getitem__: (7, 50, 6)\n",
            "hist shape in __getitem__: (7, 50, 6)\n",
            "hist shape in __getitem__: (7, 50, 6)\n",
            "hist shape in __getitem__: (7, 50, 6)\n",
            "hist shape in __getitem__: (7, 50, 6)\n",
            "hist shape in __getitem__: (7, 50, 6)\n",
            "hist shape in __getitem__: (7, 50, 6)\n",
            "hist shape in __getitem__: (7, 50, 6)\n",
            "hist shape in __getitem__: (7, 50, 6)\n",
            "hist shape in __getitem__: (7, 50, 6)\n",
            "hist shape in __getitem__: (7, 50, 6)\n",
            "hist shape in __getitem__: (7, 50, 6)\n",
            "hist shape in __getitem__: (7, 50, 6)\n",
            "hist shape in __getitem__: (7, 50, 6)\n",
            "hist shape in __getitem__: (7, 50, 6)\n",
            "hist shape in __getitem__: (7, 50, 6)\n",
            "hist shape in __getitem__: (7, 50, 6)\n",
            "hist shape in __getitem__: (7, 50, 6)\n",
            "hist shape in __getitem__: (7, 50, 6)\n",
            "hist shape in __getitem__: (7, 50, 6)\n",
            "hist shape in __getitem__: (7, 50, 6)\n",
            "hist shape in __getitem__: (7, 50, 6)\n",
            "hist shape in __getitem__: (7, 50, 6)\n",
            "hist shape in __getitem__: (7, 50, 6)\n",
            "hist shape in __getitem__: (7, 50, 6)\n",
            "hist shape in __getitem__: (7, 50, 6)\n",
            "hist shape in __getitem__: (7, 50, 6)\n",
            "hist shape in __getitem__: (7, 50, 6)\n",
            "hist shape in __getitem__: (7, 50, 6)\n",
            "hist shape in __getitem__: (7, 50, 6)\n",
            "hist shape in __getitem__: (7, 50, 6)\n",
            "hist shape in __getitem__: (7, 50, 6)\n",
            "hist shape in __getitem__: (7, 50, 6)\n",
            "hist shape in __getitem__: (7, 50, 6)\n",
            "hist shape in __getitem__: (7, 50, 6)\n",
            "hist shape in __getitem__: (7, 50, 6)\n",
            "hist shape in __getitem__: (7, 50, 6)\n",
            "hist shape in __getitem__: (7, 50, 6)\n",
            "hist shape in __getitem__: (7, 50, 6)\n",
            "hist shape in __getitem__: (7, 50, 6)\n",
            "hist shape in __getitem__: (7, 50, 6)\n",
            "hist shape in __getitem__: (7, 50, 6)\n",
            "hist shape in __getitem__: (7, 50, 6)\n",
            "hist shape in __getitem__: (7, 50, 6)\n",
            "hist shape in __getitem__: (7, 50, 6)\n",
            "hist shape in __getitem__: (7, 50, 6)\n",
            "hist shape in __getitem__: (7, 50, 6)\n",
            "hist shape in __getitem__: (7, 50, 6)\n",
            "hist shape in __getitem__: (7, 50, 6)\n",
            "hist shape in __getitem__: (7, 50, 6)\n",
            "hist shape in __getitem__: (7, 50, 6)\n",
            "hist shape in __getitem__: (7, 50, 6)\n",
            "hist shape in __getitem__: (7, 50, 6)\n",
            "hist shape in __getitem__: (7, 50, 6)\n",
            "hist shape in __getitem__: (7, 50, 6)\n",
            "hist shape in __getitem__: (7, 50, 6)\n",
            "hist shape in __getitem__: (7, 50, 6)\n",
            "hist shape in __getitem__: (7, 50, 6)\n",
            "hist shape in __getitem__: (7, 50, 6)\n",
            "hist shape in __getitem__: (7, 50, 6)\n",
            "hist shape in __getitem__: (7, 50, 6)\n",
            "hist shape in __getitem__: (7, 50, 6)\n",
            "hist shape in __getitem__: (7, 50, 6)\n",
            "hist shape in __getitem__: (7, 50, 6)\n",
            "hist shape in __getitem__: (7, 50, 6)\n",
            "hist shape in __getitem__: (7, 50, 6)\n",
            "hist shape in __getitem__: (7, 50, 6)\n",
            "hist shape in __getitem__: (7, 50, 6)\n",
            "hist shape in __getitem__: (7, 50, 6)\n",
            "hist shape in __getitem__: (7, 50, 6)\n",
            "hist shape in __getitem__: (7, 50, 6)\n",
            "hist shape in __getitem__: (7, 50, 6)\n",
            "hist shape in __getitem__: (7, 50, 6)\n",
            "hist shape in __getitem__: (7, 50, 6)\n",
            "hist shape in __getitem__: (7, 50, 6)\n",
            "hist shape in __getitem__: (7, 50, 6)\n",
            "hist shape in __getitem__: (7, 50, 6)\n",
            "hist shape in __getitem__: (7, 50, 6)\n",
            "hist shape in __getitem__: (7, 50, 6)\n",
            "hist shape in __getitem__: (7, 50, 6)\n",
            "hist shape in __getitem__: (7, 50, 6)\n",
            "hist shape in __getitem__: (7, 50, 6)\n",
            "hist shape in __getitem__: (7, 50, 6)\n",
            "hist shape in __getitem__: (7, 50, 6)\n",
            "hist shape in __getitem__: (7, 50, 6)\n",
            "hist shape in __getitem__: (7, 50, 6)\n",
            "hist shape in __getitem__: (7, 50, 6)\n",
            "hist shape in __getitem__: (7, 50, 6)\n",
            "hist shape in __getitem__: (7, 50, 6)\n",
            "hist shape in __getitem__: (7, 50, 6)\n",
            "hist shape in __getitem__: (7, 50, 6)\n",
            "hist shape in __getitem__: (7, 50, 6)\n",
            "hist shape in __getitem__: (7, 50, 6)\n",
            "hist shape in __getitem__: (7, 50, 6)\n",
            "hist shape in __getitem__: (7, 50, 6)\n",
            "hist shape in __getitem__: (7, 50, 6)\n",
            "hist shape in __getitem__: (7, 50, 6)\n",
            "hist shape in __getitem__: (7, 50, 6)\n",
            "hist shape in __getitem__: (7, 50, 6)\n",
            "hist shape in __getitem__: (7, 50, 6)\n",
            "hist shape in __getitem__: (7, 50, 6)\n",
            "hist shape in __getitem__: (7, 50, 6)\n",
            "hist shape in __getitem__: (7, 50, 6)\n",
            "hist shape in __getitem__: (7, 50, 6)\n",
            "hist shape in __getitem__: (7, 50, 6)\n",
            "hist shape in __getitem__: (7, 50, 6)\n",
            "hist shape in __getitem__: (7, 50, 6)\n",
            "hist shape in __getitem__: (7, 50, 6)\n",
            "hist shape in __getitem__: (7, 50, 6)\n",
            "hist shape in __getitem__: (7, 50, 6)\n",
            "hist shape in __getitem__: (7, 50, 6)\n",
            "hist shape in __getitem__: (7, 50, 6)\n",
            "hist shape in __getitem__: (7, 50, 6)\n",
            "hist shape in __getitem__: (7, 50, 6)\n",
            "hist shape in __getitem__: (7, 50, 6)\n",
            "hist shape in __getitem__: (7, 50, 6)\n",
            "hist shape in __getitem__: (7, 50, 6)\n",
            "hist shape in __getitem__: (7, 50, 6)\n",
            "hist shape in __getitem__: (7, 50, 6)\n",
            "hist shape in __getitem__: (7, 50, 6)\n",
            "hist shape in __getitem__: (7, 50, 6)\n",
            "hist shape in __getitem__: (7, 50, 6)\n",
            "hist shape in __getitem__: (7, 50, 6)\n",
            "hist shape in __getitem__: (7, 50, 6)\n",
            "hist shape in __getitem__: (7, 50, 6)\n",
            "hist shape in __getitem__: (7, 50, 6)\n",
            "hist shape in __getitem__: (7, 50, 6)\n",
            "hist shape in __getitem__: (7, 50, 6)\n",
            "hist shape in __getitem__: (7, 50, 6)\n",
            "hist shape in __getitem__: (7, 50, 6)\n",
            "hist shape in __getitem__: (7, 50, 6)\n",
            "hist shape in __getitem__: (7, 50, 6)\n",
            "hist shape in __getitem__: (7, 50, 6)\n",
            "hist shape in __getitem__: (7, 50, 6)\n",
            "hist shape in __getitem__: (7, 50, 6)\n",
            "hist shape in __getitem__: (7, 50, 6)\n",
            "hist shape in __getitem__: (7, 50, 6)\n",
            "hist shape in __getitem__: (7, 50, 6)\n",
            "hist shape in __getitem__: (7, 50, 6)\n",
            "hist shape in __getitem__: (7, 50, 6)\n",
            "hist shape in __getitem__: (7, 50, 6)\n",
            "hist shape in __getitem__: (7, 50, 6)\n",
            "hist shape in __getitem__: (7, 50, 6)\n",
            "hist shape in __getitem__: (7, 50, 6)\n",
            "hist shape in __getitem__: (7, 50, 6)\n",
            "hist shape in __getitem__: (7, 50, 6)\n",
            "hist shape in __getitem__: (7, 50, 6)\n",
            "hist shape in __getitem__: (7, 50, 6)\n",
            "hist shape in __getitem__: (7, 50, 6)\n",
            "hist shape in __getitem__: (7, 50, 6)\n",
            "hist shape in __getitem__: (7, 50, 6)\n",
            "hist shape in __getitem__: (7, 50, 6)\n",
            "hist shape in __getitem__: (7, 50, 6)\n",
            "hist shape in __getitem__: (7, 50, 6)\n",
            "hist shape in __getitem__: (7, 50, 6)\n",
            "hist shape in __getitem__: (7, 50, 6)\n",
            "hist shape in __getitem__: (7, 50, 6)\n",
            "hist shape in __getitem__: (7, 50, 6)\n",
            "hist shape in __getitem__: (7, 50, 6)\n",
            "hist shape in __getitem__: (7, 50, 6)\n",
            "hist shape in __getitem__: (7, 50, 6)\n",
            "hist shape in __getitem__: (7, 50, 6)\n",
            "hist shape in __getitem__: (7, 50, 6)\n",
            "hist shape in __getitem__: (7, 50, 6)\n",
            "hist shape in __getitem__: (7, 50, 6)\n",
            "hist shape in __getitem__: (7, 50, 6)\n",
            "hist shape in __getitem__: (7, 50, 6)\n",
            "hist shape in __getitem__: (7, 50, 6)\n",
            "hist shape in __getitem__: (7, 50, 6)\n",
            "hist shape in __getitem__: (7, 50, 6)\n",
            "hist shape in __getitem__: (7, 50, 6)\n",
            "hist shape in __getitem__: (7, 50, 6)\n",
            "hist shape in __getitem__: (7, 50, 6)\n",
            "hist shape in __getitem__: (7, 50, 6)\n",
            "hist shape in __getitem__: (7, 50, 6)\n",
            "hist shape in __getitem__: (7, 50, 6)\n",
            "hist shape in __getitem__: (7, 50, 6)\n",
            "hist shape in __getitem__: (7, 50, 6)\n",
            "hist shape in __getitem__: (7, 50, 6)\n",
            "hist shape in __getitem__: (7, 50, 6)\n",
            "hist shape in __getitem__: (7, 50, 6)\n",
            "hist shape in __getitem__: (7, 50, 6)\n",
            "hist shape in __getitem__: (7, 50, 6)\n",
            "hist shape in __getitem__: (7, 50, 6)\n",
            "hist shape in __getitem__: (7, 50, 6)\n",
            "hist shape in __getitem__: (7, 50, 6)\n",
            "hist shape in __getitem__: (7, 50, 6)\n",
            "hist shape in __getitem__: (7, 50, 6)\n",
            "hist shape in __getitem__: (7, 50, 6)\n",
            "hist shape in __getitem__: (7, 50, 6)\n",
            "hist shape in __getitem__: (7, 50, 6)\n",
            "hist shape in __getitem__: (7, 50, 6)\n",
            "hist shape in __getitem__: (7, 50, 6)\n",
            "hist shape in __getitem__: (7, 50, 6)\n",
            "hist shape in __getitem__: (7, 50, 6)\n",
            "hist shape in __getitem__: (7, 50, 6)\n",
            "hist shape in __getitem__: (7, 50, 6)\n",
            "hist shape in __getitem__: (7, 50, 6)\n",
            "hist shape in __getitem__: (7, 50, 6)\n",
            "hist shape in __getitem__: (7, 50, 6)\n",
            "hist shape in __getitem__: (7, 50, 6)\n",
            "hist shape in __getitem__: (7, 50, 6)\n",
            "hist shape in __getitem__: (7, 50, 6)\n",
            "hist shape in __getitem__: (7, 50, 6)\n",
            "hist shape in __getitem__: (7, 50, 6)\n",
            "hist shape in __getitem__: (7, 50, 6)\n",
            "hist shape in __getitem__: (7, 50, 6)\n",
            "hist shape in __getitem__: (7, 50, 6)\n",
            "hist shape in __getitem__: (7, 50, 6)\n",
            "hist shape in __getitem__: (7, 50, 6)\n",
            "hist shape in __getitem__: (7, 50, 6)\n",
            "hist shape in __getitem__: (7, 50, 6)\n",
            "hist shape in __getitem__: (7, 50, 6)\n",
            "hist shape in __getitem__: (7, 50, 6)\n",
            "hist shape in __getitem__: (7, 50, 6)\n",
            "hist shape in __getitem__: (7, 50, 6)\n",
            "hist shape in __getitem__: (7, 50, 6)\n",
            "hist shape in __getitem__: (7, 50, 6)\n",
            "hist shape in __getitem__: (7, 50, 6)\n",
            "hist shape in __getitem__: (7, 50, 6)\n",
            "hist shape in __getitem__: (7, 50, 6)\n",
            "hist shape in __getitem__: (7, 50, 6)\n",
            "hist shape in __getitem__: (7, 50, 6)\n",
            "hist shape in __getitem__: (7, 50, 6)\n",
            "hist shape in __getitem__: (7, 50, 6)\n",
            "hist shape in __getitem__: (7, 50, 6)\n",
            "hist shape in __getitem__: (7, 50, 6)\n",
            "hist shape in __getitem__: (7, 50, 6)\n",
            "hist shape in __getitem__: (7, 50, 6)\n",
            "hist shape in __getitem__: (7, 50, 6)\n",
            "hist shape in __getitem__: (7, 50, 6)\n",
            "hist shape in __getitem__: (7, 50, 6)\n",
            "hist shape in __getitem__: (7, 50, 6)\n",
            "hist shape in __getitem__: (7, 50, 6)\n",
            "hist shape in __getitem__: (7, 50, 6)\n",
            "hist shape in __getitem__: (7, 50, 6)\n",
            "hist shape in __getitem__: (7, 50, 6)\n",
            "hist shape in __getitem__: (7, 50, 6)\n",
            "hist shape in __getitem__: (7, 50, 6)\n",
            "hist shape in __getitem__: (7, 50, 6)\n",
            "hist shape in __getitem__: (7, 50, 6)\n",
            "hist shape in __getitem__: (7, 50, 6)\n",
            "hist shape in __getitem__: (7, 50, 6)\n",
            "hist shape in __getitem__: (7, 50, 6)\n",
            "hist shape in __getitem__: (7, 50, 6)\n",
            "hist shape in __getitem__: (7, 50, 6)\n",
            "hist shape in __getitem__: (7, 50, 6)\n",
            "hist shape in __getitem__: (7, 50, 6)\n",
            "hist shape in __getitem__: (7, 50, 6)\n",
            "hist shape in __getitem__: (7, 50, 6)\n",
            "hist shape in __getitem__: (7, 50, 6)\n",
            "hist shape in __getitem__: (7, 50, 6)\n",
            "hist shape in __getitem__: (7, 50, 6)\n",
            "hist shape in __getitem__: (7, 50, 6)\n",
            "hist shape in __getitem__: (7, 50, 6)\n",
            "hist shape in __getitem__: (7, 50, 6)\n",
            "hist shape in __getitem__: (7, 50, 6)\n",
            "hist shape in __getitem__: (7, 50, 6)\n",
            "hist shape in __getitem__: (7, 50, 6)\n",
            "hist shape in __getitem__: (7, 50, 6)\n",
            "hist shape in __getitem__: (7, 50, 6)\n",
            "hist shape in __getitem__: (7, 50, 6)\n",
            "hist shape in __getitem__: (7, 50, 6)\n",
            "hist shape in __getitem__: (7, 50, 6)\n",
            "hist shape in __getitem__: (7, 50, 6)\n",
            "hist shape in __getitem__: (7, 50, 6)\n",
            "hist shape in __getitem__: (7, 50, 6)\n",
            "hist shape in __getitem__: (7, 50, 6)\n",
            "hist shape in __getitem__: (7, 50, 6)\n",
            "hist shape in __getitem__: (7, 50, 6)\n",
            "hist shape in __getitem__: (7, 50, 6)\n",
            "hist shape in __getitem__: (7, 50, 6)\n",
            "hist shape in __getitem__: (7, 50, 6)\n",
            "hist shape in __getitem__: (7, 50, 6)\n",
            "hist shape in __getitem__: (7, 50, 6)\n",
            "hist shape in __getitem__: (7, 50, 6)\n",
            "hist shape in __getitem__: (7, 50, 6)\n",
            "hist shape in __getitem__: (7, 50, 6)\n",
            "hist shape in __getitem__: (7, 50, 6)\n",
            "hist shape in __getitem__: (7, 50, 6)\n",
            "hist shape in __getitem__: (7, 50, 6)\n",
            "hist shape in __getitem__: (7, 50, 6)\n",
            "hist shape in __getitem__: (7, 50, 6)\n",
            "hist shape in __getitem__: (7, 50, 6)\n",
            "hist shape in __getitem__: (7, 50, 6)\n",
            "hist shape in __getitem__: (7, 50, 6)\n",
            "hist shape in __getitem__: (7, 50, 6)\n",
            "hist shape in __getitem__: (7, 50, 6)\n",
            "hist shape in __getitem__: (7, 50, 6)\n",
            "hist shape in __getitem__: (7, 50, 6)\n",
            "hist shape in __getitem__: (7, 50, 6)\n",
            "hist shape in __getitem__: (7, 50, 6)\n",
            "hist shape in __getitem__: (7, 50, 6)\n",
            "hist shape in __getitem__: (7, 50, 6)\n",
            "hist shape in __getitem__: (7, 50, 6)\n",
            "hist shape in __getitem__: (7, 50, 6)\n",
            "hist shape in __getitem__: (7, 50, 6)\n",
            "hist shape in __getitem__: (7, 50, 6)\n",
            "hist shape in __getitem__: (7, 50, 6)\n",
            "hist shape in __getitem__: (7, 50, 6)\n",
            "hist shape in __getitem__: (7, 50, 6)\n",
            "hist shape in __getitem__: (7, 50, 6)\n",
            "hist shape in __getitem__: (7, 50, 6)\n",
            "hist shape in __getitem__: (7, 50, 6)\n",
            "hist shape in __getitem__: (7, 50, 6)\n",
            "hist shape in __getitem__: (7, 50, 6)\n",
            "hist shape in __getitem__: (7, 50, 6)\n",
            "hist shape in __getitem__: (7, 50, 6)\n",
            "hist shape in __getitem__: (7, 50, 6)\n",
            "hist shape in __getitem__: (7, 50, 6)\n",
            "hist shape in __getitem__: (7, 50, 6)\n",
            "hist shape in __getitem__: (7, 50, 6)\n",
            "hist shape in __getitem__: (7, 50, 6)\n",
            "hist shape in __getitem__: (7, 50, 6)\n",
            "hist shape in __getitem__: (7, 50, 6)\n",
            "hist shape in __getitem__: (7, 50, 6)\n",
            "hist shape in __getitem__: (7, 50, 6)\n",
            "hist shape in __getitem__: (7, 50, 6)\n",
            "hist shape in __getitem__: (7, 50, 6)\n",
            "hist shape in __getitem__: (7, 50, 6)\n",
            "hist shape in __getitem__: (7, 50, 6)\n",
            "hist shape in __getitem__: (7, 50, 6)\n",
            "hist shape in __getitem__: (7, 50, 6)\n",
            "hist shape in __getitem__: (7, 50, 6)\n",
            "hist shape in __getitem__: (7, 50, 6)\n",
            "hist shape in __getitem__: (7, 50, 6)\n",
            "hist shape in __getitem__: (7, 50, 6)\n",
            "hist shape in __getitem__: (7, 50, 6)\n",
            "hist shape in __getitem__: (7, 50, 6)\n",
            "hist shape in __getitem__: (7, 50, 6)\n",
            "hist shape in __getitem__: (7, 50, 6)\n",
            "hist shape in __getitem__: (7, 50, 6)\n",
            "hist shape in __getitem__: (7, 50, 6)\n",
            "hist shape in __getitem__: (7, 50, 6)\n",
            "hist shape in __getitem__: (7, 50, 6)\n",
            "hist shape in __getitem__: (7, 50, 6)\n",
            "hist shape in __getitem__: (7, 50, 6)\n",
            "hist shape in __getitem__: (7, 50, 6)\n",
            "hist shape in __getitem__: (7, 50, 6)\n",
            "hist shape in __getitem__: (7, 50, 6)\n",
            "hist shape in __getitem__: (7, 50, 6)\n",
            "hist shape in __getitem__: (7, 50, 6)\n",
            "hist shape in __getitem__: (7, 50, 6)\n",
            "hist shape in __getitem__: (7, 50, 6)\n",
            "hist shape in __getitem__: (7, 50, 6)\n",
            "hist shape in __getitem__: (7, 50, 6)\n",
            "hist shape in __getitem__: (7, 50, 6)\n",
            "hist shape in __getitem__: (7, 50, 6)\n",
            "hist shape in __getitem__: (7, 50, 6)\n",
            "hist shape in __getitem__: (7, 50, 6)\n",
            "hist shape in __getitem__: (7, 50, 6)\n",
            "hist shape in __getitem__: (7, 50, 6)\n",
            "hist shape in __getitem__: (7, 50, 6)\n",
            "hist shape in __getitem__: (7, 50, 6)\n",
            "hist shape in __getitem__: (7, 50, 6)\n",
            "hist shape in __getitem__: (7, 50, 6)\n",
            "hist shape in __getitem__: (7, 50, 6)\n",
            "hist shape in __getitem__: (7, 50, 6)\n",
            "hist shape in __getitem__: (7, 50, 6)\n",
            "hist shape in __getitem__: (7, 50, 6)\n",
            "hist shape in __getitem__: (7, 50, 6)\n",
            "hist shape in __getitem__: (7, 50, 6)\n",
            "hist shape in __getitem__: (7, 50, 6)\n",
            "hist shape in __getitem__: (7, 50, 6)\n",
            "hist shape in __getitem__: (7, 50, 6)\n",
            "hist shape in __getitem__: (7, 50, 6)\n",
            "hist shape in __getitem__: (7, 50, 6)\n",
            "hist shape in __getitem__: (7, 50, 6)\n",
            "hist shape in __getitem__: (7, 50, 6)\n",
            "hist shape in __getitem__: (7, 50, 6)\n",
            "hist shape in __getitem__: (7, 50, 6)\n",
            "hist shape in __getitem__: (7, 50, 6)\n",
            "hist shape in __getitem__: (7, 50, 6)\n",
            "hist shape in __getitem__: (7, 50, 6)\n",
            "hist shape in __getitem__: (7, 50, 6)\n",
            "hist shape in __getitem__: (7, 50, 6)\n",
            "hist shape in __getitem__: (7, 50, 6)\n",
            "hist shape in __getitem__: (7, 50, 6)\n",
            "hist shape in __getitem__: (7, 50, 6)\n",
            "hist shape in __getitem__: (7, 50, 6)\n",
            "hist shape in __getitem__: (7, 50, 6)\n",
            "hist shape in __getitem__: (7, 50, 6)\n",
            "hist shape in __getitem__: (7, 50, 6)\n",
            "hist shape in __getitem__: (7, 50, 6)\n",
            "hist shape in __getitem__: (7, 50, 6)\n",
            "hist shape in __getitem__: (7, 50, 6)\n",
            "hist shape in __getitem__: (7, 50, 6)\n",
            "hist shape in __getitem__: (7, 50, 6)\n",
            "hist shape in __getitem__: (7, 50, 6)\n",
            "hist shape in __getitem__: (7, 50, 6)\n",
            "hist shape in __getitem__: (7, 50, 6)\n",
            "hist shape in __getitem__: (7, 50, 6)\n",
            "hist shape in __getitem__: (7, 50, 6)\n",
            "hist shape in __getitem__: (7, 50, 6)\n",
            "hist shape in __getitem__: (7, 50, 6)\n",
            "hist shape in __getitem__: (7, 50, 6)\n",
            "hist shape in __getitem__: (7, 50, 6)\n",
            "hist shape in __getitem__: (7, 50, 6)\n",
            "hist shape in __getitem__: (7, 50, 6)\n",
            "hist shape in __getitem__: (7, 50, 6)\n",
            "hist shape in __getitem__: (7, 50, 6)\n",
            "hist shape in __getitem__: (7, 50, 6)\n",
            "hist shape in __getitem__: (7, 50, 6)\n",
            "hist shape in __getitem__: (7, 50, 6)\n",
            "hist shape in __getitem__: (7, 50, 6)\n",
            "hist shape in __getitem__: (7, 50, 6)\n",
            "hist shape in __getitem__: (7, 50, 6)\n",
            "hist shape in __getitem__: (7, 50, 6)\n",
            "hist shape in __getitem__: (7, 50, 6)\n",
            "hist shape in __getitem__: (7, 50, 6)\n",
            "hist shape in __getitem__: (7, 50, 6)\n",
            "hist shape in __getitem__: (7, 50, 6)\n",
            "hist shape in __getitem__: (7, 50, 6)\n",
            "hist shape in __getitem__: (7, 50, 6)\n",
            "hist shape in __getitem__: (7, 50, 6)\n",
            "hist shape in __getitem__: (7, 50, 6)\n",
            "hist shape in __getitem__: (7, 50, 6)\n",
            "hist shape in __getitem__: (7, 50, 6)\n",
            "hist shape in __getitem__: (7, 50, 6)\n",
            "hist shape in __getitem__: (7, 50, 6)\n",
            "hist shape in __getitem__: (7, 50, 6)\n",
            "hist shape in __getitem__: (7, 50, 6)\n",
            "hist shape in __getitem__: (7, 50, 6)\n",
            "hist shape in __getitem__: (7, 50, 6)\n",
            "hist shape in __getitem__: (7, 50, 6)\n",
            "hist shape in __getitem__: (7, 50, 6)\n",
            "hist shape in __getitem__: (7, 50, 6)\n",
            "hist shape in __getitem__: (7, 50, 6)\n",
            "hist shape in __getitem__: (7, 50, 6)\n",
            "hist shape in __getitem__: (7, 50, 6)\n",
            "hist shape in __getitem__: (7, 50, 6)\n",
            "hist shape in __getitem__: (7, 50, 6)\n",
            "hist shape in __getitem__: (7, 50, 6)\n",
            "hist shape in __getitem__: (7, 50, 6)\n",
            "hist shape in __getitem__: (7, 50, 6)\n",
            "hist shape in __getitem__: (7, 50, 6)\n",
            "hist shape in __getitem__: (7, 50, 6)\n",
            "hist shape in __getitem__: (7, 50, 6)\n",
            "hist shape in __getitem__: (7, 50, 6)\n",
            "hist shape in __getitem__: (7, 50, 6)\n",
            "hist shape in __getitem__: (7, 50, 6)\n",
            "hist shape in __getitem__: (7, 50, 6)\n",
            "hist shape in __getitem__: (7, 50, 6)\n",
            "hist shape in __getitem__: (7, 50, 6)\n",
            "hist shape in __getitem__: (7, 50, 6)\n",
            "hist shape in __getitem__: (7, 50, 6)\n",
            "hist shape in __getitem__: (7, 50, 6)\n",
            "hist shape in __getitem__: (7, 50, 6)\n",
            "hist shape in __getitem__: (7, 50, 6)\n",
            "hist shape in __getitem__: (7, 50, 6)\n",
            "hist shape in __getitem__: (7, 50, 6)\n",
            "hist shape in __getitem__: (7, 50, 6)\n",
            "hist shape in __getitem__: (7, 50, 6)\n",
            "hist shape in __getitem__: (7, 50, 6)\n",
            "hist shape in __getitem__: (7, 50, 6)\n",
            "hist shape in __getitem__: (7, 50, 6)\n",
            "hist shape in __getitem__: (7, 50, 6)\n",
            "hist shape in __getitem__: (7, 50, 6)\n",
            "hist shape in __getitem__: (7, 50, 6)\n",
            "hist shape in __getitem__: (7, 50, 6)\n",
            "hist shape in __getitem__: (7, 50, 6)\n",
            "hist shape in __getitem__: (7, 50, 6)\n",
            "hist shape in __getitem__: (7, 50, 6)\n",
            "hist shape in __getitem__: (7, 50, 6)\n",
            "hist shape in __getitem__: (7, 50, 6)\n",
            "hist shape in __getitem__: (7, 50, 6)\n",
            "hist shape in __getitem__: (7, 50, 6)\n",
            "hist shape in __getitem__: (7, 50, 6)\n",
            "hist shape in __getitem__: (7, 50, 6)\n",
            "hist shape in __getitem__: (7, 50, 6)\n",
            "hist shape in __getitem__: (7, 50, 6)\n",
            "hist shape in __getitem__: (7, 50, 6)\n",
            "hist shape in __getitem__: (7, 50, 6)\n",
            "hist shape in __getitem__: (7, 50, 6)\n",
            "hist shape in __getitem__: (7, 50, 6)\n",
            "hist shape in __getitem__: (7, 50, 6)\n",
            "hist shape in __getitem__: (7, 50, 6)\n",
            "hist shape in __getitem__: (7, 50, 6)\n",
            "hist shape in __getitem__: (7, 50, 6)\n",
            "hist shape in __getitem__: (7, 50, 6)\n",
            "hist shape in __getitem__: (7, 50, 6)\n",
            "hist shape in __getitem__: (7, 50, 6)\n",
            "hist shape in __getitem__: (7, 50, 6)\n",
            "hist shape in __getitem__: (7, 50, 6)\n",
            "hist shape in __getitem__: (7, 50, 6)\n",
            "hist shape in __getitem__: (7, 50, 6)\n",
            "hist shape in __getitem__: (7, 50, 6)\n",
            "hist shape in __getitem__: (7, 50, 6)\n",
            "hist shape in __getitem__: (7, 50, 6)\n",
            "hist shape in __getitem__: (7, 50, 6)\n",
            "hist shape in __getitem__: (7, 50, 6)\n",
            "hist shape in __getitem__: (7, 50, 6)\n",
            "hist shape in __getitem__: (7, 50, 6)\n",
            "hist shape in __getitem__: (7, 50, 6)\n",
            "hist shape in __getitem__: (7, 50, 6)\n",
            "hist shape in __getitem__: (7, 50, 6)\n",
            "hist shape in __getitem__: (7, 50, 6)\n",
            "hist shape in __getitem__: (7, 50, 6)\n",
            "hist shape in __getitem__: (7, 50, 6)\n",
            "hist shape in __getitem__: (7, 50, 6)\n",
            "hist shape in __getitem__: (7, 50, 6)\n",
            "hist shape in __getitem__: (7, 50, 6)\n",
            "hist shape in __getitem__: (7, 50, 6)\n",
            "hist shape in __getitem__: (7, 50, 6)\n",
            "hist shape in __getitem__: (7, 50, 6)\n",
            "hist shape in __getitem__: (7, 50, 6)\n",
            "hist shape in __getitem__: (7, 50, 6)\n",
            "hist shape in __getitem__: (7, 50, 6)\n",
            "hist shape in __getitem__: (7, 50, 6)\n",
            "hist shape in __getitem__: (7, 50, 6)\n",
            "hist shape in __getitem__: (7, 50, 6)\n",
            "hist shape in __getitem__: (7, 50, 6)\n",
            "hist shape in __getitem__: (7, 50, 6)\n",
            "hist shape in __getitem__: (7, 50, 6)\n",
            "hist shape in __getitem__: (7, 50, 6)\n",
            "hist shape in __getitem__: (7, 50, 6)\n",
            "hist shape in __getitem__: (7, 50, 6)\n",
            "hist shape in __getitem__: (7, 50, 6)\n",
            "hist shape in __getitem__: (7, 50, 6)\n",
            "hist shape in __getitem__: (7, 50, 6)\n",
            "hist shape in __getitem__: (7, 50, 6)\n",
            "hist shape in __getitem__: (7, 50, 6)\n",
            "hist shape in __getitem__: (7, 50, 6)\n",
            "hist shape in __getitem__: (7, 50, 6)\n",
            "hist shape in __getitem__: (7, 50, 6)\n",
            "hist shape in __getitem__: (7, 50, 6)\n",
            "hist shape in __getitem__: (7, 50, 6)\n",
            "hist shape in __getitem__: (7, 50, 6)\n",
            "hist shape in __getitem__: (7, 50, 6)\n",
            "hist shape in __getitem__: (7, 50, 6)\n",
            "hist shape in __getitem__: (7, 50, 6)\n",
            "hist shape in __getitem__: (7, 50, 6)\n",
            "hist shape in __getitem__: (7, 50, 6)\n",
            "hist shape in __getitem__: (7, 50, 6)\n",
            "hist shape in __getitem__: (7, 50, 6)\n",
            "hist shape in __getitem__: (7, 50, 6)\n",
            "hist shape in __getitem__: (7, 50, 6)\n",
            "hist shape in __getitem__: (7, 50, 6)\n",
            "hist shape in __getitem__: (7, 50, 6)\n",
            "hist shape in __getitem__: (7, 50, 6)\n",
            "hist shape in __getitem__: (7, 50, 6)\n",
            "hist shape in __getitem__: (7, 50, 6)\n",
            "hist shape in __getitem__: (7, 50, 6)\n",
            "hist shape in __getitem__: (7, 50, 6)\n",
            "hist shape in __getitem__: (7, 50, 6)\n",
            "hist shape in __getitem__: (7, 50, 6)\n",
            "hist shape in __getitem__: (7, 50, 6)\n",
            "hist shape in __getitem__: (7, 50, 6)\n",
            "hist shape in __getitem__: (7, 50, 6)\n",
            "hist shape in __getitem__: (7, 50, 6)\n",
            "hist shape in __getitem__: (7, 50, 6)\n",
            "hist shape in __getitem__: (7, 50, 6)\n",
            "hist shape in __getitem__: (7, 50, 6)\n",
            "hist shape in __getitem__: (7, 50, 6)\n",
            "hist shape in __getitem__: (7, 50, 6)\n",
            "hist shape in __getitem__: (7, 50, 6)\n",
            "hist shape in __getitem__: (7, 50, 6)\n",
            "hist shape in __getitem__: (7, 50, 6)\n",
            "hist shape in __getitem__: (7, 50, 6)\n",
            "hist shape in __getitem__: (7, 50, 6)\n",
            "hist shape in __getitem__: (7, 50, 6)\n",
            "hist shape in __getitem__: (7, 50, 6)\n",
            "hist shape in __getitem__: (7, 50, 6)\n",
            "hist shape in __getitem__: (7, 50, 6)\n",
            "hist shape in __getitem__: (7, 50, 6)\n",
            "hist shape in __getitem__: (7, 50, 6)\n",
            "hist shape in __getitem__: (7, 50, 6)\n",
            "hist shape in __getitem__: (7, 50, 6)\n",
            "hist shape in __getitem__: (7, 50, 6)\n",
            "hist shape in __getitem__: (7, 50, 6)\n",
            "hist shape in __getitem__: (7, 50, 6)\n",
            "hist shape in __getitem__: (7, 50, 6)\n",
            "hist shape in __getitem__: (7, 50, 6)\n",
            "hist shape in __getitem__: (7, 50, 6)\n",
            "hist shape in __getitem__: (7, 50, 6)\n",
            "hist shape in __getitem__: (7, 50, 6)\n",
            "hist shape in __getitem__: (7, 50, 6)\n",
            "hist shape in __getitem__: (7, 50, 6)\n",
            "hist shape in __getitem__: (7, 50, 6)\n",
            "hist shape in __getitem__: (7, 50, 6)\n",
            "hist shape in __getitem__: (7, 50, 6)\n",
            "hist shape in __getitem__: (7, 50, 6)\n",
            "hist shape in __getitem__: (7, 50, 6)\n",
            "hist shape in __getitem__: (7, 50, 6)\n",
            "hist shape in __getitem__: (7, 50, 6)\n",
            "hist shape in __getitem__: (7, 50, 6)\n",
            "hist shape in __getitem__: (7, 50, 6)\n",
            "hist shape in __getitem__: (7, 50, 6)\n",
            "hist shape in __getitem__: (7, 50, 6)\n",
            "hist shape in __getitem__: (7, 50, 6)\n",
            "hist shape in __getitem__: (7, 50, 6)\n",
            "hist shape in __getitem__: (7, 50, 6)\n",
            "hist shape in __getitem__: (7, 50, 6)\n",
            "hist shape in __getitem__: (7, 50, 6)\n",
            "hist shape in __getitem__: (7, 50, 6)\n",
            "hist shape in __getitem__: (7, 50, 6)\n",
            "hist shape in __getitem__: (7, 50, 6)\n",
            "hist shape in __getitem__: (7, 50, 6)\n",
            "hist shape in __getitem__: (7, 50, 6)\n",
            "hist shape in __getitem__: (7, 50, 6)\n",
            "hist shape in __getitem__: (7, 50, 6)\n",
            "hist shape in __getitem__: (7, 50, 6)\n",
            "hist shape in __getitem__: (7, 50, 6)\n",
            "hist shape in __getitem__: (7, 50, 6)\n",
            "hist shape in __getitem__: (7, 50, 6)\n",
            "hist shape in __getitem__: (7, 50, 6)\n",
            "hist shape in __getitem__: (7, 50, 6)\n",
            "hist shape in __getitem__: (7, 50, 6)\n",
            "hist shape in __getitem__: (7, 50, 6)\n",
            "hist shape in __getitem__: (7, 50, 6)\n",
            "hist shape in __getitem__: (7, 50, 6)\n",
            "hist shape in __getitem__: (7, 50, 6)\n",
            "hist shape in __getitem__: (7, 50, 6)\n",
            "hist shape in __getitem__: (7, 50, 6)\n",
            "hist shape in __getitem__: (7, 50, 6)\n",
            "hist shape in __getitem__: (7, 50, 6)\n",
            "hist shape in __getitem__: (7, 50, 6)\n",
            "hist shape in __getitem__: (7, 50, 6)\n",
            "hist shape in __getitem__: (7, 50, 6)\n",
            "hist shape in __getitem__: (7, 50, 6)\n",
            "hist shape in __getitem__: (7, 50, 6)\n",
            "hist shape in __getitem__: (7, 50, 6)\n",
            "hist shape in __getitem__: (7, 50, 6)\n",
            "hist shape in __getitem__: (7, 50, 6)\n",
            "hist shape in __getitem__: (7, 50, 6)\n",
            "hist shape in __getitem__: (7, 50, 6)\n",
            "hist shape in __getitem__: (7, 50, 6)\n",
            "hist shape in __getitem__: (7, 50, 6)\n",
            "hist shape in __getitem__: (7, 50, 6)\n",
            "hist shape in __getitem__: (7, 50, 6)\n",
            "hist shape in __getitem__: (7, 50, 6)\n",
            "hist shape in __getitem__: (7, 50, 6)\n",
            "hist shape in __getitem__: (7, 50, 6)\n",
            "hist shape in __getitem__: (7, 50, 6)\n",
            "hist shape in __getitem__: (7, 50, 6)\n",
            "hist shape in __getitem__: (7, 50, 6)\n",
            "hist shape in __getitem__: (7, 50, 6)\n",
            "hist shape in __getitem__: (7, 50, 6)\n",
            "hist shape in __getitem__: (7, 50, 6)\n",
            "hist shape in __getitem__: (7, 50, 6)\n",
            "hist shape in __getitem__: (7, 50, 6)\n",
            "hist shape in __getitem__: (7, 50, 6)\n",
            "hist shape in __getitem__: (7, 50, 6)\n",
            "hist shape in __getitem__: (7, 50, 6)\n",
            "hist shape in __getitem__: (7, 50, 6)\n",
            "hist shape in __getitem__: (7, 50, 6)\n",
            "hist shape in __getitem__: (7, 50, 6)\n",
            "hist shape in __getitem__: (7, 50, 6)\n",
            "hist shape in __getitem__: (7, 50, 6)\n",
            "hist shape in __getitem__: (7, 50, 6)\n",
            "hist shape in __getitem__: (7, 50, 6)\n",
            "hist shape in __getitem__: (7, 50, 6)\n",
            "hist shape in __getitem__: (7, 50, 6)\n",
            "hist shape in __getitem__: (7, 50, 6)\n",
            "hist shape in __getitem__: (7, 50, 6)\n",
            "hist shape in __getitem__: (7, 50, 6)\n",
            "hist shape in __getitem__: (7, 50, 6)\n",
            "hist shape in __getitem__: (7, 50, 6)\n",
            "hist shape in __getitem__: (7, 50, 6)\n",
            "hist shape in __getitem__: (7, 50, 6)\n",
            "hist shape in __getitem__: (7, 50, 6)\n",
            "hist shape in __getitem__: (7, 50, 6)\n",
            "hist shape in __getitem__: (7, 50, 6)\n",
            "hist shape in __getitem__: (7, 50, 6)\n",
            "hist shape in __getitem__: (7, 50, 6)\n",
            "hist shape in __getitem__: (7, 50, 6)\n",
            "hist shape in __getitem__: (7, 50, 6)\n",
            "hist shape in __getitem__: (7, 50, 6)\n",
            "hist shape in __getitem__: (7, 50, 6)\n",
            "hist shape in __getitem__: (7, 50, 6)\n",
            "hist shape in __getitem__: (7, 50, 6)\n",
            "hist shape in __getitem__: (7, 50, 6)\n",
            "hist shape in __getitem__: (7, 50, 6)\n",
            "hist shape in __getitem__: (7, 50, 6)\n",
            "hist shape in __getitem__: (7, 50, 6)\n",
            "hist shape in __getitem__: (7, 50, 6)\n",
            "hist shape in __getitem__: (7, 50, 6)\n",
            "hist shape in __getitem__: (7, 50, 6)\n",
            "hist shape in __getitem__: (7, 50, 6)\n",
            "hist shape in __getitem__: (7, 50, 6)\n",
            "hist shape in __getitem__: (7, 50, 6)\n",
            "hist shape in __getitem__: (7, 50, 6)\n",
            "hist shape in __getitem__: (7, 50, 6)\n",
            "hist shape in __getitem__: (7, 50, 6)\n",
            "hist shape in __getitem__: (7, 50, 6)\n",
            "hist shape in __getitem__: (7, 50, 6)\n",
            "hist shape in __getitem__: (7, 50, 6)\n",
            "hist shape in __getitem__: (7, 50, 6)\n",
            "hist shape in __getitem__: (7, 50, 6)\n",
            "hist shape in __getitem__: (7, 50, 6)\n",
            "hist shape in __getitem__: (7, 50, 6)\n",
            "hist shape in __getitem__: (7, 50, 6)\n",
            "hist shape in __getitem__: (7, 50, 6)\n",
            "hist shape in __getitem__: (7, 50, 6)\n",
            "hist shape in __getitem__: (7, 50, 6)\n",
            "hist shape in __getitem__: (7, 50, 6)\n",
            "hist shape in __getitem__: (7, 50, 6)\n",
            "hist shape in __getitem__: (7, 50, 6)\n",
            "hist shape in __getitem__: (7, 50, 6)\n",
            "hist shape in __getitem__: (7, 50, 6)\n",
            "hist shape in __getitem__: (7, 50, 6)\n",
            "hist shape in __getitem__: (7, 50, 6)\n",
            "hist shape in __getitem__: (7, 50, 6)\n",
            "hist shape in __getitem__: (7, 50, 6)\n",
            "hist shape in __getitem__: (7, 50, 6)\n",
            "hist shape in __getitem__: (7, 50, 6)\n",
            "hist shape in __getitem__: (7, 50, 6)\n",
            "hist shape in __getitem__: (7, 50, 6)\n",
            "hist shape in __getitem__: (7, 50, 6)\n",
            "hist shape in __getitem__: (7, 50, 6)\n",
            "hist shape in __getitem__: (7, 50, 6)\n",
            "hist shape in __getitem__: (7, 50, 6)\n",
            "hist shape in __getitem__: (7, 50, 6)\n",
            "hist shape in __getitem__: (7, 50, 6)\n",
            "hist shape in __getitem__: (7, 50, 6)\n",
            "hist shape in __getitem__: (7, 50, 6)\n",
            "hist shape in __getitem__: (7, 50, 6)\n",
            "hist shape in __getitem__: (7, 50, 6)\n",
            "hist shape in __getitem__: (7, 50, 6)\n",
            "hist shape in __getitem__: (7, 50, 6)\n",
            "hist shape in __getitem__: (7, 50, 6)\n",
            "hist shape in __getitem__: (7, 50, 6)\n",
            "hist shape in __getitem__: (7, 50, 6)\n",
            "hist shape in __getitem__: (7, 50, 6)\n",
            "hist shape in __getitem__: (7, 50, 6)\n",
            "hist shape in __getitem__: (7, 50, 6)\n",
            "hist shape in __getitem__: (7, 50, 6)\n",
            "hist shape in __getitem__: (7, 50, 6)\n",
            "hist shape in __getitem__: (7, 50, 6)\n",
            "hist shape in __getitem__: (7, 50, 6)\n",
            "hist shape in __getitem__: (7, 50, 6)\n",
            "hist shape in __getitem__: (7, 50, 6)\n",
            "hist shape in __getitem__: (7, 50, 6)\n",
            "hist shape in __getitem__: (7, 50, 6)\n",
            "hist shape in __getitem__: (7, 50, 6)\n",
            "hist shape in __getitem__: (7, 50, 6)\n",
            "hist shape in __getitem__: (7, 50, 6)\n",
            "hist shape in __getitem__: (7, 50, 6)\n",
            "hist shape in __getitem__: (7, 50, 6)\n",
            "hist shape in __getitem__: (7, 50, 6)\n",
            "hist shape in __getitem__: (7, 50, 6)\n",
            "hist shape in __getitem__: (7, 50, 6)\n",
            "hist shape in __getitem__: (7, 50, 6)\n",
            "hist shape in __getitem__: (7, 50, 6)\n",
            "hist shape in __getitem__: (7, 50, 6)\n",
            "hist shape in __getitem__: (7, 50, 6)\n",
            "hist shape in __getitem__: (7, 50, 6)\n",
            "hist shape in __getitem__: (7, 50, 6)\n",
            "hist shape in __getitem__: (7, 50, 6)\n",
            "hist shape in __getitem__: (7, 50, 6)\n",
            "hist shape in __getitem__: (7, 50, 6)\n",
            "hist shape in __getitem__: (7, 50, 6)\n",
            "hist shape in __getitem__: (7, 50, 6)\n",
            "hist shape in __getitem__: (7, 50, 6)\n",
            "hist shape in __getitem__: (7, 50, 6)\n",
            "hist shape in __getitem__: (7, 50, 6)\n",
            "hist shape in __getitem__: (7, 50, 6)\n",
            "hist shape in __getitem__: (7, 50, 6)\n",
            "hist shape in __getitem__: (7, 50, 6)\n",
            "hist shape in __getitem__: (7, 50, 6)\n",
            "hist shape in __getitem__: (7, 50, 6)\n",
            "hist shape in __getitem__: (7, 50, 6)\n",
            "hist shape in __getitem__: (7, 50, 6)\n",
            "hist shape in __getitem__: (7, 50, 6)\n",
            "hist shape in __getitem__: (7, 50, 6)\n",
            "hist shape in __getitem__: (7, 50, 6)\n",
            "hist shape in __getitem__: (7, 50, 6)\n",
            "hist shape in __getitem__: (7, 50, 6)\n",
            "hist shape in __getitem__: (7, 50, 6)\n",
            "hist shape in __getitem__: (7, 50, 6)\n",
            "hist shape in __getitem__: (7, 50, 6)\n",
            "hist shape in __getitem__: (7, 50, 6)\n",
            "hist shape in __getitem__: (7, 50, 6)\n",
            "hist shape in __getitem__: (7, 50, 6)\n",
            "hist shape in __getitem__: (7, 50, 6)\n",
            "hist shape in __getitem__: (7, 50, 6)\n",
            "hist shape in __getitem__: (7, 50, 6)\n",
            "hist shape in __getitem__: (7, 50, 6)\n",
            "hist shape in __getitem__: (7, 50, 6)\n",
            "hist shape in __getitem__: (7, 50, 6)\n",
            "hist shape in __getitem__: (7, 50, 6)\n",
            "hist shape in __getitem__: (7, 50, 6)\n",
            "hist shape in __getitem__: (7, 50, 6)\n",
            "hist shape in __getitem__: (7, 50, 6)\n",
            "hist shape in __getitem__: (7, 50, 6)\n",
            "hist shape in __getitem__: (7, 50, 6)\n",
            "hist shape in __getitem__: (7, 50, 6)\n",
            "hist shape in __getitem__: (7, 50, 6)\n",
            "hist shape in __getitem__: (7, 50, 6)\n",
            "hist shape in __getitem__: (7, 50, 6)\n",
            "hist shape in __getitem__: (7, 50, 6)\n",
            "hist shape in __getitem__: (7, 50, 6)\n",
            "hist shape in __getitem__: (7, 50, 6)\n",
            "hist shape in __getitem__: (7, 50, 6)\n",
            "hist shape in __getitem__: (7, 50, 6)\n",
            "hist shape in __getitem__: (7, 50, 6)\n",
            "hist shape in __getitem__: (7, 50, 6)\n",
            "hist shape in __getitem__: (7, 50, 6)\n",
            "hist shape in __getitem__: (7, 50, 6)\n",
            "hist shape in __getitem__: (7, 50, 6)\n",
            "hist shape in __getitem__: (7, 50, 6)\n",
            "hist shape in __getitem__: (7, 50, 6)\n",
            "hist shape in __getitem__: (7, 50, 6)\n",
            "hist shape in __getitem__: (7, 50, 6)\n",
            "hist shape in __getitem__: (7, 50, 6)\n",
            "hist shape in __getitem__: (7, 50, 6)\n",
            "hist shape in __getitem__: (7, 50, 6)\n",
            "hist shape in __getitem__: (7, 50, 6)\n",
            "hist shape in __getitem__: (7, 50, 6)\n",
            "hist shape in __getitem__: (7, 50, 6)\n",
            "hist shape in __getitem__: (7, 50, 6)\n",
            "hist shape in __getitem__: (7, 50, 6)\n",
            "hist shape in __getitem__: (7, 50, 6)\n",
            "hist shape in __getitem__: (7, 50, 6)\n",
            "hist shape in __getitem__: (7, 50, 6)\n",
            "hist shape in __getitem__: (7, 50, 6)\n",
            "hist shape in __getitem__: (7, 50, 6)\n",
            "hist shape in __getitem__: (7, 50, 6)\n",
            "hist shape in __getitem__: (7, 50, 6)\n",
            "hist shape in __getitem__: (7, 50, 6)\n",
            "hist shape in __getitem__: (7, 50, 6)\n",
            "hist shape in __getitem__: (7, 50, 6)\n",
            "hist shape in __getitem__: (7, 50, 6)\n",
            "hist shape in __getitem__: (7, 50, 6)\n",
            "hist shape in __getitem__: (7, 50, 6)\n",
            "hist shape in __getitem__: (7, 50, 6)\n",
            "hist shape in __getitem__: (7, 50, 6)\n",
            "hist shape in __getitem__: (7, 50, 6)\n",
            "hist shape in __getitem__: (7, 50, 6)\n",
            "hist shape in __getitem__: (7, 50, 6)\n",
            "hist shape in __getitem__: (7, 50, 6)\n",
            "hist shape in __getitem__: (7, 50, 6)\n",
            "hist shape in __getitem__: (7, 50, 6)\n",
            "hist shape in __getitem__: (7, 50, 6)\n",
            "hist shape in __getitem__: (7, 50, 6)\n",
            "hist shape in __getitem__: (7, 50, 6)\n",
            "hist shape in __getitem__: (7, 50, 6)\n",
            "hist shape in __getitem__: (7, 50, 6)\n",
            "hist shape in __getitem__: (7, 50, 6)\n",
            "hist shape in __getitem__: (7, 50, 6)\n",
            "hist shape in __getitem__: (7, 50, 6)\n",
            "hist shape in __getitem__: (7, 50, 6)\n",
            "hist shape in __getitem__: (7, 50, 6)\n",
            "hist shape in __getitem__: (7, 50, 6)\n",
            "hist shape in __getitem__: (7, 50, 6)\n",
            "hist shape in __getitem__: (7, 50, 6)\n",
            "hist shape in __getitem__: (7, 50, 6)\n",
            "hist shape in __getitem__: (7, 50, 6)\n",
            "hist shape in __getitem__: (7, 50, 6)\n",
            "hist shape in __getitem__: (7, 50, 6)\n",
            "hist shape in __getitem__: (7, 50, 6)\n",
            "hist shape in __getitem__: (7, 50, 6)\n",
            "hist shape in __getitem__: (7, 50, 6)\n",
            "hist shape in __getitem__: (7, 50, 6)\n",
            "hist shape in __getitem__: (7, 50, 6)\n",
            "hist shape in __getitem__: (7, 50, 6)\n",
            "hist shape in __getitem__: (7, 50, 6)\n",
            "hist shape in __getitem__: (7, 50, 6)\n",
            "hist shape in __getitem__: (7, 50, 6)\n",
            "hist shape in __getitem__: (7, 50, 6)\n",
            "hist shape in __getitem__: (7, 50, 6)\n",
            "hist shape in __getitem__: (7, 50, 6)\n",
            "hist shape in __getitem__: (7, 50, 6)\n",
            "hist shape in __getitem__: (7, 50, 6)\n",
            "hist shape in __getitem__: (7, 50, 6)\n",
            "hist shape in __getitem__: (7, 50, 6)\n",
            "hist shape in __getitem__: (7, 50, 6)\n",
            "hist shape in __getitem__: (7, 50, 6)\n",
            "hist shape in __getitem__: (7, 50, 6)\n",
            "hist shape in __getitem__: (7, 50, 6)\n",
            "hist shape in __getitem__: (7, 50, 6)\n",
            "hist shape in __getitem__: (7, 50, 6)\n",
            "hist shape in __getitem__: (7, 50, 6)\n",
            "hist shape in __getitem__: (7, 50, 6)\n",
            "hist shape in __getitem__: (7, 50, 6)\n",
            "hist shape in __getitem__: (7, 50, 6)\n",
            "hist shape in __getitem__: (7, 50, 6)\n",
            "hist shape in __getitem__: (7, 50, 6)\n",
            "hist shape in __getitem__: (7, 50, 6)\n",
            "hist shape in __getitem__: (7, 50, 6)\n",
            "hist shape in __getitem__: (7, 50, 6)\n",
            "hist shape in __getitem__: (7, 50, 6)\n",
            "hist shape in __getitem__: (7, 50, 6)\n",
            "hist shape in __getitem__: (7, 50, 6)\n",
            "hist shape in __getitem__: (7, 50, 6)\n",
            "hist shape in __getitem__: (7, 50, 6)\n",
            "hist shape in __getitem__: (7, 50, 6)\n",
            "hist shape in __getitem__: (7, 50, 6)\n",
            "hist shape in __getitem__: (7, 50, 6)\n",
            "hist shape in __getitem__: (7, 50, 6)\n",
            "hist shape in __getitem__: (7, 50, 6)\n",
            "hist shape in __getitem__: (7, 50, 6)\n",
            "hist shape in __getitem__: (7, 50, 6)\n",
            "hist shape in __getitem__: (7, 50, 6)\n",
            "hist shape in __getitem__: (7, 50, 6)\n",
            "hist shape in __getitem__: (7, 50, 6)\n",
            "hist shape in __getitem__: (7, 50, 6)\n",
            "hist shape in __getitem__: (7, 50, 6)\n",
            "hist shape in __getitem__: (7, 50, 6)\n",
            "hist shape in __getitem__: (7, 50, 6)\n",
            "hist shape in __getitem__: (7, 50, 6)\n",
            "hist shape in __getitem__: (7, 50, 6)\n",
            "hist shape in __getitem__: (7, 50, 6)\n",
            "hist shape in __getitem__: (7, 50, 6)\n",
            "hist shape in __getitem__: (7, 50, 6)\n",
            "hist shape in __getitem__: (7, 50, 6)\n",
            "hist shape in __getitem__: (7, 50, 6)\n",
            "hist shape in __getitem__: (7, 50, 6)\n",
            "hist shape in __getitem__: (7, 50, 6)\n",
            "hist shape in __getitem__: (7, 50, 6)\n",
            "hist shape in __getitem__: (7, 50, 6)\n",
            "hist shape in __getitem__: (7, 50, 6)\n",
            "hist shape in __getitem__: (7, 50, 6)\n",
            "hist shape in __getitem__: (7, 50, 6)\n",
            "hist shape in __getitem__: (7, 50, 6)\n",
            "hist shape in __getitem__: (7, 50, 6)\n",
            "hist shape in __getitem__: (7, 50, 6)\n",
            "hist shape in __getitem__: (7, 50, 6)\n",
            "hist shape in __getitem__: (7, 50, 6)\n",
            "hist shape in __getitem__: (7, 50, 6)\n",
            "hist shape in __getitem__: (7, 50, 6)\n",
            "hist shape in __getitem__: (7, 50, 6)\n",
            "hist shape in __getitem__: (7, 50, 6)\n",
            "hist shape in __getitem__: (7, 50, 6)\n",
            "hist shape in __getitem__: (7, 50, 6)\n",
            "hist shape in __getitem__: (7, 50, 6)\n",
            "hist shape in __getitem__: (7, 50, 6)\n",
            "hist shape in __getitem__: (7, 50, 6)\n",
            "hist shape in __getitem__: (7, 50, 6)\n",
            "hist shape in __getitem__: (7, 50, 6)\n",
            "hist shape in __getitem__: (7, 50, 6)\n",
            "hist shape in __getitem__: (7, 50, 6)\n",
            "hist shape in __getitem__: (7, 50, 6)\n",
            "hist shape in __getitem__: (7, 50, 6)\n",
            "hist shape in __getitem__: (7, 50, 6)\n",
            "hist shape in __getitem__: (7, 50, 6)\n",
            "hist shape in __getitem__: (7, 50, 6)\n",
            "hist shape in __getitem__: (7, 50, 6)\n",
            "hist shape in __getitem__: (7, 50, 6)\n",
            "hist shape in __getitem__: (7, 50, 6)\n",
            "hist shape in __getitem__: (7, 50, 6)\n",
            "hist shape in __getitem__: (7, 50, 6)\n",
            "hist shape in __getitem__: (7, 50, 6)\n",
            "hist shape in __getitem__: (7, 50, 6)\n",
            "hist shape in __getitem__: (7, 50, 6)\n",
            "hist shape in __getitem__: (7, 50, 6)\n",
            "hist shape in __getitem__: (7, 50, 6)\n",
            "hist shape in __getitem__: (7, 50, 6)\n",
            "hist shape in __getitem__: (7, 50, 6)\n",
            "hist shape in __getitem__: (7, 50, 6)\n",
            "hist shape in __getitem__: (7, 50, 6)\n",
            "hist shape in __getitem__: (7, 50, 6)\n",
            "hist shape in __getitem__: (7, 50, 6)\n",
            "hist shape in __getitem__: (7, 50, 6)\n",
            "hist shape in __getitem__: (7, 50, 6)\n",
            "hist shape in __getitem__: (7, 50, 6)\n",
            "hist shape in __getitem__: (7, 50, 6)\n",
            "hist shape in __getitem__: (7, 50, 6)\n",
            "hist shape in __getitem__: (7, 50, 6)\n",
            "hist shape in __getitem__: (7, 50, 6)\n",
            "hist shape in __getitem__: (7, 50, 6)\n",
            "hist shape in __getitem__: (7, 50, 6)\n",
            "hist shape in __getitem__: (7, 50, 6)\n",
            "hist shape in __getitem__: (7, 50, 6)\n",
            "hist shape in __getitem__: (7, 50, 6)\n",
            "hist shape in __getitem__: (7, 50, 6)\n",
            "hist shape in __getitem__: (7, 50, 6)\n",
            "hist shape in __getitem__: (7, 50, 6)\n",
            "hist shape in __getitem__: (7, 50, 6)\n",
            "hist shape in __getitem__: (7, 50, 6)\n",
            "hist shape in __getitem__: (7, 50, 6)\n",
            "hist shape in __getitem__: (7, 50, 6)\n",
            "hist shape in __getitem__: (7, 50, 6)\n",
            "hist shape in __getitem__: (7, 50, 6)\n",
            "hist shape in __getitem__: (7, 50, 6)\n",
            "hist shape in __getitem__: (7, 50, 6)\n",
            "hist shape in __getitem__: (7, 50, 6)\n",
            "hist shape in __getitem__: (7, 50, 6)\n",
            "hist shape in __getitem__: (7, 50, 6)\n",
            "hist shape in __getitem__: (7, 50, 6)\n",
            "hist shape in __getitem__: (7, 50, 6)\n",
            "hist shape in __getitem__: (7, 50, 6)\n",
            "hist shape in __getitem__: (7, 50, 6)\n",
            "hist shape in __getitem__: (7, 50, 6)\n",
            "hist shape in __getitem__: (7, 50, 6)\n",
            "hist shape in __getitem__: (7, 50, 6)\n",
            "hist shape in __getitem__: (7, 50, 6)\n",
            "hist shape in __getitem__: (7, 50, 6)\n",
            "hist shape in __getitem__: (7, 50, 6)\n",
            "hist shape in __getitem__: (7, 50, 6)\n",
            "hist shape in __getitem__: (7, 50, 6)\n",
            "hist shape in __getitem__: (7, 50, 6)\n",
            "hist shape in __getitem__: (7, 50, 6)\n",
            "hist shape in __getitem__: (7, 50, 6)\n",
            "hist shape in __getitem__: (7, 50, 6)\n",
            "hist shape in __getitem__: (7, 50, 6)\n",
            "hist shape in __getitem__: (7, 50, 6)\n",
            "hist shape in __getitem__: (7, 50, 6)\n",
            "hist shape in __getitem__: (7, 50, 6)\n",
            "hist shape in __getitem__: (7, 50, 6)\n",
            "hist shape in __getitem__: (7, 50, 6)\n",
            "hist shape in __getitem__: (7, 50, 6)\n",
            "hist shape in __getitem__: (7, 50, 6)\n",
            "hist shape in __getitem__: (7, 50, 6)\n",
            "hist shape in __getitem__: (7, 50, 6)\n",
            "hist shape in __getitem__: (7, 50, 6)\n",
            "hist shape in __getitem__: (7, 50, 6)\n",
            "hist shape in __getitem__: (7, 50, 6)\n",
            "hist shape in __getitem__: (7, 50, 6)\n",
            "hist shape in __getitem__: (7, 50, 6)\n",
            "hist shape in __getitem__: (7, 50, 6)\n",
            "hist shape in __getitem__: (7, 50, 6)\n",
            "hist shape in __getitem__: (7, 50, 6)\n",
            "hist shape in __getitem__: (7, 50, 6)\n",
            "hist shape in __getitem__: (7, 50, 6)\n",
            "hist shape in __getitem__: (7, 50, 6)\n",
            "hist shape in __getitem__: (7, 50, 6)\n",
            "hist shape in __getitem__: (7, 50, 6)\n",
            "hist shape in __getitem__: (7, 50, 6)\n",
            "hist shape in __getitem__: (7, 50, 6)\n",
            "hist shape in __getitem__: (7, 50, 6)\n",
            "hist shape in __getitem__: (7, 50, 6)\n",
            "hist shape in __getitem__: (7, 50, 6)\n",
            "hist shape in __getitem__: (7, 50, 6)\n",
            "hist shape in __getitem__: (7, 50, 6)\n",
            "hist shape in __getitem__: (7, 50, 6)\n",
            "hist shape in __getitem__: (7, 50, 6)\n",
            "hist shape in __getitem__: (7, 50, 6)\n",
            "hist shape in __getitem__: (7, 50, 6)\n",
            "hist shape in __getitem__: (7, 50, 6)\n",
            "hist shape in __getitem__: (7, 50, 6)\n",
            "hist shape in __getitem__: (7, 50, 6)\n",
            "hist shape in __getitem__: (7, 50, 6)\n",
            "hist shape in __getitem__: (7, 50, 6)\n",
            "hist shape in __getitem__: (7, 50, 6)\n",
            "hist shape in __getitem__: (7, 50, 6)\n",
            "hist shape in __getitem__: (7, 50, 6)\n",
            "hist shape in __getitem__: (7, 50, 6)\n",
            "hist shape in __getitem__: (7, 50, 6)\n",
            "hist shape in __getitem__: (7, 50, 6)\n",
            "hist shape in __getitem__: (7, 50, 6)\n",
            "hist shape in __getitem__: (7, 50, 6)\n",
            "hist shape in __getitem__: (7, 50, 6)\n",
            "hist shape in __getitem__: (7, 50, 6)\n",
            "hist shape in __getitem__: (7, 50, 6)\n",
            "hist shape in __getitem__: (7, 50, 6)\n",
            "hist shape in __getitem__: (7, 50, 6)\n",
            "hist shape in __getitem__: (7, 50, 6)\n",
            "hist shape in __getitem__: (7, 50, 6)\n",
            "hist shape in __getitem__: (7, 50, 6)\n",
            "hist shape in __getitem__: (7, 50, 6)\n",
            "hist shape in __getitem__: (7, 50, 6)\n",
            "hist shape in __getitem__: (7, 50, 6)\n",
            "hist shape in __getitem__: (7, 50, 6)\n",
            "hist shape in __getitem__: (7, 50, 6)\n",
            "hist shape in __getitem__: (7, 50, 6)\n",
            "hist shape in __getitem__: (7, 50, 6)\n",
            "hist shape in __getitem__: (7, 50, 6)\n",
            "hist shape in __getitem__: (7, 50, 6)\n",
            "hist shape in __getitem__: (7, 50, 6)\n",
            "hist shape in __getitem__: (7, 50, 6)\n",
            "hist shape in __getitem__: (7, 50, 6)\n",
            "hist shape in __getitem__: (7, 50, 6)\n",
            "hist shape in __getitem__: (7, 50, 6)\n",
            "hist shape in __getitem__: (7, 50, 6)\n",
            "hist shape in __getitem__: (7, 50, 6)\n",
            "hist shape in __getitem__: (7, 50, 6)\n",
            "hist shape in __getitem__: (7, 50, 6)\n",
            "hist shape in __getitem__: (7, 50, 6)\n",
            "hist shape in __getitem__: (7, 50, 6)\n",
            "hist shape in __getitem__: (7, 50, 6)\n",
            "hist shape in __getitem__: (7, 50, 6)\n",
            "hist shape in __getitem__: (7, 50, 6)\n",
            "hist shape in __getitem__: (7, 50, 6)\n",
            "hist shape in __getitem__: (7, 50, 6)\n",
            "hist shape in __getitem__: (7, 50, 6)\n",
            "hist shape in __getitem__: (7, 50, 6)\n",
            "hist shape in __getitem__: (7, 50, 6)\n",
            "hist shape in __getitem__: (7, 50, 6)\n",
            "hist shape in __getitem__: (7, 50, 6)\n",
            "hist shape in __getitem__: (7, 50, 6)\n",
            "hist shape in __getitem__: (7, 50, 6)\n",
            "hist shape in __getitem__: (7, 50, 6)\n",
            "hist shape in __getitem__: (7, 50, 6)\n",
            "hist shape in __getitem__: (7, 50, 6)\n",
            "hist shape in __getitem__: (7, 50, 6)\n",
            "hist shape in __getitem__: (7, 50, 6)\n",
            "hist shape in __getitem__: (7, 50, 6)\n",
            "hist shape in __getitem__: (7, 50, 6)\n",
            "hist shape in __getitem__: (7, 50, 6)\n",
            "hist shape in __getitem__: (7, 50, 6)\n",
            "hist shape in __getitem__: (7, 50, 6)\n",
            "hist shape in __getitem__: (7, 50, 6)\n",
            "hist shape in __getitem__: (7, 50, 6)\n",
            "hist shape in __getitem__: (7, 50, 6)\n",
            "hist shape in __getitem__: (7, 50, 6)\n",
            "hist shape in __getitem__: (7, 50, 6)\n",
            "hist shape in __getitem__: (7, 50, 6)\n",
            "hist shape in __getitem__: (7, 50, 6)\n",
            "hist shape in __getitem__: (7, 50, 6)\n",
            "hist shape in __getitem__: (7, 50, 6)\n",
            "hist shape in __getitem__: (7, 50, 6)\n",
            "hist shape in __getitem__: (7, 50, 6)\n",
            "hist shape in __getitem__: (7, 50, 6)\n",
            "hist shape in __getitem__: (7, 50, 6)\n",
            "hist shape in __getitem__: (7, 50, 6)\n",
            "hist shape in __getitem__: (7, 50, 6)\n",
            "hist shape in __getitem__: (7, 50, 6)\n",
            "hist shape in __getitem__: (7, 50, 6)\n",
            "hist shape in __getitem__: (7, 50, 6)\n",
            "hist shape in __getitem__: (7, 50, 6)\n",
            "hist shape in __getitem__: (7, 50, 6)\n",
            "hist shape in __getitem__: (7, 50, 6)\n",
            "hist shape in __getitem__: (7, 50, 6)\n",
            "hist shape in __getitem__: (7, 50, 6)\n",
            "hist shape in __getitem__: (7, 50, 6)\n",
            "hist shape in __getitem__: (7, 50, 6)\n",
            "hist shape in __getitem__: (7, 50, 6)\n",
            "hist shape in __getitem__: (7, 50, 6)\n",
            "hist shape in __getitem__: (7, 50, 6)\n",
            "hist shape in __getitem__: (7, 50, 6)\n",
            "hist shape in __getitem__: (7, 50, 6)\n",
            "hist shape in __getitem__: (7, 50, 6)\n",
            "hist shape in __getitem__: (7, 50, 6)\n",
            "hist shape in __getitem__: (7, 50, 6)\n",
            "hist shape in __getitem__: (7, 50, 6)\n",
            "hist shape in __getitem__: (7, 50, 6)\n",
            "hist shape in __getitem__: (7, 50, 6)\n",
            "hist shape in __getitem__: (7, 50, 6)\n",
            "hist shape in __getitem__: (7, 50, 6)\n",
            "hist shape in __getitem__: (7, 50, 6)\n",
            "hist shape in __getitem__: (7, 50, 6)\n",
            "hist shape in __getitem__: (7, 50, 6)\n",
            "hist shape in __getitem__: (7, 50, 6)\n",
            "hist shape in __getitem__: (7, 50, 6)\n",
            "hist shape in __getitem__: (7, 50, 6)\n",
            "hist shape in __getitem__: (7, 50, 6)\n",
            "hist shape in __getitem__: (7, 50, 6)\n",
            "hist shape in __getitem__: (7, 50, 6)\n",
            "hist shape in __getitem__: (7, 50, 6)\n",
            "hist shape in __getitem__: (7, 50, 6)\n",
            "hist shape in __getitem__: (7, 50, 6)\n",
            "hist shape in __getitem__: (7, 50, 6)\n",
            "hist shape in __getitem__: (7, 50, 6)\n",
            "hist shape in __getitem__: (7, 50, 6)\n",
            "hist shape in __getitem__: (7, 50, 6)\n",
            "hist shape in __getitem__: (7, 50, 6)\n",
            "hist shape in __getitem__: (7, 50, 6)\n",
            "hist shape in __getitem__: (7, 50, 6)\n",
            "hist shape in __getitem__: (7, 50, 6)\n",
            "hist shape in __getitem__: (7, 50, 6)\n",
            "hist shape in __getitem__: (7, 50, 6)\n",
            "hist shape in __getitem__: (7, 50, 6)\n",
            "hist shape in __getitem__: (7, 50, 6)\n",
            "hist shape in __getitem__: (7, 50, 6)\n",
            "hist shape in __getitem__: (7, 50, 6)\n",
            "hist shape in __getitem__: (7, 50, 6)\n",
            "hist shape in __getitem__: (7, 50, 6)\n",
            "hist shape in __getitem__: (7, 50, 6)\n",
            "hist shape in __getitem__: (7, 50, 6)\n",
            "hist shape in __getitem__: (7, 50, 6)\n",
            "hist shape in __getitem__: (7, 50, 6)\n",
            "hist shape in __getitem__: (7, 50, 6)\n",
            "hist shape in __getitem__: (7, 50, 6)\n",
            "hist shape in __getitem__: (7, 50, 6)\n",
            "hist shape in __getitem__: (7, 50, 6)\n",
            "hist shape in __getitem__: (7, 50, 6)\n",
            "hist shape in __getitem__: (7, 50, 6)\n",
            "hist shape in __getitem__: (7, 50, 6)\n",
            "hist shape in __getitem__: (7, 50, 6)\n",
            "hist shape in __getitem__: (7, 50, 6)\n",
            "hist shape in __getitem__: (7, 50, 6)\n",
            "hist shape in __getitem__: (7, 50, 6)\n",
            "hist shape in __getitem__: (7, 50, 6)\n",
            "hist shape in __getitem__: (7, 50, 6)\n",
            "hist shape in __getitem__: (7, 50, 6)\n",
            "hist shape in __getitem__: (7, 50, 6)\n",
            "hist shape in __getitem__: (7, 50, 6)\n",
            "hist shape in __getitem__: (7, 50, 6)\n",
            "hist shape in __getitem__: (7, 50, 6)\n",
            "hist shape in __getitem__: (7, 50, 6)\n",
            "hist shape in __getitem__: (7, 50, 6)\n",
            "hist shape in __getitem__: (7, 50, 6)\n",
            "hist shape in __getitem__: (7, 50, 6)\n",
            "hist shape in __getitem__: (7, 50, 6)\n",
            "hist shape in __getitem__: (7, 50, 6)\n",
            "hist shape in __getitem__: (7, 50, 6)\n",
            "hist shape in __getitem__: (7, 50, 6)\n",
            "hist shape in __getitem__: (7, 50, 6)\n",
            "hist shape in __getitem__: (7, 50, 6)\n",
            "hist shape in __getitem__: (7, 50, 6)\n",
            "hist shape in __getitem__: (7, 50, 6)\n",
            "hist shape in __getitem__: (7, 50, 6)\n",
            "hist shape in __getitem__: (7, 50, 6)\n",
            "hist shape in __getitem__: (7, 50, 6)\n",
            "hist shape in __getitem__: (7, 50, 6)\n",
            "hist shape in __getitem__: (7, 50, 6)\n",
            "hist shape in __getitem__: (7, 50, 6)\n",
            "hist shape in __getitem__: (7, 50, 6)\n",
            "hist shape in __getitem__: (7, 50, 6)\n",
            "hist shape in __getitem__: (7, 50, 6)\n",
            "hist shape in __getitem__: (7, 50, 6)\n",
            "hist shape in __getitem__: (7, 50, 6)\n",
            "hist shape in __getitem__: (7, 50, 6)\n",
            "hist shape in __getitem__: (7, 50, 6)\n",
            "hist shape in __getitem__: (7, 50, 6)\n",
            "hist shape in __getitem__: (7, 50, 6)\n",
            "hist shape in __getitem__: (7, 50, 6)\n",
            "hist shape in __getitem__: (7, 50, 6)\n",
            "hist shape in __getitem__: (7, 50, 6)\n",
            "hist shape in __getitem__: (7, 50, 6)\n",
            "hist shape in __getitem__: (7, 50, 6)\n",
            "hist shape in __getitem__: (7, 50, 6)\n",
            "hist shape in __getitem__: (7, 50, 6)\n",
            "hist shape in __getitem__: (7, 50, 6)\n",
            "hist shape in __getitem__: (7, 50, 6)\n",
            "hist shape in __getitem__: (7, 50, 6)\n",
            "hist shape in __getitem__: (7, 50, 6)\n",
            "hist shape in __getitem__: (7, 50, 6)\n",
            "hist shape in __getitem__: (7, 50, 6)\n",
            "hist shape in __getitem__: (7, 50, 6)\n",
            "hist shape in __getitem__: (7, 50, 6)\n",
            "hist shape in __getitem__: (7, 50, 6)\n",
            "hist shape in __getitem__: (7, 50, 6)\n",
            "hist shape in __getitem__: (7, 50, 6)\n",
            "hist shape in __getitem__: (7, 50, 6)\n",
            "hist shape in __getitem__: (7, 50, 6)\n",
            "hist shape in __getitem__: (7, 50, 6)\n",
            "hist shape in __getitem__: (7, 50, 6)\n",
            "hist shape in __getitem__: (7, 50, 6)\n",
            "hist shape in __getitem__: (7, 50, 6)\n",
            "hist shape in __getitem__: (7, 50, 6)\n",
            "hist shape in __getitem__: (7, 50, 6)\n",
            "hist shape in __getitem__: (7, 50, 6)\n",
            "hist shape in __getitem__: (7, 50, 6)\n",
            "hist shape in __getitem__: (7, 50, 6)\n",
            "hist shape in __getitem__: (7, 50, 6)\n",
            "hist shape in __getitem__: (7, 50, 6)\n",
            "hist shape in __getitem__: (7, 50, 6)\n",
            "hist shape in __getitem__: (7, 50, 6)\n",
            "hist shape in __getitem__: (7, 50, 6)\n",
            "hist shape in __getitem__: (7, 50, 6)\n",
            "hist shape in __getitem__: (7, 50, 6)\n",
            "hist shape in __getitem__: (7, 50, 6)\n",
            "hist shape in __getitem__: (7, 50, 6)\n",
            "hist shape in __getitem__: (7, 50, 6)\n",
            "hist shape in __getitem__: (7, 50, 6)\n",
            "hist shape in __getitem__: (7, 50, 6)\n",
            "hist shape in __getitem__: (7, 50, 6)\n",
            "hist shape in __getitem__: (7, 50, 6)\n",
            "hist shape in __getitem__: (7, 50, 6)\n",
            "hist shape in __getitem__: (7, 50, 6)\n",
            "hist shape in __getitem__: (7, 50, 6)\n",
            "hist shape in __getitem__: (7, 50, 6)\n",
            "hist shape in __getitem__: (7, 50, 6)\n",
            "hist shape in __getitem__: (7, 50, 6)\n",
            "hist shape in __getitem__: (7, 50, 6)\n",
            "hist shape in __getitem__: (7, 50, 6)\n",
            "hist shape in __getitem__: (7, 50, 6)\n",
            "hist shape in __getitem__: (7, 50, 6)\n",
            "hist shape in __getitem__: (7, 50, 6)\n",
            "hist shape in __getitem__: (7, 50, 6)\n",
            "hist shape in __getitem__: (7, 50, 6)\n",
            "hist shape in __getitem__: (7, 50, 6)\n",
            "hist shape in __getitem__: (7, 50, 6)\n",
            "hist shape in __getitem__: (7, 50, 6)\n",
            "hist shape in __getitem__: (7, 50, 6)\n",
            "hist shape in __getitem__: (7, 50, 6)\n",
            "hist shape in __getitem__: (7, 50, 6)\n",
            "hist shape in __getitem__: (7, 50, 6)\n",
            "hist shape in __getitem__: (7, 50, 6)\n",
            "hist shape in __getitem__: (7, 50, 6)\n",
            "hist shape in __getitem__: (7, 50, 6)\n",
            "hist shape in __getitem__: (7, 50, 6)\n",
            "hist shape in __getitem__: (7, 50, 6)\n",
            "hist shape in __getitem__: (7, 50, 6)\n",
            "hist shape in __getitem__: (7, 50, 6)\n",
            "hist shape in __getitem__: (7, 50, 6)\n",
            "hist shape in __getitem__: (7, 50, 6)\n",
            "hist shape in __getitem__: (7, 50, 6)\n",
            "hist shape in __getitem__: (7, 50, 6)\n",
            "hist shape in __getitem__: (7, 50, 6)\n",
            "hist shape in __getitem__: (7, 50, 6)\n",
            "hist shape in __getitem__: (7, 50, 6)\n",
            "hist shape in __getitem__: (7, 50, 6)\n",
            "hist shape in __getitem__: (7, 50, 6)\n",
            "hist shape in __getitem__: (7, 50, 6)\n",
            "hist shape in __getitem__: (7, 50, 6)\n",
            "hist shape in __getitem__: (7, 50, 6)\n",
            "hist shape in __getitem__: (7, 50, 6)\n",
            "hist shape in __getitem__: (7, 50, 6)\n",
            "hist shape in __getitem__: (7, 50, 6)\n",
            "hist shape in __getitem__: (7, 50, 6)\n",
            "hist shape in __getitem__: (7, 50, 6)\n",
            "hist shape in __getitem__: (7, 50, 6)\n",
            "hist shape in __getitem__: (7, 50, 6)\n",
            "hist shape in __getitem__: (7, 50, 6)\n",
            "hist shape in __getitem__: (7, 50, 6)\n",
            "hist shape in __getitem__: (7, 50, 6)\n",
            "hist shape in __getitem__: (7, 50, 6)\n",
            "hist shape in __getitem__: (7, 50, 6)\n",
            "hist shape in __getitem__: (7, 50, 6)\n",
            "hist shape in __getitem__: (7, 50, 6)\n",
            "hist shape in __getitem__: (7, 50, 6)\n",
            "hist shape in __getitem__: (7, 50, 6)\n",
            "hist shape in __getitem__: (7, 50, 6)\n",
            "hist shape in __getitem__: (7, 50, 6)\n",
            "hist shape in __getitem__: (7, 50, 6)\n",
            "hist shape in __getitem__: (7, 50, 6)\n",
            "hist shape in __getitem__: (7, 50, 6)\n",
            "hist shape in __getitem__: (7, 50, 6)\n",
            "hist shape in __getitem__: (7, 50, 6)\n",
            "hist shape in __getitem__: (7, 50, 6)\n",
            "hist shape in __getitem__: (7, 50, 6)\n",
            "hist shape in __getitem__: (7, 50, 6)\n",
            "hist shape in __getitem__: (7, 50, 6)\n",
            "hist shape in __getitem__: (7, 50, 6)\n",
            "hist shape in __getitem__: (7, 50, 6)\n",
            "hist shape in __getitem__: (7, 50, 6)\n",
            "hist shape in __getitem__: (7, 50, 6)\n",
            "hist shape in __getitem__: (7, 50, 6)\n",
            "hist shape in __getitem__: (7, 50, 6)\n",
            "hist shape in __getitem__: (7, 50, 6)\n",
            "hist shape in __getitem__: (7, 50, 6)\n",
            "hist shape in __getitem__: (7, 50, 6)\n",
            "hist shape in __getitem__: (7, 50, 6)\n",
            "hist shape in __getitem__: (7, 50, 6)\n",
            "hist shape in __getitem__: (7, 50, 6)\n",
            "hist shape in __getitem__: (7, 50, 6)\n",
            "hist shape in __getitem__: (7, 50, 6)\n",
            "hist shape in __getitem__: (7, 50, 6)\n",
            "hist shape in __getitem__: (7, 50, 6)\n",
            "hist shape in __getitem__: (7, 50, 6)\n",
            "hist shape in __getitem__: (7, 50, 6)\n",
            "hist shape in __getitem__: (7, 50, 6)\n",
            "hist shape in __getitem__: (7, 50, 6)\n",
            "hist shape in __getitem__: (7, 50, 6)\n",
            "hist shape in __getitem__: (7, 50, 6)\n",
            "hist shape in __getitem__: (7, 50, 6)\n",
            "hist shape in __getitem__: (7, 50, 6)\n",
            "hist shape in __getitem__: (7, 50, 6)\n",
            "hist shape in __getitem__: (7, 50, 6)\n",
            "hist shape in __getitem__: (7, 50, 6)\n",
            "hist shape in __getitem__: (7, 50, 6)\n",
            "hist shape in __getitem__: (7, 50, 6)\n",
            "hist shape in __getitem__: (7, 50, 6)\n",
            "hist shape in __getitem__: (7, 50, 6)\n",
            "hist shape in __getitem__: (7, 50, 6)\n",
            "hist shape in __getitem__: (7, 50, 6)\n",
            "hist shape in __getitem__: (7, 50, 6)\n",
            "hist shape in __getitem__: (7, 50, 6)\n",
            "hist shape in __getitem__: (7, 50, 6)\n",
            "hist shape in __getitem__: (7, 50, 6)\n",
            "hist shape in __getitem__: (7, 50, 6)\n",
            "hist shape in __getitem__: (7, 50, 6)\n",
            "hist shape in __getitem__: (7, 50, 6)\n",
            "hist shape in __getitem__: (7, 50, 6)\n",
            "hist shape in __getitem__: (7, 50, 6)\n",
            "hist shape in __getitem__: (7, 50, 6)\n",
            "hist shape in __getitem__: (7, 50, 6)\n",
            "hist shape in __getitem__: (7, 50, 6)\n",
            "hist shape in __getitem__: (7, 50, 6)\n",
            "hist shape in __getitem__: (7, 50, 6)\n",
            "hist shape in __getitem__: (7, 50, 6)\n",
            "hist shape in __getitem__: (7, 50, 6)\n",
            "hist shape in __getitem__: (7, 50, 6)\n",
            "hist shape in __getitem__: (7, 50, 6)\n",
            "hist shape in __getitem__: (7, 50, 6)\n",
            "hist shape in __getitem__: (7, 50, 6)\n",
            "hist shape in __getitem__: (7, 50, 6)\n",
            "hist shape in __getitem__: (7, 50, 6)\n",
            "hist shape in __getitem__: (7, 50, 6)\n",
            "hist shape in __getitem__: (7, 50, 6)\n",
            "hist shape in __getitem__: (7, 50, 6)\n",
            "hist shape in __getitem__: (7, 50, 6)\n",
            "hist shape in __getitem__: (7, 50, 6)\n",
            "hist shape in __getitem__: (7, 50, 6)\n",
            "hist shape in __getitem__: (7, 50, 6)\n",
            "hist shape in __getitem__: (7, 50, 6)\n",
            "hist shape in __getitem__: (7, 50, 6)\n",
            "hist shape in __getitem__: (7, 50, 6)\n",
            "hist shape in __getitem__: (7, 50, 6)\n",
            "hist shape in __getitem__: (7, 50, 6)\n",
            "hist shape in __getitem__: (7, 50, 6)\n",
            "hist shape in __getitem__: (7, 50, 6)\n",
            "hist shape in __getitem__: (7, 50, 6)\n",
            "hist shape in __getitem__: (7, 50, 6)\n",
            "hist shape in __getitem__: (7, 50, 6)\n",
            "hist shape in __getitem__: (7, 50, 6)\n",
            "hist shape in __getitem__: (7, 50, 6)\n",
            "hist shape in __getitem__: (7, 50, 6)\n",
            "hist shape in __getitem__: (7, 50, 6)\n",
            "hist shape in __getitem__: (7, 50, 6)\n",
            "hist shape in __getitem__: (7, 50, 6)\n",
            "hist shape in __getitem__: (7, 50, 6)\n",
            "hist shape in __getitem__: (7, 50, 6)\n",
            "hist shape in __getitem__: (7, 50, 6)\n",
            "hist shape in __getitem__: (7, 50, 6)\n",
            "hist shape in __getitem__: (7, 50, 6)\n",
            "hist shape in __getitem__: (7, 50, 6)\n",
            "hist shape in __getitem__: (7, 50, 6)\n",
            "hist shape in __getitem__: (7, 50, 6)\n",
            "hist shape in __getitem__: (7, 50, 6)\n",
            "hist shape in __getitem__: (7, 50, 6)\n",
            "hist shape in __getitem__: (7, 50, 6)\n",
            "hist shape in __getitem__: (7, 50, 6)\n",
            "hist shape in __getitem__: (7, 50, 6)\n",
            "hist shape in __getitem__: (7, 50, 6)\n",
            "hist shape in __getitem__: (7, 50, 6)\n",
            "hist shape in __getitem__: (7, 50, 6)\n",
            "hist shape in __getitem__: (7, 50, 6)\n",
            "hist shape in __getitem__: (7, 50, 6)\n",
            "hist shape in __getitem__: (7, 50, 6)\n",
            "hist shape in __getitem__: (7, 50, 6)\n",
            "hist shape in __getitem__: (7, 50, 6)\n",
            "hist shape in __getitem__: (7, 50, 6)\n",
            "hist shape in __getitem__: (7, 50, 6)\n",
            "hist shape in __getitem__: (7, 50, 6)\n",
            "hist shape in __getitem__: (7, 50, 6)\n",
            "hist shape in __getitem__: (7, 50, 6)\n",
            "hist shape in __getitem__: (7, 50, 6)\n",
            "hist shape in __getitem__: (7, 50, 6)\n",
            "hist shape in __getitem__: (7, 50, 6)\n",
            "hist shape in __getitem__: (7, 50, 6)\n",
            "hist shape in __getitem__: (7, 50, 6)\n",
            "hist shape in __getitem__: (7, 50, 6)\n",
            "hist shape in __getitem__: (7, 50, 6)\n",
            "hist shape in __getitem__: (7, 50, 6)\n",
            "hist shape in __getitem__: (7, 50, 6)\n",
            "hist shape in __getitem__: (7, 50, 6)\n",
            "hist shape in __getitem__: (7, 50, 6)\n",
            "hist shape in __getitem__: (7, 50, 6)\n",
            "hist shape in __getitem__: (7, 50, 6)\n",
            "hist shape in __getitem__: (7, 50, 6)\n",
            "hist shape in __getitem__: (7, 50, 6)\n",
            "hist shape in __getitem__: (7, 50, 6)\n",
            "hist shape in __getitem__: (7, 50, 6)\n",
            "hist shape in __getitem__: (7, 50, 6)\n",
            "hist shape in __getitem__: (7, 50, 6)\n",
            "hist shape in __getitem__: (7, 50, 6)\n",
            "hist shape in __getitem__: (7, 50, 6)\n",
            "hist shape in __getitem__: (7, 50, 6)\n",
            "hist shape in __getitem__: (7, 50, 6)\n",
            "hist shape in __getitem__: (7, 50, 6)\n",
            "hist shape in __getitem__: (7, 50, 6)\n",
            "hist shape in __getitem__: (7, 50, 6)\n",
            "hist shape in __getitem__: (7, 50, 6)\n",
            "hist shape in __getitem__: (7, 50, 6)\n",
            "hist shape in __getitem__: (7, 50, 6)\n",
            "hist shape in __getitem__: (7, 50, 6)\n",
            "hist shape in __getitem__: (7, 50, 6)\n",
            "hist shape in __getitem__: (7, 50, 6)\n",
            "hist shape in __getitem__: (7, 50, 6)\n",
            "hist shape in __getitem__: (7, 50, 6)\n",
            "hist shape in __getitem__: (7, 50, 6)\n",
            "hist shape in __getitem__: (7, 50, 6)\n",
            "hist shape in __getitem__: (7, 50, 6)\n",
            "hist shape in __getitem__: (7, 50, 6)\n",
            "hist shape in __getitem__: (7, 50, 6)\n",
            "hist shape in __getitem__: (7, 50, 6)\n",
            "hist shape in __getitem__: (7, 50, 6)\n",
            "hist shape in __getitem__: (7, 50, 6)\n",
            "hist shape in __getitem__: (7, 50, 6)\n",
            "hist shape in __getitem__: (7, 50, 6)\n",
            "hist shape in __getitem__: (7, 50, 6)\n",
            "hist shape in __getitem__: (7, 50, 6)\n",
            "hist shape in __getitem__: (7, 50, 6)\n",
            "hist shape in __getitem__: (7, 50, 6)\n",
            "hist shape in __getitem__: (7, 50, 6)\n",
            "hist shape in __getitem__: (7, 50, 6)\n",
            "hist shape in __getitem__: (7, 50, 6)\n",
            "hist shape in __getitem__: (7, 50, 6)\n",
            "hist shape in __getitem__: (7, 50, 6)\n",
            "hist shape in __getitem__: (7, 50, 6)\n",
            "hist shape in __getitem__: (7, 50, 6)\n",
            "hist shape in __getitem__: (7, 50, 6)\n",
            "hist shape in __getitem__: (7, 50, 6)\n",
            "hist shape in __getitem__: (7, 50, 6)\n",
            "hist shape in __getitem__: (7, 50, 6)\n",
            "hist shape in __getitem__: (7, 50, 6)\n",
            "hist shape in __getitem__: (7, 50, 6)\n",
            "hist shape in __getitem__: (7, 50, 6)\n",
            "hist shape in __getitem__: (7, 50, 6)\n",
            "hist shape in __getitem__: (7, 50, 6)\n",
            "hist shape in __getitem__: (7, 50, 6)\n",
            "hist shape in __getitem__: (7, 50, 6)\n",
            "hist shape in __getitem__: (7, 50, 6)\n",
            "hist shape in __getitem__: (7, 50, 6)\n",
            "hist shape in __getitem__: (7, 50, 6)\n",
            "hist shape in __getitem__: (7, 50, 6)\n",
            "hist shape in __getitem__: (7, 50, 6)\n",
            "hist shape in __getitem__: (7, 50, 6)\n",
            "hist shape in __getitem__: (7, 50, 6)\n",
            "hist shape in __getitem__: (7, 50, 6)\n",
            "hist shape in __getitem__: (7, 50, 6)\n",
            "hist shape in __getitem__: (7, 50, 6)\n",
            "hist shape in __getitem__: (7, 50, 6)\n",
            "hist shape in __getitem__: (7, 50, 6)\n",
            "hist shape in __getitem__: (7, 50, 6)\n",
            "hist shape in __getitem__: (7, 50, 6)\n",
            "hist shape in __getitem__: (7, 50, 6)\n",
            "hist shape in __getitem__: (7, 50, 6)\n",
            "hist shape in __getitem__: (7, 50, 6)\n",
            "hist shape in __getitem__: (7, 50, 6)\n",
            "hist shape in __getitem__: (7, 50, 6)\n",
            "hist shape in __getitem__: (7, 50, 6)\n",
            "hist shape in __getitem__: (7, 50, 6)\n",
            "hist shape in __getitem__: (7, 50, 6)\n",
            "hist shape in __getitem__: (7, 50, 6)\n",
            "hist shape in __getitem__: (7, 50, 6)\n",
            "hist shape in __getitem__: (7, 50, 6)\n",
            "hist shape in __getitem__: (7, 50, 6)\n",
            "hist shape in __getitem__: (7, 50, 6)\n",
            "hist shape in __getitem__: (7, 50, 6)\n",
            "hist shape in __getitem__: (7, 50, 6)\n",
            "hist shape in __getitem__: (7, 50, 6)\n",
            "hist shape in __getitem__: (7, 50, 6)\n",
            "hist shape in __getitem__: (7, 50, 6)\n",
            "hist shape in __getitem__: (7, 50, 6)\n",
            "hist shape in __getitem__: (7, 50, 6)\n",
            "hist shape in __getitem__: (7, 50, 6)\n",
            "hist shape in __getitem__: (7, 50, 6)\n",
            "hist shape in __getitem__: (7, 50, 6)\n",
            "hist shape in __getitem__: (7, 50, 6)\n",
            "hist shape in __getitem__: (7, 50, 6)\n",
            "hist shape in __getitem__: (7, 50, 6)\n",
            "hist shape in __getitem__: (7, 50, 6)\n",
            "hist shape in __getitem__: (7, 50, 6)\n",
            "hist shape in __getitem__: (7, 50, 6)\n",
            "hist shape in __getitem__: (7, 50, 6)\n",
            "hist shape in __getitem__: (7, 50, 6)\n",
            "hist shape in __getitem__: (7, 50, 6)\n"
          ]
        }
      ],
      "source": [
        "test_dataset = TrajectoryDatasetTest(test_data, scale=scale)\n",
        "test_loader = DataLoader(test_dataset, batch_size=32, shuffle=False,\n",
        "                         collate_fn=lambda xs: Batch.from_data_list(xs))\n",
        "\n",
        "best_model = torch.load(\"best_model.pt\")\n",
        "# model = LinearRegressionModel().to(device)\n",
        "# model = MLP(50 * 50 * 6, 60 * 2).to(device)\n",
        "model = LSTM().to(device)\n",
        "\n",
        "model.load_state_dict(best_model)\n",
        "model.eval()\n",
        "\n",
        "pred_list = []\n",
        "with torch.no_grad():\n",
        "    for batch in test_loader:\n",
        "        batch = batch.to(device)\n",
        "        pred_norm = model(batch)\n",
        "\n",
        "        # Reshape the prediction to (N, 60, 2)\n",
        "        pred = pred_norm * batch.scale.view(-1,1,1) + batch.origin.unsqueeze(1)\n",
        "        pred_list.append(pred.cpu().numpy())\n",
        "pred_list = np.concatenate(pred_list, axis=0)  # (N,60,2)\n",
        "pred_output = pred_list.reshape(-1, 2)  # (N*60, 2)\n",
        "output_df = pd.DataFrame(pred_output, columns=['x', 'y'])\n",
        "output_df.index.name = 'index'\n",
        "output_df.to_csv('submission.csv', index=True)"
      ]
    },
    {
      "cell_type": "markdown",
      "metadata": {
        "id": "I2NKgrH6nU38"
      },
      "source": [
        "## Step 4: Summarize your experiments and results in table and figures in the submitted PDF file for Question 3 Problem A"
      ]
    },
    {
      "cell_type": "markdown",
      "metadata": {
        "id": "Pba9tc-znU38"
      },
      "source": [
        "## Step 5: Analyze the results, identify the issues and plan for the improvement in the submitted PDF file for Question 3 Problem B"
      ]
    }
  ],
  "metadata": {
    "kernelspec": {
      "display_name": "Python 3",
      "name": "python3"
    },
    "language_info": {
      "codemirror_mode": {
        "name": "ipython",
        "version": 3
      },
      "file_extension": ".py",
      "mimetype": "text/x-python",
      "name": "python",
      "nbconvert_exporter": "python",
      "pygments_lexer": "ipython3",
      "version": "3.8.16"
    },
    "colab": {
      "provenance": [],
      "gpuType": "T4"
    },
    "accelerator": "GPU"
  },
  "nbformat": 4,
  "nbformat_minor": 0
}